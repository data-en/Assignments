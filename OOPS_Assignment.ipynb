{
 "cells": [
  {
   "cell_type": "markdown",
   "id": "24867fa9",
   "metadata": {},
   "source": [
    "# OOPS ASSIGNMENT"
   ]
  },
  {
   "cell_type": "markdown",
   "id": "726abc83",
   "metadata": {},
   "source": [
    "#### Q1. Explain Class and Object with respect to Object-Oriented Programming. Give a suitable example."
   ]
  },
  {
   "cell_type": "markdown",
   "id": "957bc6b9",
   "metadata": {},
   "source": [
    "1. CLASS --> \n",
    "    1. Class in an blueprint of an object or it is a prototype from which objects are created. \n",
    "    2. Classes bundle the data and functionality together.\n",
    "    3. Creating a class creates a new type of object, allowing new instance of that type to be made.\n",
    "    4. Each Class instance can have its attributes to maintain class state.\n",
    "    5. Class instances can also have methods(defined by its class) for modifying its state.\n",
    "    6. Syntax :\n",
    "    7. class class_nm:\n",
    "        > data members\n",
    "        \n",
    "        > member functions\n",
    "        \n",
    "2. OBJECTS -->\n",
    "    1. Object is an instance of Class. \n",
    "    2. obj = ClassName()\n",
    "    3. print(obj.attr)\n",
    "    4. Data can be taken as an input with __init__ method.\n",
    "    \n",
    "    \n",
    "e.g. Create a class which takes first name and last name as an input and returns it together."
   ]
  },
  {
   "cell_type": "code",
   "execution_count": 5,
   "id": "83b487a4",
   "metadata": {},
   "outputs": [],
   "source": [
    "# e.g. Create a class which takes breadth and height as an input and find the area of Rectangle.\n",
    "class Name: \n",
    "    def __init__(self,first_nm,last_nm):\n",
    "        self.fn = first_nm\n",
    "        self.ln = last_nm\n",
    "        \n",
    "    def concat(self):\n",
    "        print(self.fn + ' ' + self.ln)"
   ]
  },
  {
   "cell_type": "code",
   "execution_count": 6,
   "id": "1f32ac72",
   "metadata": {},
   "outputs": [
    {
     "name": "stdout",
     "output_type": "stream",
     "text": [
      "Krish Naik\n"
     ]
    }
   ],
   "source": [
    "nm = Name('Krish','Naik')\n",
    "nm.concat()"
   ]
  },
  {
   "cell_type": "markdown",
   "id": "060db6a4",
   "metadata": {},
   "source": [
    "#### Q2. Name the four pillars of OOPs.\n"
   ]
  },
  {
   "cell_type": "markdown",
   "id": "075aa7a0",
   "metadata": {},
   "source": [
    "1. OOPS stands for Object-Oriented-Programming-System\n",
    "2. Object is a paradigm that contains data and code in the form of fields and procedures resp..\n",
    "3. Four pillars of OOPS are Polymorphism, Encapsulation, Inheritance and Data Abstraction.\n",
    "    1. Polymorphism --> It means many forms, one function can simply perform operations on different types of data.\n",
    "    2. Encapsulation --> It is an idea which which allow you to prevent direct access or modification of data.\n",
    "    3. Inheritance --> The Child Class(new class) inherits the property of Parent Class.There are two main types of Inheritance-\n",
    "        1. Multilevel inheritance --> One class inherits the property of previous one.\n",
    "        2. Multiple inheritance --> The last class inherits the property of previous two classes together.\n",
    "    4. Abstraction --> It is a bluepring which is used to create the structure for a particular Class."
   ]
  },
  {
   "cell_type": "markdown",
   "id": "e8f2c4a9",
   "metadata": {},
   "source": [
    "#### Q3. Explain why the __init__() function is used. Give a suitable example."
   ]
  },
  {
   "cell_type": "markdown",
   "id": "3a468c4a",
   "metadata": {},
   "source": [
    "1. init() function is used to intialize the attributes or variables of an Object.\n",
    "2. It is called as Constructor which is used to intialize the Object of the Data. \n",
    "3. The data is provided at the same time when the object of a Class is created.\n",
    "4. It is used as : __init__\n",
    "5. When we define a Class without Constructor, Python automatically creates a default constructor that doesn't do anything. \n",
    "6. e.g. Design a class Box and find it's volume by taking three sides (x,y,z) as an input."
   ]
  },
  {
   "cell_type": "code",
   "execution_count": 8,
   "id": "99b9df5d",
   "metadata": {},
   "outputs": [
    {
     "name": "stdout",
     "output_type": "stream",
     "text": [
      "Volume of a Box is 60\n"
     ]
    }
   ],
   "source": [
    "# e.g. Design a class Box and find it's volume by taking three sides (x,y,z) as an input.\n",
    "\n",
    "class Box:\n",
    "    def __init__(self,length,breadth,height):\n",
    "        self.x = length\n",
    "        self.y = breadth\n",
    "        self.z = height\n",
    "    \n",
    "    def volume(self):\n",
    "        volume = self.x*self.y*self.z\n",
    "        print(\"Volume of a Box is {}\".format(volume))\n",
    "        \n",
    "        \n",
    "box = Box(3,4,5)\n",
    "box.volume()"
   ]
  },
  {
   "cell_type": "markdown",
   "id": "d56ed678",
   "metadata": {},
   "source": [
    "#### Q4. Why self is used in OOPs?"
   ]
  },
  {
   "cell_type": "markdown",
   "id": "7ca44efc",
   "metadata": {},
   "source": [
    "1. \"self\" represents the instance or object of the class.\n",
    "2. It does not need to be named as \"self\", we can give any name to it which represents the instance of class.\n",
    "3. It is reserved word which represents the instane of class and is constant for all the functions in that particular class.\n",
    "4. By using \"self\" we can access and methods of a class. \n",
    "5. It has to be the first parameter of any function.\n",
    "6. Using only self in any function do not perform any operation,it only represents the instance of a Class."
   ]
  },
  {
   "cell_type": "code",
   "execution_count": 10,
   "id": "1cf88b1d",
   "metadata": {},
   "outputs": [
    {
     "name": "stdout",
     "output_type": "stream",
     "text": [
      "Welcome to PWSkills : Avantika\n"
     ]
    }
   ],
   "source": [
    "# For example --> \n",
    "class pwskills : \n",
    "    def __init__(self,name):\n",
    "        self.nm = name\n",
    "    def print_welcome_msg(self):\n",
    "        print(\"Welcome to PWSkills : {}\".format(self.nm))\n",
    "        \n",
    "pw = pwskills('Avantika')\n",
    "pw.print_welcome_msg()"
   ]
  },
  {
   "cell_type": "markdown",
   "id": "bd66b5d0",
   "metadata": {},
   "source": [
    "#### Q5. What is inheritance? Give an example for each type of inheritance."
   ]
  },
  {
   "cell_type": "markdown",
   "id": "78b72926",
   "metadata": {},
   "source": [
    "1. The Inheritance is a technique used to derive new classes from existing classes.\n",
    "2. The new class inherits the property of old class.\n",
    "3. Also called as reusability and is used to reuse the code written previously.\n",
    "4. It adds additional features to the derived class(new class or child class) by using the features in that particular class as it is.\n",
    "\n",
    "1. There are two main types of Inheritance : \n",
    "    1. Multilevel Inheritance = Level by level, the functions are derived from each class, suppose there are 3 classes,then the class2 inherits class1 properties and class3 inherits class2 properties which automatically includes class1 properties. \n",
    "    2. Multiple Inheritance = The one class inherits the property of previous two classes together."
   ]
  },
  {
   "cell_type": "code",
   "execution_count": 11,
   "id": "0b4ea8c3",
   "metadata": {},
   "outputs": [],
   "source": [
    "# For Example -->\n",
    "# 1. Multilevel Inheritance\n",
    "class class1:\n",
    "    def test_class1(self):\n",
    "        print('Data Science Masters')"
   ]
  },
  {
   "cell_type": "code",
   "execution_count": 14,
   "id": "d6306db3",
   "metadata": {},
   "outputs": [],
   "source": [
    "class class2(class1):\n",
    "    def test_class2(self):\n",
    "        print('Course fees : 3500')"
   ]
  },
  {
   "cell_type": "code",
   "execution_count": 15,
   "id": "1c78e423",
   "metadata": {},
   "outputs": [],
   "source": [
    "class class3(class2):\n",
    "    def test_class3(self):\n",
    "        print('Institute : PWSkills')"
   ]
  },
  {
   "cell_type": "code",
   "execution_count": 17,
   "id": "2916ae79",
   "metadata": {},
   "outputs": [
    {
     "name": "stdout",
     "output_type": "stream",
     "text": [
      "    Class 1    \n",
      "Data Science Masters\n",
      "    Class 2    \n",
      "Data Science Masters\n",
      "Course fees : 3500\n",
      "    Class 3    \n",
      "Data Science Masters\n",
      "Course fees : 3500\n",
      "Institute : PWSkills\n"
     ]
    }
   ],
   "source": [
    "# Class 1\n",
    "c1 = class1()\n",
    "print(\"    Class 1    \")\n",
    "c1.test_class1()\n",
    "\n",
    "# Class 2\n",
    "c2 = class2()\n",
    "print(\"    Class 2    \")\n",
    "c2.test_class1()\n",
    "c2.test_class2()\n",
    "\n",
    "# Class 3\n",
    "c3 = class3()\n",
    "print(\"    Class 3    \")\n",
    "c3.test_class1()\n",
    "c3.test_class2()\n",
    "c3.test_class3()"
   ]
  },
  {
   "cell_type": "code",
   "execution_count": 18,
   "id": "1899af1d",
   "metadata": {},
   "outputs": [],
   "source": [
    "# Multiple Inheritance \n",
    "class class1:\n",
    "    def test_class1(self):\n",
    "        print('Data Science Masters')"
   ]
  },
  {
   "cell_type": "code",
   "execution_count": 20,
   "id": "93efda61",
   "metadata": {},
   "outputs": [],
   "source": [
    "class class2:\n",
    "    def test_class2(self):\n",
    "        print('Course fees : 3500')"
   ]
  },
  {
   "cell_type": "code",
   "execution_count": 21,
   "id": "6c0b145d",
   "metadata": {},
   "outputs": [],
   "source": [
    "class class3(class1,class2):\n",
    "    def test_class3(self):\n",
    "        print('Institute : PWSkills')"
   ]
  },
  {
   "cell_type": "code",
   "execution_count": 22,
   "id": "c781e1db",
   "metadata": {},
   "outputs": [
    {
     "name": "stdout",
     "output_type": "stream",
     "text": [
      "    Class 1    \n",
      "Data Science Masters\n",
      "    Class 2    \n",
      "Course fees : 3500\n",
      "    Class 3    \n",
      "Data Science Masters\n",
      "Course fees : 3500\n",
      "Institute : PWSkills\n"
     ]
    }
   ],
   "source": [
    "# Class 1\n",
    "c1 = class1()\n",
    "print(\"    Class 1    \")\n",
    "c1.test_class1()\n",
    "\n",
    "# Class 2\n",
    "c2 = class2()\n",
    "print(\"    Class 2    \")\n",
    "c2.test_class2()\n",
    "\n",
    "# Class 3\n",
    "c3 = class3()\n",
    "print(\"    Class 3    \")\n",
    "c3.test_class1()\n",
    "c3.test_class2()\n",
    "c3.test_class3()"
   ]
  },
  {
   "cell_type": "code",
   "execution_count": null,
   "id": "427f4cbc",
   "metadata": {},
   "outputs": [],
   "source": []
  }
 ],
 "metadata": {
  "kernelspec": {
   "display_name": "Python 3 (ipykernel)",
   "language": "python",
   "name": "python3"
  },
  "language_info": {
   "codemirror_mode": {
    "name": "ipython",
    "version": 3
   },
   "file_extension": ".py",
   "mimetype": "text/x-python",
   "name": "python",
   "nbconvert_exporter": "python",
   "pygments_lexer": "ipython3",
   "version": "3.10.9"
  }
 },
 "nbformat": 4,
 "nbformat_minor": 5
}
