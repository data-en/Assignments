{
 "cells": [
  {
   "cell_type": "markdown",
   "id": "16b524d1",
   "metadata": {},
   "source": [
    "# OOPS Task Assignment"
   ]
  },
  {
   "cell_type": "markdown",
   "id": "47090c65",
   "metadata": {},
   "source": [
    "#### Q1, Create a vehicle class with an init method having instance variables as name_of_vehicle, max_speed and average_of_vehicle."
   ]
  },
  {
   "cell_type": "code",
   "execution_count": 13,
   "id": "d7987870",
   "metadata": {},
   "outputs": [
    {
     "name": "stdout",
     "output_type": "stream",
     "text": [
      "Name of the Vehicle:Venue\n",
      "Maximum Speed : 180\n",
      "Average of the Vehicle : 18\n"
     ]
    }
   ],
   "source": [
    "class vehicle:\n",
    "    def __init__(self,name_of_vehicle,max_speed,average_of_vehicle):\n",
    "        self.nm = name_of_vehicle\n",
    "        self.speed = max_speed\n",
    "        self.avg = average_of_vehicle\n",
    "        \n",
    "    def details(self):\n",
    "        print(f\"Name of the Vehicle:{self.nm}\")\n",
    "        print(f\"Maximum Speed : {self.speed}\")\n",
    "        print(f\"Average of the Vehicle : {self.avg}\")\n",
    "        \n",
    "vehicle = vehicle('Venue',180,18)\n",
    "vehicle.details()"
   ]
  },
  {
   "cell_type": "markdown",
   "id": "cfe17129",
   "metadata": {},
   "source": [
    "#### Q2. Create a child class car from the vehicle class created in Que 1, which will inherit the vehicle class.Create a method named seating_capacity which takes capacity as an argument and returns the name of the vehicle and its seating capacity."
   ]
  },
  {
   "cell_type": "code",
   "execution_count": 14,
   "id": "177728ba",
   "metadata": {},
   "outputs": [
    {
     "name": "stdout",
     "output_type": "stream",
     "text": [
      "Venue has capacity of 5 seats\n"
     ]
    }
   ],
   "source": [
    "class vehicle:\n",
    "    def __init__(self,name_of_vehicle,max_speed,average_of_vehicle):\n",
    "        self.nm = name_of_vehicle\n",
    "        self.speed = max_speed\n",
    "        self.avg = average_of_vehicle\n",
    "        \n",
    "    def details(self):\n",
    "        print(self.nm,self.speed,self.avg)\n",
    "\n",
    "\n",
    "# Derived class\n",
    "class child(vehicle):\n",
    "    def seating_capacity(self,capacity):\n",
    "        #super().__init__(name_of_vehicle,max_speed,average_of_vehicle)\n",
    "        print(self.nm,'has capacity of',capacity,'seats')\n",
    "        \n",
    "child = child('Venue',180,18)\n",
    "child.seating_capacity(5)\n",
    "        "
   ]
  },
  {
   "cell_type": "markdown",
   "id": "b9701578",
   "metadata": {},
   "source": [
    "#### Q3. What is multiple inheritance? Write a python code to demonstrate multiple inheritance."
   ]
  },
  {
   "cell_type": "markdown",
   "id": "28c6604a",
   "metadata": {},
   "source": [
    "Inheritance --> It is the property in which one class inherits the property of another class that is previously created OR we can say that it is a technique of deriving new classes(child class or new class) from the parent class.It can reuse the existing code or is called as code reusability.\n",
    "\n",
    "1. There are two types of Inheritance : \n",
    "    1. Multilevel Inheritance \n",
    "    2. Multiple Inheritance\n",
    "2. Multiple Inheritance --> It is type of Inheritance in which the one class inherits the property of previous two classes together.\n",
    "3. The methods and attributes of previous two classes can be accessible by the class which inherits the properties."
   ]
  },
  {
   "cell_type": "code",
   "execution_count": 24,
   "id": "e1b70bf2",
   "metadata": {},
   "outputs": [
    {
     "name": "stdout",
     "output_type": "stream",
     "text": [
      "For class1 : Hyundai\n",
      "Hyundai Motor Company is the world's largest integrated automobile manufacturing Company\n",
      "----------------------\n",
      "For class2 : Venue\n",
      "Venue is a 5 seater SUV available with 3 engine options\n",
      "----------------------\n",
      "For class3 : Venue_SX\n",
      "Hyundai Motor Company is the world's largest integrated automobile manufacturing Company\n",
      "Venue is a 5 seater SUV available with 3 engine options\n",
      "Venue SX is the topmost model of Hyundai Venue Available in two variants,Petrol and Diesel\n",
      "----------------------\n"
     ]
    }
   ],
   "source": [
    "# For example --> (Multiple Inheritance)\n",
    "class Hyundai : \n",
    "    def hyundai(self):\n",
    "        print(\"Hyundai Motor Company is the world's largest integrated automobile manufacturing Company\")\n",
    "class Venue :\n",
    "    def venue(self):\n",
    "        print(\"Venue is a 5 seater SUV available with 3 engine options\")\n",
    "class Venue_SX(Hyundai,Venue):\n",
    "    def venue_sx(self):\n",
    "        print(\"Venue SX is the topmost model of Hyundai Venue Available in two variants,Petrol and Diesel\")\n",
    "        \n",
    "        \n",
    "\n",
    "hy = Hyundai()\n",
    "print(\"For class1 : Hyundai\")\n",
    "hy.hyundai()\n",
    "print(\"----------------------\")\n",
    "\n",
    "v = Venue()\n",
    "print(\"For class2 : Venue\")\n",
    "v.venue()\n",
    "print(\"----------------------\")\n",
    "\n",
    "\n",
    "vx = Venue_SX()\n",
    "print(\"For class3 : Venue_SX\")\n",
    "vx.hyundai()\n",
    "vx.venue()\n",
    "vx.venue_sx()\n",
    "print(\"----------------------\")\n"
   ]
  },
  {
   "cell_type": "markdown",
   "id": "efb799dc",
   "metadata": {},
   "source": [
    "#### Q4. What are getter and setter in python? Create a class and create a getter and a setter method in this class."
   ]
  },
  {
   "cell_type": "markdown",
   "id": "625a9644",
   "metadata": {},
   "source": [
    "1. Getter and setter are 'Property Decorators' in Python.\n",
    "2. Getter is used to access some value or data which is stored in private variables and setter is used to set the new data of private variable.\n",
    "3. Getter and setter are only used for private variables, public variables we can access or modify directly. \n",
    "4. Private variables are denoted with the help of __(double underscore) before that variable i.e. self.__variable"
   ]
  },
  {
   "cell_type": "code",
   "execution_count": 25,
   "id": "47ee59e3",
   "metadata": {},
   "outputs": [],
   "source": [
    "# For example -->\n",
    "class Hospital:\n",
    "    def __init__(self,patient_nm,patient_age,patient_gender):\n",
    "        self.patient_nm = patient_nm\n",
    "        self.__patient_age = patient_age      #Private variable\n",
    "        self.__patient_gender = patient_gender#Private variable\n",
    "   \n",
    "    # Giving access to know the patient age\n",
    "    @property\n",
    "    def get_patient_age(self):\n",
    "        return self.__patient_age\n",
    "    \n",
    "    @get_patient_age.setter\n",
    "    def reset_patient_age(self,age):\n",
    "        self.__patient_age = age\n",
    "    \n",
    "    @property\n",
    "    def get_patient_gender(self):\n",
    "        return self.__patient_gender\n",
    "    \n",
    "    @get_patient_gender.setter\n",
    "    def reset_patient_gender(self,gender):\n",
    "        self.__patient_gender = gender\n",
    "        \n",
    "    def patient_details(self):\n",
    "        print(f\"Name of the Patient : {self.patient_nm}\")\n",
    "        "
   ]
  },
  {
   "cell_type": "code",
   "execution_count": 26,
   "id": "b316c678",
   "metadata": {},
   "outputs": [],
   "source": [
    "hospital = Hospital('Aman Kumar',33,'Male')"
   ]
  },
  {
   "cell_type": "code",
   "execution_count": 27,
   "id": "f1b9c5b9",
   "metadata": {},
   "outputs": [
    {
     "data": {
      "text/plain": [
       "'Aman Kumar'"
      ]
     },
     "execution_count": 27,
     "metadata": {},
     "output_type": "execute_result"
    }
   ],
   "source": [
    "hospital.patient_nm # Public Variable"
   ]
  },
  {
   "cell_type": "code",
   "execution_count": 28,
   "id": "db987a93",
   "metadata": {},
   "outputs": [
    {
     "name": "stdout",
     "output_type": "stream",
     "text": [
      "Name of the Patient : Aman Kumar\n"
     ]
    }
   ],
   "source": [
    "hospital.patient_details()"
   ]
  },
  {
   "cell_type": "code",
   "execution_count": 29,
   "id": "d5afe5fe",
   "metadata": {},
   "outputs": [
    {
     "data": {
      "text/plain": [
       "33"
      ]
     },
     "execution_count": 29,
     "metadata": {},
     "output_type": "execute_result"
    }
   ],
   "source": [
    "hospital.get_patient_age"
   ]
  },
  {
   "cell_type": "code",
   "execution_count": 30,
   "id": "bd47a498",
   "metadata": {},
   "outputs": [],
   "source": [
    "hospital.reset_patient_age = 36"
   ]
  },
  {
   "cell_type": "code",
   "execution_count": 31,
   "id": "42a09560",
   "metadata": {},
   "outputs": [
    {
     "data": {
      "text/plain": [
       "36"
      ]
     },
     "execution_count": 31,
     "metadata": {},
     "output_type": "execute_result"
    }
   ],
   "source": [
    "hospital.get_patient_age"
   ]
  },
  {
   "cell_type": "code",
   "execution_count": 32,
   "id": "634e3054",
   "metadata": {},
   "outputs": [
    {
     "data": {
      "text/plain": [
       "'Male'"
      ]
     },
     "execution_count": 32,
     "metadata": {},
     "output_type": "execute_result"
    }
   ],
   "source": [
    "hospital.get_patient_gender"
   ]
  },
  {
   "cell_type": "code",
   "execution_count": 33,
   "id": "b93baf59",
   "metadata": {},
   "outputs": [],
   "source": [
    "hospital.reset_patient_gender = 'M'"
   ]
  },
  {
   "cell_type": "code",
   "execution_count": 34,
   "id": "4fd2868f",
   "metadata": {},
   "outputs": [
    {
     "data": {
      "text/plain": [
       "'M'"
      ]
     },
     "execution_count": 34,
     "metadata": {},
     "output_type": "execute_result"
    }
   ],
   "source": [
    "hospital.get_patient_gender"
   ]
  },
  {
   "cell_type": "markdown",
   "id": "399d0e8c",
   "metadata": {},
   "source": [
    "#### Q5.What is method overriding in python? Write a python code to demonstrate method overriding."
   ]
  },
  {
   "cell_type": "markdown",
   "id": "fc98976e",
   "metadata": {},
   "source": [
    "Method overriding is an ability of any object-oriented programming language that allows a subclass or child class to provide a specific implementation of a method that is already provided by one of its super-classes or parent classes. When a method in a subclass has the same name, same parameters or signature and same return type(or sub-type) as a method in its super-class, then the method in the subclass is said to override the method in the super-class."
   ]
  },
  {
   "cell_type": "code",
   "execution_count": 35,
   "id": "555efa52",
   "metadata": {},
   "outputs": [],
   "source": [
    "# For example : \n",
    "class Symbiosis:\n",
    "    def phone_number(self):\n",
    "        print(\"Phone number = 99876877886\")"
   ]
  },
  {
   "cell_type": "code",
   "execution_count": 36,
   "id": "94881bfd",
   "metadata": {},
   "outputs": [],
   "source": [
    "class Vishwakarma:\n",
    "    def phone_number(self):\n",
    "        print(\"Phone number = 75758859784\")"
   ]
  },
  {
   "cell_type": "code",
   "execution_count": 37,
   "id": "2bda5a7c",
   "metadata": {},
   "outputs": [],
   "source": [
    "obj_sym = Symbiosis()"
   ]
  },
  {
   "cell_type": "code",
   "execution_count": 38,
   "id": "5e65e962",
   "metadata": {},
   "outputs": [],
   "source": [
    "obj_vis = Vishwakarma()"
   ]
  },
  {
   "cell_type": "code",
   "execution_count": 39,
   "id": "9d868054",
   "metadata": {},
   "outputs": [],
   "source": [
    "class_obj = [obj_sym,obj_vis]"
   ]
  },
  {
   "cell_type": "code",
   "execution_count": 40,
   "id": "bacc1e1a",
   "metadata": {},
   "outputs": [],
   "source": [
    "def traverse(class_obj):\n",
    "    for i in class_obj:\n",
    "        i.phone_number()"
   ]
  },
  {
   "cell_type": "code",
   "execution_count": 41,
   "id": "a324357e",
   "metadata": {},
   "outputs": [
    {
     "name": "stdout",
     "output_type": "stream",
     "text": [
      "Phone number = 99876877886\n",
      "Phone number = 75758859784\n"
     ]
    }
   ],
   "source": [
    "traverse(class_obj)"
   ]
  }
 ],
 "metadata": {
  "kernelspec": {
   "display_name": "Python 3 (ipykernel)",
   "language": "python",
   "name": "python3"
  },
  "language_info": {
   "codemirror_mode": {
    "name": "ipython",
    "version": 3
   },
   "file_extension": ".py",
   "mimetype": "text/x-python",
   "name": "python",
   "nbconvert_exporter": "python",
   "pygments_lexer": "ipython3",
   "version": "3.10.9"
  }
 },
 "nbformat": 4,
 "nbformat_minor": 5
}
