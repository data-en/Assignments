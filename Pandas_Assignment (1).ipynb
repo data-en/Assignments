{
 "cells": [
  {
   "cell_type": "markdown",
   "id": "96fae189-204a-49f4-a5ba-a358f188d78e",
   "metadata": {},
   "source": [
    "# Assignment"
   ]
  },
  {
   "cell_type": "markdown",
   "id": "05179e74-beca-45b8-a524-735f6b6ede4c",
   "metadata": {},
   "source": [
    "#### Q1. Create a Pandas Series that contains the following data: 4, 8, 15, 16, 23, and 42. Then, print the series."
   ]
  },
  {
   "cell_type": "code",
   "execution_count": 1,
   "id": "924009c2-fa88-4fe7-a6b2-dd1573268da0",
   "metadata": {},
   "outputs": [
    {
     "name": "stdout",
     "output_type": "stream",
     "text": [
      "0     4\n",
      "1     8\n",
      "2    15\n",
      "3    16\n",
      "4    23\n",
      "5    42\n",
      "dtype: int64\n"
     ]
    }
   ],
   "source": [
    "import pandas as pd\n",
    "df = pd.Series([4,8,15,16,23,42])\n",
    "print(df)"
   ]
  },
  {
   "cell_type": "markdown",
   "id": "908046e7-3d43-47f4-96ca-3448a1f24f48",
   "metadata": {},
   "source": [
    "#### Q2. Create a variable of list type containing 10 elements in it, and apply pandas.Series function on the variable print"
   ]
  },
  {
   "cell_type": "code",
   "execution_count": 2,
   "id": "5e6628c7-6408-467f-940f-944b8df9f0c5",
   "metadata": {},
   "outputs": [
    {
     "name": "stdout",
     "output_type": "stream",
     "text": [
      "0     2\n",
      "1    35\n",
      "2    67\n",
      "3    66\n",
      "4    54\n",
      "5     4\n",
      "6    45\n",
      "7    68\n",
      "8     1\n",
      "9     2\n",
      "dtype: int64\n"
     ]
    }
   ],
   "source": [
    "lst = [2,35,67,66,54,4,45,68,1,2]\n",
    "df1 = pd.Series(lst)\n",
    "print(df1)"
   ]
  },
  {
   "cell_type": "markdown",
   "id": "37e4f7c0-90d1-4f58-b6f3-d9548664378c",
   "metadata": {},
   "source": [
    "#### Q3. Create a Pandas DataFrame that contains the following data, and then print the DataFrame"
   ]
  },
  {
   "cell_type": "code",
   "execution_count": 3,
   "id": "6fd206d7-dd91-427f-8a3f-32eae900185f",
   "metadata": {},
   "outputs": [],
   "source": [
    "dict1 = {'Name':['Alice','Bob','Claire'],'Age':[25,30,27],'Gender':['Female','Male','Female']}"
   ]
  },
  {
   "cell_type": "code",
   "execution_count": 5,
   "id": "e65b76ab-ffdf-4fef-82bb-d95a7fa01596",
   "metadata": {},
   "outputs": [],
   "source": [
    "df2 = pd.DataFrame(dict1)"
   ]
  },
  {
   "cell_type": "code",
   "execution_count": 6,
   "id": "3f4cd4a1-54ae-4169-8aeb-b5000eb4636e",
   "metadata": {},
   "outputs": [
    {
     "name": "stdout",
     "output_type": "stream",
     "text": [
      "     Name  Age  Gender\n",
      "0   Alice   25  Female\n",
      "1     Bob   30    Male\n",
      "2  Claire   27  Female\n"
     ]
    }
   ],
   "source": [
    "print(df2)"
   ]
  },
  {
   "cell_type": "markdown",
   "id": "dea14d37-b65e-4aad-b7bf-ab4ee3fb6496",
   "metadata": {},
   "source": [
    "#### Q4. What is ‘DataFrame’ in pandas and how is it different from pandas.series? Explain with an example."
   ]
  },
  {
   "cell_type": "markdown",
   "id": "812d9fc3-4af0-4064-8aff-163141665ce5",
   "metadata": {},
   "source": [
    "1. DataFrame is a two-dimensional data structure with labelled axes i.e. rows and columns.\n",
    "2. DataFrame is a powerful tool used in machine learning and data science. \n",
    "3. Series is similar to DataFrame but the only difference is that the Series is a one-dimensional data structure which consists of n no. of rows and only one column. \n",
    "4. For example --> \n",
    "\n",
    "> import pandas as pd\n",
    "\n",
    "> df = pd.DataFrame({\n",
    "\n",
    ">     \"Name\": [\"John Doe\", \"Jane Doe\", \"John Smith\", \"Jane Smith\"],\n",
    "\n",
    ">     \"Age\": [30, 25, 40, 35],\n",
    "\n",
    ">     \"City\": [\"New York\", \"Los Angeles\", \"Chicago\", \"San Francisco\"]\n",
    "\n",
    "> })\n",
    "\n",
    "> print(df)\n",
    "\n",
    "5. In the above example, the keys are Name,Age and City which are considered as column names and the values are considered as row names. We imported the pandas library and used the function pandas.DataFrame to convert the given dictionary into the format of DataFrame i.e. in rows and columns. "
   ]
  },
  {
   "cell_type": "markdown",
   "id": "863af5b2-750a-4e39-9311-3eabcfae2e02",
   "metadata": {},
   "source": [
    "#### Q5. What are some common functions you can use to manipulate data in a Pandas DataFrame? Can you give an example of when you might use one of these functions?"
   ]
  },
  {
   "cell_type": "markdown",
   "id": "5a498833-014f-4a3d-ab27-138788110dc5",
   "metadata": {},
   "source": [
    "Following are some functions used in Pandas DataFrame to manipulate data :-\n",
    "\n",
    "> head() - returns first few rows of DataFrame,default is 5.\n",
    "\n",
    "> tail() - returns last few rows of DataFrame,default is 5. \n",
    "\n",
    "> shape() - returns the dimension of DataFrame,eg - (3,5) shows that there are 3 rows and 5 columns in a DataFrame. \n",
    "\n",
    "> reshape() - is used to return the data in another dimension which is equal to same size as original.\n",
    "\n",
    "> info() - returns the information about DataFrame about data type,class,no.of columns,memory used. \n",
    "\n",
    "> isna() - The function returns Boolean value indicating whether each value in a DataFrame is NaN or not. \n",
    "\n",
    "> fillna() - The function fills the missing values\n",
    "\n",
    "> replace() - This replaces the values present with a different value. \n",
    "\n",
    "e.g if \"df\" is a dataframe, df.head() or df.tail() is used to return first and last few rows and df.info() is used to get some more information about dataframe and \"df.shape()\" is used to return the dimension of that dataframe and df.isna() function is used to find if there is any NaN values are present in a given dataframe. \n"
   ]
  },
  {
   "cell_type": "markdown",
   "id": "cbd3d775-cacd-4242-9432-cec436a0a7b8",
   "metadata": {},
   "source": [
    "#### Q6. Which of the following is mutable in nature Series, DataFrame, Panel?"
   ]
  },
  {
   "cell_type": "markdown",
   "id": "563b32b4-695e-4144-a837-b9b9f31138fb",
   "metadata": {},
   "source": [
    "> From Series,DataFrame and Panel, Series and DataFrame are both mutable in nature and Panel is immutable in nature. \n",
    "\n",
    "> Mutable means that we can modify the datafame after created i.e to change the add a row or column or to add change the values in existing rows and columns. \n",
    "\n",
    "> Immutable means that we can not modify the data after creating it. \n",
    "\n",
    "> Series and DataFrame, both are mutable in nature as we can modify the data in Series or DataFrame after also after creating it. \n",
    "\n",
    "> Panel is three-dimensional data structure which contains rows,columns and levels but it is immutable in nature as the data in \"Panel\" can not be modified once it is created. \n"
   ]
  },
  {
   "cell_type": "markdown",
   "id": "f024b511-8ef2-4a33-ac63-ff0035e2cc54",
   "metadata": {},
   "source": [
    "#### Q7. Create a DataFrame using multiple Series. Explain with an example."
   ]
  },
  {
   "cell_type": "code",
   "execution_count": 11,
   "id": "9d1dabb0-77a0-431c-a3e4-cc4a22980d0a",
   "metadata": {},
   "outputs": [
    {
     "name": "stdout",
     "output_type": "stream",
     "text": [
      "   Numbers Alphabets        Fruits\n",
      "0        1         a          Kiwi\n",
      "1        2         b         Mango\n",
      "2        3         c         Apple\n",
      "3        4         d     Pineapple\n",
      "4        5         e    Watermelon\n",
      "5        6         f  Dragon Fruit\n"
     ]
    }
   ],
   "source": [
    "# To create a DataFrame using multiple series,we can used pd.concat() function which will take list of Series as input and combines them into a DataFrame. \n",
    "## For example --> \n",
    "\n",
    "s1 = pd.Series([1,2,3,4,5,6],name=\"Numbers\")\n",
    "s2 = pd.Series(['a','b','c','d','e','f'],name=\"Alphabets\")\n",
    "s3 = pd.Series(['Kiwi','Mango','Apple','Pineapple','Watermelon','Dragon Fruit'],name=\"Fruits\")\n",
    "\n",
    "concatenated_dataframe = pd.concat([s1,s2,s3],axis=1) # (ignore_index==False by default,if it is true,Indexes are not given to the dataframe.)\n",
    "print(concatenated_dataframe)\n",
    "\n",
    "# In the above example, there are three series we have created and fron those three series the one dataframe is created using pd.concat() function by providing  \"axis=1\" which means to concat the given series along row. "
   ]
  },
  {
   "cell_type": "code",
   "execution_count": null,
   "id": "f10c3ac9-83aa-4bb5-b5b5-c7d083aa3c4e",
   "metadata": {},
   "outputs": [],
   "source": []
  }
 ],
 "metadata": {
  "kernelspec": {
   "display_name": "Python 3 (ipykernel)",
   "language": "python",
   "name": "python3"
  },
  "language_info": {
   "codemirror_mode": {
    "name": "ipython",
    "version": 3
   },
   "file_extension": ".py",
   "mimetype": "text/x-python",
   "name": "python",
   "nbconvert_exporter": "python",
   "pygments_lexer": "ipython3",
   "version": "3.10.8"
  }
 },
 "nbformat": 4,
 "nbformat_minor": 5
}
