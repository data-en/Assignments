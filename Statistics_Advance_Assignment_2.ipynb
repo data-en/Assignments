{
 "cells": [
  {
   "cell_type": "markdown",
   "id": "fdfc9179",
   "metadata": {},
   "source": [
    "# Statistics Advance Assignment 2"
   ]
  },
  {
   "cell_type": "markdown",
   "id": "7dc1c60f",
   "metadata": {},
   "source": [
    "**Q.1. What are the probability mass function(pmf) and probability density function(pdf)? Explain with an example.**"
   ]
  },
  {
   "cell_type": "markdown",
   "id": "c5ad936c",
   "metadata": {},
   "source": [
    "1. Probability mass function and Probability density function are two functions that are used to describe the probability distribution of a random variable.\n",
    "### PMF\n",
    "2. Probability mass function is used to describe discrete random variables.A discrete random variable is a random variable that can only take on a finite number of values.For example,outcome of rolling a die is a discrete random variable,because it can only take on the values 1,2,3,4,5,and 6.\n",
    "3. The PMF of discrete random variable is a function that assigns a probability of each possible value of the random variable.For example,the PMF of the outcome of rolling a die : \n",
    "\n",
    "> 1 --> 1/6\n",
    "\n",
    "> 2 --> 1/6\n",
    "\n",
    "> 3 --> 1/6\n",
    "\n",
    "> 4 --> 1/6\n",
    "\n",
    "> 5 --> 1/6\n",
    "\n",
    "> 6 --> 1/6\n",
    "\n",
    "4. The PMF of a discrete random variable must satisfy two conditions : one is probabilities must be non-negative and the second is the sum of the probabilities must be equal to 1. \n",
    "\n",
    "### PDF \n",
    "1. Probability density function is used to describe continuous random variables.. \n",
    "2. A continuous random variable is a random variable that can take on an infinite no. of values.For example,the height of a person is a continuous random variable,because it can take on any value betweeen the minimum and maximum height of a human being.One more example of a continuous random variable is weight of a person. \n",
    "3. The PDF of a continuous random variable is a function that assigns a probability to each possible value of the random variable.But PDF is not a probability itself,it is a measure of how likely the random variable is to take on a particular value. \n",
    "4. The PDF of a continuous random variable is usually represented by a graph.The height of the graph at a particular point gives the probability that the random variable will be equal to that value. \n",
    "\n",
    "> 5 feet | 0.1\n",
    "\n",
    "> 5.1 feet | 0.2\n",
    "\n",
    "> 5.2 feet | 0.3\n",
    "\n",
    "5. The PDF of a continuous random variable must satisfy two conditions : one is The PDF must be non-negative for all values of the random variable and second is the area under the curve must be equal to 1. "
   ]
  },
  {
   "cell_type": "markdown",
   "id": "456f560c",
   "metadata": {},
   "source": [
    "**Q.2. What is Cumulative density function?Explain with an example?Why CDF is used?**"
   ]
  },
  {
   "cell_type": "markdown",
   "id": "95fcc8ad",
   "metadata": {},
   "source": [
    "1. A Cumulative density function(CDF) is a function that describes the probability that a random variable will be less than or equal to a certain value.It is often used to represent the probability distribution of a continuous random variable.\n",
    "2. For example,the height of a certain person which is less than or equal to certain value. \n",
    "3. The CDF is non-decreasing function,which means that it always increases as x increases.The CDF also ranges from 0 to 1,where 0 represents the probability that X is less than or equal to 0, and 1 represents the probability that X is less than or equal to Infinity.\n",
    "4. The CDF is used in variety of applications like Statistical Analysis,Machine Learning,Probability Theory,etc. "
   ]
  },
  {
   "cell_type": "markdown",
   "id": "2b2ee6f8",
   "metadata": {},
   "source": [
    "**Q.3. What are some examples of situations where the normal distribution might be used as a model?Explain how the parameters of the normal distribution relate to the shape of the distribution?**"
   ]
  },
  {
   "cell_type": "markdown",
   "id": "35fa5fce",
   "metadata": {},
   "source": [
    "1. The normal distribution is a very common probability distribution that is often used as a model for a variety of real-world phenomena.Some examples of situations where the normal distribution might be used as a model include:\n",
    "    1. Height : The heights of people are normally distributed,with most people being of average height and a smaller number of people being very tall or very short. \n",
    "    2. IQ : IQ scores are normally distributed with large of people having average IQ and smaller no. of people having higher or lower IQ.\n",
    "    3. Test scores\n",
    "    4. Measurement errors\n",
    "    5. Distribution of products - The distribution of products,such as the weight of bags of rice or the size of bolts,is often normally distributed. \n",
    "    \n",
    "2. The parameters of the normal distribution are mean and standard deviation.Mean is the average of all the values and standard deviation is a measure of how spread out the distribution is.\n",
    "3. The shape of the normal distribution is symmetrical,with the mean in the center and the tails of the distribution tapering  off to zero.\n",
    "4. The standard deviation determines how wide the tails of the distribution are.A larger standard deviation means that the tails of the distribution are wider,and a smaller standard deviation means that the tails of the distribution are narrower.\n",
    "\n",
    "> In general,the normal distribution is a good model for phenomena that are the result of many independent factors.For example,the height of a person is the result of many factors,such as genetics,nutrition,and environment,and they all contribute to the height of a person. "
   ]
  },
  {
   "cell_type": "markdown",
   "id": "2f751bf5",
   "metadata": {},
   "source": [
    "**Q.4.Explain the importance of Normal distribution?Give a few real life examples of normal distribution?**\n",
    "\n",
    "1. Normally distribution is one of the most important distribution among all other distributions as it is used for no. of different tasks such as Normal distribution is used in Hypothesis testing,Confidence Intervals,Data Analysis and also in Machine learnig.\n",
    "2. Normally distribution has various properties which makes it more reliable to use i.e.,First is normal distribution is versatile distribution and it is symmetrical,which means that the probabillity of a value being above the mean is equal to the probability of a value being below the mean.Another important property is asymptotic,i.e.,the tails of the distribution approach zero as the values get very large or very small.\n",
    "3. Normal distribution is often used as a model for a variety of real-world phenomena,such as : \n",
    "    1. Height : The heights of people are normally distributed,with most people being of average height and a smaller number of people being very tall or very short.\n",
    "    2. IQ : IQ scores are normally distributed with large no. of people having average IQ and smaller no. of people having higher or lower IQ.\n",
    "    3. Test scores : Test scores are normally distributed with large no. of people having average test scores and smaller no. of people having higher or lower test scores.\n",
    "    4. Measurement errors - Measurement errors are often normally distributed,with most errors being small and smaller no. of errors being large.\n",
    "    5. Distribution of products - The distribution of products,such as the weight of bags of rice or the size of bolts,is often normally distributed."
   ]
  },
  {
   "cell_type": "markdown",
   "id": "4d810bfe",
   "metadata": {},
   "source": [
    "**Q.5.What is Bernoulli's distribution?Give an example.What is the difference between Bernoulli distribution and Binomial distribution?**"
   ]
  },
  {
   "cell_type": "markdown",
   "id": "acf2b35f",
   "metadata": {},
   "source": [
    "1. The Bernoulli's distribution is a discrete probability distribution that can be used to model events with two possible outcomes.One outcome is called a 'success' and the other outcome is called a 'failure'.The probability of success is denoted by p and the probability of failure is denoted by q.\n",
    "2. Bernoulli distribution can be used to model a variety of events,such as:\n",
    "    1. Coin flips : The outcome of a coin flip is either head or tails.\n",
    "    2. The outcome of a student result is either pass or fail.\n",
    "    3. The outcome of a gender is either female or male.\n",
    "3. The difference between Bernoulli distribution and Binomial distribution is that the Bernoulli distribution represents success or failure of a single Bernoulli triala and the Binomial distribution represents the no. of successes and failures in n independent Bernoulli trials for some given value of n."
   ]
  },
  {
   "cell_type": "markdown",
   "id": "5579b5e9",
   "metadata": {},
   "source": [
    "**Q.6. Consider a dataset with mean of 50 and standard deviation of 10.If we assume that the dataset is normally distributed,what is the probability of randomly selected observation will be greater than 60.? Use the appropriate formula and show your calculations.**"
   ]
  },
  {
   "cell_type": "code",
   "execution_count": 3,
   "id": "9dcd49d4",
   "metadata": {},
   "outputs": [],
   "source": [
    "# P(x > 60) = 1 - P(x <= 60) \n",
    "# Calculate z-score for the value of 60 \n",
    "z_score = (60-50)/10 # z_score = (x-μ)/σ\n",
    "# Here, x = sample size = 60\n",
    "# μ = population mean = 50\n",
    "# σ = population standard deviation = 10\n",
    "# The z-score tells us that the value of 60 is one standard deviation away from the mean\n",
    "# The z-score of 1 corresponds to a probability of 0.84134. This means that there is a 84.134% chance that a randomly selected\n",
    "# observation will be less than or equal to 60.\n",
    "#  To calculate the probability that a randomly selected observation will be greater than 60:\n",
    "# P(x > 60) = 1 - P(x <= 60)\n",
    "P_greater_than_sixty = 1 - 0.84134"
   ]
  },
  {
   "cell_type": "code",
   "execution_count": 4,
   "id": "967b27ac",
   "metadata": {},
   "outputs": [
    {
     "name": "stdout",
     "output_type": "stream",
     "text": [
      "Z-score : 1.0\n",
      "P>60 : 0.15866000000000002\n"
     ]
    }
   ],
   "source": [
    "print('Z-score : {}'.format(z_score))\n",
    "print('P>60 : {}'.format(P_greater_than_sixty))"
   ]
  },
  {
   "cell_type": "markdown",
   "id": "b3e24a61",
   "metadata": {},
   "source": [
    "**Therefore, the probability of a randomly selected observation being greater than 60 in a normally distributed dataset with mean 50 and standard deviation 10 is 0.158655.**"
   ]
  },
  {
   "cell_type": "markdown",
   "id": "afa479fc",
   "metadata": {},
   "source": [
    "**Q.7. Explain uniform distribution with an example.**"
   ]
  },
  {
   "cell_type": "markdown",
   "id": "4dda2dee",
   "metadata": {},
   "source": [
    "1. There are two types of Uniform distribution : \n",
    "    1. Continuous Uniform distribution\n",
    "    2. Discrete Uniform distribution\n",
    "2. A uniform distribution is a type of probability distribution in which all outcomes are equally likely. This means that the probability of any particular outcome is the same as the probability of any other outcome.\n",
    "3. A simple example of a uniform distribution is the roll of a die. When you roll a die, there are six possible outcomes: 1, 2, 3, 4, 5, and 6. Each outcome is equally likely, so the probability of rolling any one of them is 1/6.\n",
    "4. Another example of a uniform distribution is the drawing of a card from a standard deck of cards. There are 52 cards in a deck, and each card has an equal probability of being drawn. So, the probability of drawing any one card is 1/52.\n",
    "5. The graph of a uniform distribution is a rectangle. The height of the rectangle is equal to the probability of any particular outcome, and the width of the rectangle is the range of possible outcomes.In the case of the roll of a die, the height of the rectangle would be 1/6, and the width of the rectangle would be 1 (from 1 to 6).In the case of the drawing of a card from a standard deck of cards, the height of the rectangle would be 1/52, and the width of the rectangle would be 52 (from 1 to 52).\n",
    "6. Uniform distributions are often used in simulations and Monte Carlo methods. They are also used in some statistical tests, such as the chi-squared test.\n",
    "7. Here are some other examples of uniform distributions:\n",
    "    1. The time it takes for a radioactive atom to decay\n",
    "    2. The number of heads in 10 coin flips\n",
    "    3. The number of people in a line at a grocery store"
   ]
  },
  {
   "cell_type": "markdown",
   "id": "b7b42aaf",
   "metadata": {},
   "source": [
    "**Q.8 What is the z-score? State the importance of z-score?**"
   ]
  },
  {
   "cell_type": "markdown",
   "id": "887a6848",
   "metadata": {},
   "source": [
    "1. Z-score is a statistical measure that tells you how far away from the mean (or average) your sample data lies in a normally distributed sample. It is calculated by subtracting the mean from the sample data and then dividing by the standard deviation.\n",
    "2. The z-score is a very useful statistic because it:\n",
    "    1. Allows you to compare scores from different distributions that have the same standard deviation.\n",
    "    2. Helps you to identify outliers, which are data points that are far away from the rest of the data.\n",
    "    3. Can be used to calculate the probability of a particular score occurring.\n",
    "3. The importance of z-scores can be summarized as follows:\n",
    "    1. They allow you to compare scores from different distributions that have the same standard deviation. This is important because it allows you to make meaningful comparisons between different groups of data.\n",
    "    2. They help you to identify outliers, which are data points that are far away from the rest of the data. Outliers can be caused by errors in data entry or by unusual circumstances. Identifying outliers can help you to improve the accuracy of your data analysis.\n",
    "    3. They can be used to calculate the probability of a particular score occurring. This is important because it allows you to make predictions about the likelihood of future events.\n",
    "4. Here are some examples of how z-scores can be used:\n",
    "    1. A teacher might use z-scores to compare the test scores of students from different classes.\n",
    "    2. A doctor might use z-scores to identify children who are underweight or overweight.\n",
    "    3. A financial analyst might use z-scores to assess the risk of a particular investment.\n",
    "    4. A hosteller might use z-scores to compare the study time of student of different streams. "
   ]
  },
  {
   "cell_type": "markdown",
   "id": "25f826bf",
   "metadata": {},
   "source": [
    "**Q.9. What is Central limit theorem?State the significance of Central limit theorem.**"
   ]
  },
  {
   "cell_type": "markdown",
   "id": "dc71ad86",
   "metadata": {},
   "source": [
    "1. The Central Limit Theorem relies on the concept of sampling distribution,which is the probability distribution of a statistic for a large no. of samples taken from a population.\n",
    "2. The The Central Limit Theorem says that the sampling distribution of the mean will always be normally distributed,as long as the sample size is large enough,regardless of whether the population has a normal,poisson,binomial,bernoulli or any other distribution, the sampling distribution of mean will always be normal."
   ]
  },
  {
   "cell_type": "markdown",
   "id": "4dd1ae14",
   "metadata": {},
   "source": [
    "**Q.10. State the assumptions of Central limit theorem.**"
   ]
  },
  {
   "cell_type": "markdown",
   "id": "a2887fff",
   "metadata": {},
   "source": [
    "1. The central limit theorem (CLT) is a statistical theorem that states that the sampling distribution of the mean of a random variable will be approximately normally distributed, regardless of the shape of the population distribution, as the sample size increases.\n",
    "2. The Central Limit Theorem(CLT) has four assumptions:\n",
    "    1. The samples must be independent. This means that the outcome of one sample cannot affect the outcome of another sample.\n",
    "    2. The samples must be randomly drawn from the population. This means that every member of the population has an equal chance of being selected for the sample.\n",
    "    3. The sample size must be large enough. The CLT becomes more accurate as the sample size increases.\n",
    "    4. The population distribution must be at least approximately normally distributed. If the population distribution is not normally distributed, the CLT will still apply as long as the sample size is large enough.\n",
    "3. If these assumptions are met, then the sampling distribution of the mean will be approximately normally distributed, with a mean equal to the population mean and a standard deviation equal to the population standard deviation divided by the square root of the sample size.\n",
    "4. Central Limit Theorem is used in a wide variety of applications. For example, the CLT is used to calculate confidence intervals and to perform hypothesis tests."
   ]
  },
  {
   "cell_type": "code",
   "execution_count": null,
   "id": "17de5879",
   "metadata": {},
   "outputs": [],
   "source": []
  }
 ],
 "metadata": {
  "kernelspec": {
   "display_name": "Python 3 (ipykernel)",
   "language": "python",
   "name": "python3"
  },
  "language_info": {
   "codemirror_mode": {
    "name": "ipython",
    "version": 3
   },
   "file_extension": ".py",
   "mimetype": "text/x-python",
   "name": "python",
   "nbconvert_exporter": "python",
   "pygments_lexer": "ipython3",
   "version": "3.10.9"
  }
 },
 "nbformat": 4,
 "nbformat_minor": 5
}
