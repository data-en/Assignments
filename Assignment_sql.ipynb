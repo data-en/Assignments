{
 "cells": [
  {
   "cell_type": "markdown",
   "id": "aaab6508-9ea1-4243-aeb0-9cf09b656096",
   "metadata": {},
   "source": [
    "# Assignment "
   ]
  },
  {
   "cell_type": "markdown",
   "id": "83d75ca2-8cfc-4db4-99c3-27d639c0c8bd",
   "metadata": {},
   "source": [
    "#### What is a database? Differentiate between SQL and NoSQL databases."
   ]
  },
  {
   "cell_type": "markdown",
   "id": "1da7eb1a-4d93-4248-9bcd-d606de444921",
   "metadata": {},
   "source": [
    "1. Database is organized collection of data so that it can be easily accessed.\n",
    "2. SQL --> Structured Query Language. \n",
    "3. Sql database is a relational database which contains rows and columns in the formm of tables where each row indicates data entity and every column defines a specific information field.\n",
    "4. It uses Structured Query Language to create,store,update and retrieve data.\n",
    "5. NOSQL --> Not Only Structured Query Language.\n",
    "6. NoSQL is a non-relational database.\n",
    "7. It does not store data in the form of tables. \n",
    "8. For example --> \n",
    "    1. SQL - MySQL\n",
    "    2. NOSQL - MongoDB\n",
    "    "
   ]
  },
  {
   "cell_type": "markdown",
   "id": "7fe0aa18-2d23-4bd1-8bee-f94a346e9f6c",
   "metadata": {},
   "source": [
    "#### What is DDL? Explain why CREATE, DROP, ALTER, and TRUNCATE are used with an example."
   ]
  },
  {
   "cell_type": "markdown",
   "id": "c4786c3f-ed45-47ce-bdba-d45fd68df2f9",
   "metadata": {},
   "source": [
    "1. DDL - Data Definition Language\n",
    "2. It is a subset of SQL and a part of DBMS contains commands like CREATE,DROP,ALTER AND TRUNCATE.\n",
    "3. CREATE command is used to create a new table in sql in which we have to specify the column names with its data types. \n",
    "    1. CREATE TABLE table_name (col1 datatype, col2 datatype, col3 datatype ,..............,col4 datatype);\n",
    "4. DROP command is used to remove the existing table from the database along with its structure. \n",
    "    2. DROP TABLE table_name;\n",
    "5. ALTER command is used to add,delete or change columns in existing table or more precisely it is used to modify the columns.\n",
    "    3. ALTER TABLE table_name add column_name datatype;\n",
    "6. TRUNCATE command is used to remove all rows from the existing table but the structures still exists. \n",
    "    4. TRUNCATE TABLE table_name;\n",
    "7. For example ->\n",
    "\n",
    "> CREATE TABLE test_table (name VARCHAR(50),Age INT);\n",
    "\n",
    "> ALTER TABLE test_table add name varchar(50);\n",
    "\n",
    "> TRUNCATE TABLE test_table;\n",
    "\n",
    "> DROP TABLE test_table;"
   ]
  },
  {
   "cell_type": "markdown",
   "id": "d31351e1-7329-46cd-9306-1cdb022f7d99",
   "metadata": {},
   "source": [
    "#### What is DML? Explain INSERT, UPDATE, and DELETE with an example."
   ]
  },
  {
   "cell_type": "markdown",
   "id": "a6178d9b-a5f0-415d-b725-8076f7a626d9",
   "metadata": {},
   "source": [
    "1. DML is Data Manipulation Language which contains commands like INSERT,UPDATE and DELETE.\n",
    "2. INSERT command is used to insert data into a table.\n",
    "3. UPDATE command is used to update data present in the existing table.\n",
    "4. DELETE command is used to delete records from a database table.\n",
    "5. For example ->\n",
    "\n",
    "> INSERT INTO test_table VALUES(50,'pwskills','sudh','krish');\n",
    "\n",
    "> UPDATE test_table name='Sudhanshu Kumar' WHERE Age =22;\n",
    "\n",
    "> DELETE FROM test_table where name='Sudhanshu Kumar';"
   ]
  },
  {
   "cell_type": "markdown",
   "id": "bfe75eb3-2629-4b4f-bd09-e24da6406b39",
   "metadata": {},
   "source": [
    "#### What is DQL? Explain SELECT with an example."
   ]
  },
  {
   "cell_type": "markdown",
   "id": "f08d8ce3-3c9a-4c5d-bf31-5ff782797e52",
   "metadata": {},
   "source": [
    "1. DQL is DATA QUERY LANGUAGE.\n",
    "2. DQL is used to retrieve data from the table and using it to perform various opertions on it. \n",
    "3. It includes SELECT statement. \n",
    "4. SELECT is used to retrieve data from the table by specifying column name or we can get all the data present at the same time.\n",
    "5. SELECT * FROM table_name; is used to retrieve all the data from that particular table. \n",
    "6. SELECT column_1, column_2 FROM table_name; is used to retrieve data from specific columns mentioned in the command. \n",
    "6. For example ->\n",
    "\n",
    "> CREATE TABLE Student(Name VARCHAR(50), Age INT, Marks float) ;\n",
    "\n",
    "> INSERT INTO Student VALUES('Sumit',12,88.80);\n",
    "\n",
    "> INSERT INTO Student VALUES('Sneha',12,89,00);\n",
    "\n",
    "> SELECT * FROM Student;"
   ]
  },
  {
   "cell_type": "markdown",
   "id": "32f319fa-2817-4ef3-bdcb-eb0ef88eb117",
   "metadata": {},
   "source": [
    "#### Explain Primary Key and Foreign Key."
   ]
  },
  {
   "cell_type": "markdown",
   "id": "d9e1e276-32fb-4af8-b2a3-c757fed2b8db",
   "metadata": {},
   "source": [
    "#### PRIMARY KEY ->\n",
    "1. A Primary Key is used to ensure that the data in a specific column is unique. \n",
    "2. It does not contain NULL values. \n",
    "3. It helps in uniquely finding the data in the table.\n",
    "4. The Primary Key column can't store duplicate values. \n",
    "\n",
    "#### FOREIGN KEY ->\n",
    "1. A Foreign Key is used to give the relation between two tables. \n",
    "2. It is group of one or more columns to uniquely identify another database. \n",
    "3. The Foreign Key always matches the Primary Key in another table. \n",
    "4. It is beneficial in relational database normalization. "
   ]
  },
  {
   "cell_type": "markdown",
   "id": "a9afa541-1c18-4979-869a-cc77c406a6d9",
   "metadata": {},
   "source": [
    "#### Write a python code to connect MySQL to python. Explain the cursor() and execute() method."
   ]
  },
  {
   "cell_type": "markdown",
   "id": "c83f9c6d-b6ca-4616-8a67-fe07f1e4c2b5",
   "metadata": {},
   "source": [
    "> import mysql.connector\n",
    "\n",
    "> conn = mysql.connector.connect(user='root',password='Manyog@85')\n",
    "\n",
    "> mycursor = conn.cursor()\n",
    "\n",
    "> mycursor.execute('CREATE TABLE Student(Name varchar(50), Age INT)')\n",
    "> conn.commit()\n",
    "> conn.close()\n",
    "                        "
   ]
  },
  {
   "cell_type": "markdown",
   "id": "a44686eb-bea6-4c79-b1d5-4d4ae9ddb07d",
   "metadata": {},
   "source": [
    "#### Give the order of execution of SQL clauses in an SQL query."
   ]
  },
  {
   "cell_type": "markdown",
   "id": "0e44ba39-699f-4b07-9595-7fd4b9dd5091",
   "metadata": {},
   "source": [
    "1. The SQL order of execution defines the order in which the clauses of query has to be executed. \n",
    "2. The queries are not evaluated from top to bottom.\n",
    "3. The order in which the SQL query executes is as follows : \n",
    "\n",
    "> FROM/JOIN\n",
    "\n",
    "> WHERE\n",
    "\n",
    "> GROUP BY \n",
    " \n",
    "> HAVING\n",
    "\n",
    "> SELECT\n",
    "\n",
    "> ORDER BY"
   ]
  }
 ],
 "metadata": {
  "kernelspec": {
   "display_name": "Python 3 (ipykernel)",
   "language": "python",
   "name": "python3"
  },
  "language_info": {
   "codemirror_mode": {
    "name": "ipython",
    "version": 3
   },
   "file_extension": ".py",
   "mimetype": "text/x-python",
   "name": "python",
   "nbconvert_exporter": "python",
   "pygments_lexer": "ipython3",
   "version": "3.10.8"
  }
 },
 "nbformat": 4,
 "nbformat_minor": 5
}
