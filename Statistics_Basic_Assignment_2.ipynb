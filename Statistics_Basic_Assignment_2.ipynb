{
 "cells": [
  {
   "cell_type": "markdown",
   "id": "82308486",
   "metadata": {},
   "source": [
    "# Statistics_Basic_Assignment_2"
   ]
  },
  {
   "cell_type": "markdown",
   "id": "c34cd531",
   "metadata": {},
   "source": [
    "**Q1. What are the three measures of central tendency?**"
   ]
  },
  {
   "cell_type": "markdown",
   "id": "213eafe1",
   "metadata": {},
   "source": [
    "1. Three measures of Central tendency are : \n",
    "    1. Mean \n",
    "    2. Median \n",
    "    3. Mode\n",
    "2. Mean --> It is the average of all the values in a data or it is also known as sum of all values in a dataset divided by the total number of values,it is sensitive to outliers. \n",
    "3. Median --> It is the middle value in a dataset when it is arranged in ascending or descending order,it is not sensitive to outliers. \n",
    "4. Mode --> It is the most frequently occuring value in a dataset. \n",
    "5. Mean,Median,Mode i.e., Measures of Central tendency are used to summarize data. \n",
    "6. It also has its own disadvantages as the mean can be affected if the data has outliers whereas the median affects less than the mean but the outliers also affects the mode. "
   ]
  },
  {
   "cell_type": "markdown",
   "id": "85111c43",
   "metadata": {},
   "source": [
    "**Q2. What is the difference between the mean, median, and mode? How are they used to measure the\n",
    "central tendency of a dataset?**"
   ]
  },
  {
   "cell_type": "markdown",
   "id": "c316ff4d",
   "metadata": {},
   "source": [
    "1. Measures of Central tendency : \n",
    "    1. Mean\n",
    "    2. Median \n",
    "    3. Mode\n",
    "2. Mean -> The mean is used to find the average of all the values in a dataset. \n",
    "3. Median -> The median is used to find the middle value in a dataset. \n",
    "4. Mode -> The mode is used to find the most frequent value in the dataset. \n",
    "5. Mean,Median,Mode are the measures of Central tendancy which are the part of Descriptive Statistics used to organize and summarize the data to describe the data in depth. \n",
    "6. Among Mean,Median,Mode the Mean and Mode are sensitive to outliers i.e.,they are affected if the outliers are present in the data, the Median is not sensitive to outliers i.e.,it is not affected although the outliers are present in the data. "
   ]
  },
  {
   "cell_type": "markdown",
   "id": "ece057af",
   "metadata": {},
   "source": [
    "**Q3. Measure the three measures of central tendency for the given height data:\n",
    "[178,177,176,177,178.2,178,175,179,180,175,178.9,176.2,177,172.5,178,176.5]**"
   ]
  },
  {
   "cell_type": "code",
   "execution_count": 5,
   "id": "cf0c7d24",
   "metadata": {},
   "outputs": [
    {
     "name": "stdout",
     "output_type": "stream",
     "text": [
      "177.01875\n",
      "177.0\n",
      "ModeResult(mode=array([177.]), count=array([3]))\n"
     ]
    },
    {
     "name": "stderr",
     "output_type": "stream",
     "text": [
      "C:\\Users\\yashg\\AppData\\Local\\Temp\\ipykernel_13672\\755960063.py:9: FutureWarning: Unlike other reduction functions (e.g. `skew`, `kurtosis`), the default behavior of `mode` typically preserves the axis it acts along. In SciPy 1.11.0, this behavior will change: the default value of `keepdims` will become False, the `axis` over which the statistic is taken will be eliminated, and the value None will no longer be accepted. Set `keepdims` to True or False to avoid this warning.\n",
      "  print(stats.mode(data))\n"
     ]
    }
   ],
   "source": [
    "import numpy as np\n",
    "from scipy import stats\n",
    "data = [178,177,176,177,178.2,178,175,179,180,175,178.9,176.2,177,172.5,178,176.5]\n",
    "# To find Mean\n",
    "print(np.mean(data))\n",
    "# To find Median \n",
    "print(np.median(data))\n",
    "# To find Mode\n",
    "print(stats.mode(data))"
   ]
  },
  {
   "cell_type": "markdown",
   "id": "04175003",
   "metadata": {},
   "source": [
    "**Q4. Find the standard deviation for the given data:\n",
    "[178,177,176,177,178.2,178,175,179,180,175,178.9,176.2,177,172.5,178,176.5]**"
   ]
  },
  {
   "cell_type": "code",
   "execution_count": 10,
   "id": "9b7af95c",
   "metadata": {},
   "outputs": [
    {
     "name": "stdout",
     "output_type": "stream",
     "text": [
      "Standard deviation : 1.7885814036548633\n"
     ]
    }
   ],
   "source": [
    "import numpy as np\n",
    "data = [178,177,176,177,178.2,178,175,179,180,175,178.9,176.2,177,172.5,178,176.5]\n",
    "print(\"Standard deviation : {}\".format(np.std(data)))"
   ]
  },
  {
   "cell_type": "markdown",
   "id": "d1600290",
   "metadata": {},
   "source": [
    "**Q5. How are measures of dispersion such as range, variance, and standard deviation used to describe\n",
    "the spread of a dataset? Provide an example.**"
   ]
  },
  {
   "cell_type": "markdown",
   "id": "eb6e20d3",
   "metadata": {},
   "source": [
    "1. Measures of Variability : \n",
    "    1. Range\n",
    "    2. Variance \n",
    "    3. Standard deviation\n",
    "2. MEASURES OF VARIABILITY\n",
    "    1. Range -> Range is used to find the difference between the highest and lowest values in a dataset.It is a simple measure of how spread out the data is. \n",
    "    2. Variance -> The variance is used to find the measure of how far the values in a dataset are spread out from the mean. Basically,it is used to find out the spread of data. \n",
    "    3. Standard deviation -> The standard deviation also tells about how the data is spreaded along with median,it is more interpretable measure of variability than the variance, because it is in the same units as the data.\n",
    "    \n",
    "** Example **\n",
    "> Range: The range is the simplest measure of dispersion. It is the difference between the largest and smallest values in a data set. For example, if the heights of a group of people are 5 feet, 6 feet, 6 feet, 7 feet, and 7 feet, then the range is 2 feet.\n",
    "\n",
    "> Variance: The variance is a more complex measure of dispersion. It is calculated by taking the average of the squared deviations from the mean for all values in a data set. For example, if the heights of the people in the previous example are all 6 feet, then the variance is 0. However, if the heights are 5 feet, 6 feet, 6 feet, 7 feet, and 8 feet, then the variance is 2.25.\n",
    "\n",
    "> Standard deviation: The standard deviation is the square root of the variance. It is a more commonly used measure of dispersion than the variance because it is easier to interpret. For example, the standard deviation for the heights of the people in the previous example is 1.5.\n"
   ]
  },
  {
   "cell_type": "markdown",
   "id": "7175662d",
   "metadata": {},
   "source": [
    "**Q6. What is a Venn diagram?**"
   ]
  },
  {
   "cell_type": "markdown",
   "id": "493e404c",
   "metadata": {},
   "source": [
    "> A Venn diagram is a widely used diagram style that shows the logical relation between sets,popularized by John Venn(1834-1923) in the 1880's.\n",
    "\n",
    "> A Venn diagram is a diagram that shows all possible logical relations between a finite collection of different sets. \n",
    "\n",
    "> Venn diagrams are used to visualize the similarities an differences between two or more sets of data. \n",
    "\n",
    "> Simple Venn diagrams consist of two overlapping circles, but complex Venn diagrams may comapare up to five or more circles. \n",
    "\n",
    "> Venn diagrams are easy to understand and interpret, they can be used to visualize complex data sets, they can used to communicate complex ideas, and are versatile tool that can be used in a variety of different contexts. \n",
    "\n",
    "> Example of venn diagrams are : \n",
    "1. To comapare and contrast two different types of birds.\n",
    "2. To show the different types of customers that a company has. \n",
    "3. To illustrate the different stages of product development process. \n",
    "4. To show the relationship between different concepts in a logical argument."
   ]
  },
  {
   "cell_type": "markdown",
   "id": "eab6ba86",
   "metadata": {},
   "source": [
    "**Q7. For the two given sets A = (2,3,4,5,6,7) & B = (0,2,6,8,10). Find:\n",
    "(i) A B\n",
    "(ii) A ⋃ B**"
   ]
  },
  {
   "cell_type": "code",
   "execution_count": 13,
   "id": "c5df1567",
   "metadata": {},
   "outputs": [],
   "source": [
    "A = {2,3,4,5,6,7} \n",
    "B = {0,2,6,8,10}\n",
    "# A B\n",
    "# A ⋃ B"
   ]
  },
  {
   "cell_type": "code",
   "execution_count": 14,
   "id": "2aa4e754",
   "metadata": {},
   "outputs": [
    {
     "data": {
      "text/plain": [
       "{0, 2, 3, 4, 5, 6, 7, 8, 10}"
      ]
     },
     "execution_count": 14,
     "metadata": {},
     "output_type": "execute_result"
    }
   ],
   "source": [
    "# Union\n",
    "A|B"
   ]
  },
  {
   "cell_type": "code",
   "execution_count": 15,
   "id": "dd745874",
   "metadata": {},
   "outputs": [
    {
     "data": {
      "text/plain": [
       "{2, 6}"
      ]
     },
     "execution_count": 15,
     "metadata": {},
     "output_type": "execute_result"
    }
   ],
   "source": [
    "# Intersection\n",
    "A&B"
   ]
  },
  {
   "cell_type": "markdown",
   "id": "2f446a87",
   "metadata": {},
   "source": [
    "**Q8. What do you understand about skewness in data?**"
   ]
  },
  {
   "cell_type": "markdown",
   "id": "8212e513",
   "metadata": {},
   "source": [
    "1. Skewness is a measure of asymmetry of a distribution. \n",
    "2. A distribution is asymmetrical when its right and left side are not mirror images of each other. \n",
    "3. Skewness can be positive,negative or zero. \n",
    "4. Positive skewness occurs when the tail of the distribution is longer on the right side. This means that there are more data points with higher values than lower values. \n",
    "5. Negative skewness occurs when the tail of the distribution is longer on the left side. This means that there are more data points with lower values than higher values. \n",
    "6. Zero skewness occurs when the distribution is symmetrical. That is the data points are evenly distributed. \n",
    "7. Skewness can be used to understand the shape of the distribution and to identify outliers. Outliers are the data points which are very far away from the rest of the data and can skew the distribution, so, it is important to identify them. \n",
    "8. Skewness can be used to determine if the variable is normally distributed,identifying outliers,comparing different distributions,improving the accuracy of statistical models."
   ]
  },
  {
   "cell_type": "markdown",
   "id": "cdb8fb75",
   "metadata": {},
   "source": [
    "**Q9. If a data is right skewed then what will be the position of median with respect to mean?**"
   ]
  },
  {
   "cell_type": "markdown",
   "id": "caeca525",
   "metadata": {},
   "source": [
    "> If the distribution of data is skewed to right, the mode is often less than the median,which is less than the mean. "
   ]
  },
  {
   "cell_type": "markdown",
   "id": "0e5581b0",
   "metadata": {},
   "source": [
    "**Q10. Explain the difference between covariance and correlation. How are these measures used in\n",
    "statistical analysis?**"
   ]
  },
  {
   "cell_type": "markdown",
   "id": "463cf29a",
   "metadata": {},
   "source": [
    "1. Covariance and correlation are both statistical measures that quantify the relationship between two random variables.\n",
    "2. Covariance measures the extent to which two variables vary together.It is a measure of how much the two variables change in tandem,regardless of whether they change in the same direction or in opposite directions. \n",
    "3. The covariance of two variables can be positive,negative or zero. \n",
    "4. Correlation measures the strength and direction of the linear relationship between two variables. \n",
    "5. It is a standardized measure of covariance,which means that it is always between -1 to +1. \n",
    "6. A correlation of +1 indicates perfect positive relationship,a correlation of -1 indicates perfect negative relationship and 0 indicates linear relationship. \n",
    "7. There are two main types of correlation : \n",
    "    1. Pearson correlation \n",
    "    2. Spearman Rank correlation\n",
    "8. Covariance and Correlation are used to identify relationships between variables,to measure the strength of the relationship between two variables(a larger coefficient indicates a stronger relationship),to make predictions.\n",
    "9. For example -> A financial analyst might use covariance to identify stocks that tend to move in the same direction. This information could be used to construct a portfolio that is less risky than a portfolio that is randomly diversified. "
   ]
  },
  {
   "cell_type": "markdown",
   "id": "afef49f8",
   "metadata": {},
   "source": [
    "**Q11. What is the formula for calculating the sample mean? Provide an example calculation for a\n",
    "dataset.**"
   ]
  },
  {
   "cell_type": "markdown",
   "id": "01cdd6a3",
   "metadata": {},
   "source": [
    "1. Formula for calculating sample mean : \n",
    "\n",
    "> x̄ = (Σxi/n)\n",
    "\n",
    "> where,\n",
    "\n",
    "> x̄ = sample mean\n",
    "\n",
    "> Σxi = sum of all the data \n",
    "\n",
    "> n = no. of items"
   ]
  },
  {
   "cell_type": "code",
   "execution_count": 1,
   "id": "661847b0",
   "metadata": {},
   "outputs": [],
   "source": [
    "import seaborn as sns\n",
    "df = sns.load_dataset('iris')"
   ]
  },
  {
   "cell_type": "code",
   "execution_count": 2,
   "id": "84725869",
   "metadata": {},
   "outputs": [
    {
     "data": {
      "text/html": [
       "<div>\n",
       "<style scoped>\n",
       "    .dataframe tbody tr th:only-of-type {\n",
       "        vertical-align: middle;\n",
       "    }\n",
       "\n",
       "    .dataframe tbody tr th {\n",
       "        vertical-align: top;\n",
       "    }\n",
       "\n",
       "    .dataframe thead th {\n",
       "        text-align: right;\n",
       "    }\n",
       "</style>\n",
       "<table border=\"1\" class=\"dataframe\">\n",
       "  <thead>\n",
       "    <tr style=\"text-align: right;\">\n",
       "      <th></th>\n",
       "      <th>sepal_length</th>\n",
       "      <th>sepal_width</th>\n",
       "      <th>petal_length</th>\n",
       "      <th>petal_width</th>\n",
       "      <th>species</th>\n",
       "    </tr>\n",
       "  </thead>\n",
       "  <tbody>\n",
       "    <tr>\n",
       "      <th>0</th>\n",
       "      <td>5.1</td>\n",
       "      <td>3.5</td>\n",
       "      <td>1.4</td>\n",
       "      <td>0.2</td>\n",
       "      <td>setosa</td>\n",
       "    </tr>\n",
       "    <tr>\n",
       "      <th>1</th>\n",
       "      <td>4.9</td>\n",
       "      <td>3.0</td>\n",
       "      <td>1.4</td>\n",
       "      <td>0.2</td>\n",
       "      <td>setosa</td>\n",
       "    </tr>\n",
       "    <tr>\n",
       "      <th>2</th>\n",
       "      <td>4.7</td>\n",
       "      <td>3.2</td>\n",
       "      <td>1.3</td>\n",
       "      <td>0.2</td>\n",
       "      <td>setosa</td>\n",
       "    </tr>\n",
       "    <tr>\n",
       "      <th>3</th>\n",
       "      <td>4.6</td>\n",
       "      <td>3.1</td>\n",
       "      <td>1.5</td>\n",
       "      <td>0.2</td>\n",
       "      <td>setosa</td>\n",
       "    </tr>\n",
       "    <tr>\n",
       "      <th>4</th>\n",
       "      <td>5.0</td>\n",
       "      <td>3.6</td>\n",
       "      <td>1.4</td>\n",
       "      <td>0.2</td>\n",
       "      <td>setosa</td>\n",
       "    </tr>\n",
       "  </tbody>\n",
       "</table>\n",
       "</div>"
      ],
      "text/plain": [
       "   sepal_length  sepal_width  petal_length  petal_width species\n",
       "0           5.1          3.5           1.4          0.2  setosa\n",
       "1           4.9          3.0           1.4          0.2  setosa\n",
       "2           4.7          3.2           1.3          0.2  setosa\n",
       "3           4.6          3.1           1.5          0.2  setosa\n",
       "4           5.0          3.6           1.4          0.2  setosa"
      ]
     },
     "execution_count": 2,
     "metadata": {},
     "output_type": "execute_result"
    }
   ],
   "source": [
    "df.head()"
   ]
  },
  {
   "cell_type": "code",
   "execution_count": 8,
   "id": "0613af53",
   "metadata": {},
   "outputs": [],
   "source": [
    "df_sample = df['sepal_length'][:40]"
   ]
  },
  {
   "cell_type": "code",
   "execution_count": 9,
   "id": "64aaca5d",
   "metadata": {},
   "outputs": [
    {
     "data": {
      "text/plain": [
       "0     5.1\n",
       "1     4.9\n",
       "2     4.7\n",
       "3     4.6\n",
       "4     5.0\n",
       "5     5.4\n",
       "6     4.6\n",
       "7     5.0\n",
       "8     4.4\n",
       "9     4.9\n",
       "10    5.4\n",
       "11    4.8\n",
       "12    4.8\n",
       "13    4.3\n",
       "14    5.8\n",
       "15    5.7\n",
       "16    5.4\n",
       "17    5.1\n",
       "18    5.7\n",
       "19    5.1\n",
       "20    5.4\n",
       "21    5.1\n",
       "22    4.6\n",
       "23    5.1\n",
       "24    4.8\n",
       "25    5.0\n",
       "26    5.0\n",
       "27    5.2\n",
       "28    5.2\n",
       "29    4.7\n",
       "30    4.8\n",
       "31    5.4\n",
       "32    5.2\n",
       "33    5.5\n",
       "34    4.9\n",
       "35    5.0\n",
       "36    5.5\n",
       "37    4.9\n",
       "38    4.4\n",
       "39    5.1\n",
       "Name: sepal_length, dtype: float64"
      ]
     },
     "execution_count": 9,
     "metadata": {},
     "output_type": "execute_result"
    }
   ],
   "source": [
    "df_sample"
   ]
  },
  {
   "cell_type": "code",
   "execution_count": 10,
   "id": "9de2c17a",
   "metadata": {},
   "outputs": [
    {
     "data": {
      "text/plain": [
       "40"
      ]
     },
     "execution_count": 10,
     "metadata": {},
     "output_type": "execute_result"
    }
   ],
   "source": [
    "len(df_sample)"
   ]
  },
  {
   "cell_type": "code",
   "execution_count": 12,
   "id": "f20d5e2c",
   "metadata": {},
   "outputs": [
    {
     "name": "stdout",
     "output_type": "stream",
     "text": [
      "201.49999999999997\n"
     ]
    }
   ],
   "source": [
    "sum = 0\n",
    "for i in range(len(df_sample)):\n",
    "    sum = sum+df_sample[i]\n",
    "print(sum)"
   ]
  },
  {
   "cell_type": "markdown",
   "id": "ee4b58c9",
   "metadata": {},
   "source": [
    "**Q12. For a normal distribution data what is the relationship between its measure of central tendency?**"
   ]
  },
  {
   "cell_type": "markdown",
   "id": "82cae7d9",
   "metadata": {},
   "source": [
    "1. In a normal distribution, the mean,median and mode are equal.This is because the normal distribution is symmetrical and the mean,mode and median are all located at center of the distribution. \n",
    "2. In a normal distribution the mean, mode and median are equal means there are equal no. of values above and below the mean, and the distribution is not skewed in any direction. \n",
    "3. The mean is the average of all the values in the distribution,the median is the value that falls in the middle of the distribution, when all the values are arranged in ascending or descending order and the mode is the value that appears most frequrently in the distribution. "
   ]
  },
  {
   "cell_type": "markdown",
   "id": "5476a068",
   "metadata": {},
   "source": [
    "**Q13. How is covariance different from correlation?**"
   ]
  },
  {
   "cell_type": "markdown",
   "id": "ada21f4e",
   "metadata": {},
   "source": [
    "1. Covariance and correlation are both statistical measures that quantify the relationship between two random variables.\n",
    "2. Covariance could be positive or negative depending upon the nature of the dataset. \n",
    "3. If both the parameters x and y are increasing or decreasing then the covariance is positive and if one of the parameter is positive and another is negative or vice versa then the covariance is negative. \n",
    "4. With the help of covariance, we can find the relationship between two variables x and y(+ve or -ve) i.e. quantified relationship between x and y.\n",
    "5. Covariance does not have a specific limit value, whereas to overcome this problem correlation is used. \n",
    "6. Correlation is a standardized measure of covariance i.e. it is always between -1 to +1. \n",
    "7. A correlation of +1 indicates perfect positive relationship,-1 indicates perfect negative relationship and 0 indicates linear relationship. \n",
    "8. There are two types of Correlation : \n",
    "    1. Pearson Correlation  - In this,we focus on the values,used for linear data. \n",
    "    2. Spearman Rank Correlation - In this,we focus on the rank between values,used for non-linear data. "
   ]
  },
  {
   "cell_type": "markdown",
   "id": "83771a1a",
   "metadata": {},
   "source": [
    "**Q14. How do outliers affect measures of central tendency and dispersion? Provide an example.**"
   ]
  },
  {
   "cell_type": "markdown",
   "id": "bb6904d3",
   "metadata": {},
   "source": [
    "1. Outliers are the data points that are very large or different from the rest of the data. \n",
    "2. Mean is sensitive to outliers among the other measures of central tendency,whereas the median is not sensitive to ouliers and outliers do not affect mode at all.  \n",
    "3. Outliers also affects measures of dispersion as they can make the data points more spread out. "
   ]
  },
  {
   "cell_type": "code",
   "execution_count": 19,
   "id": "dac57f3a",
   "metadata": {},
   "outputs": [
    {
     "name": "stdout",
     "output_type": "stream",
     "text": [
      "Mean = 23.11111111111111\n",
      "Median = 15.0\n",
      "Mode = ModeResult(mode=array([3]), count=array([1]))\n",
      "Standard deviation = 27.94615634252746\n",
      "Variance = 780.9876543209876\n"
     ]
    }
   ],
   "source": [
    "# For example ->\n",
    "import numpy as np\n",
    "from scipy import stats\n",
    "data = [3,6,9,12,15,18,21,24,100]\n",
    "# Here,in the above data '100' is an outlier\n",
    "# Finding mean\n",
    "print('Mean = {}'.format(np.mean(data)))\n",
    "print('Median = {}'.format(np.median(data)))\n",
    "print('Mode = {}'.format(stats.mode(data,keepdims=True)))\n",
    "print('Standard deviation = {}'.format(np.std(data)))\n",
    "print('Variance = {}'.format(np.var(data)))"
   ]
  },
  {
   "cell_type": "markdown",
   "id": "b5954e3e",
   "metadata": {},
   "source": [
    "## Observation\n",
    "**In the above example, '100' is an outlier which affects some of the methods of measures of central tendency and dispersion.We can see that the outliers affects the value of Mean and also Variance**"
   ]
  },
  {
   "cell_type": "code",
   "execution_count": null,
   "id": "df7cf6b1",
   "metadata": {},
   "outputs": [],
   "source": []
  }
 ],
 "metadata": {
  "kernelspec": {
   "display_name": "Python 3 (ipykernel)",
   "language": "python",
   "name": "python3"
  },
  "language_info": {
   "codemirror_mode": {
    "name": "ipython",
    "version": 3
   },
   "file_extension": ".py",
   "mimetype": "text/x-python",
   "name": "python",
   "nbconvert_exporter": "python",
   "pygments_lexer": "ipython3",
   "version": "3.10.9"
  }
 },
 "nbformat": 4,
 "nbformat_minor": 5
}
