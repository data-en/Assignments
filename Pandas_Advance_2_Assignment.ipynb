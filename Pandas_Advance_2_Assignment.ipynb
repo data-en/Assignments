{
 "cells": [
  {
   "cell_type": "markdown",
   "id": "98578c5e-1a19-4af1-a568-4f02962f356b",
   "metadata": {},
   "source": [
    "# Pandas Advance 2 Assignment"
   ]
  },
  {
   "cell_type": "code",
   "execution_count": 1,
   "id": "7fd5a71c-5ac6-44e0-990e-40eacabc6984",
   "metadata": {},
   "outputs": [],
   "source": [
    "import pandas as pd\n",
    "course_name = ['Data Science','Machine Learning','Big Data','Data Engineer']\n",
    "duration = [2,3,6,4]\n",
    "df = pd.DataFrame(data = {'course_name':course_name,'duration':duration})"
   ]
  },
  {
   "cell_type": "code",
   "execution_count": 2,
   "id": "82bc3d3d-0d74-4cf9-86ff-6a160b9087fd",
   "metadata": {},
   "outputs": [
    {
     "data": {
      "text/html": [
       "<div>\n",
       "<style scoped>\n",
       "    .dataframe tbody tr th:only-of-type {\n",
       "        vertical-align: middle;\n",
       "    }\n",
       "\n",
       "    .dataframe tbody tr th {\n",
       "        vertical-align: top;\n",
       "    }\n",
       "\n",
       "    .dataframe thead th {\n",
       "        text-align: right;\n",
       "    }\n",
       "</style>\n",
       "<table border=\"1\" class=\"dataframe\">\n",
       "  <thead>\n",
       "    <tr style=\"text-align: right;\">\n",
       "      <th></th>\n",
       "      <th>course_name</th>\n",
       "      <th>duration</th>\n",
       "    </tr>\n",
       "  </thead>\n",
       "  <tbody>\n",
       "    <tr>\n",
       "      <th>0</th>\n",
       "      <td>Data Science</td>\n",
       "      <td>2</td>\n",
       "    </tr>\n",
       "    <tr>\n",
       "      <th>1</th>\n",
       "      <td>Machine Learning</td>\n",
       "      <td>3</td>\n",
       "    </tr>\n",
       "    <tr>\n",
       "      <th>2</th>\n",
       "      <td>Big Data</td>\n",
       "      <td>6</td>\n",
       "    </tr>\n",
       "    <tr>\n",
       "      <th>3</th>\n",
       "      <td>Data Engineer</td>\n",
       "      <td>4</td>\n",
       "    </tr>\n",
       "  </tbody>\n",
       "</table>\n",
       "</div>"
      ],
      "text/plain": [
       "        course_name  duration\n",
       "0      Data Science         2\n",
       "1  Machine Learning         3\n",
       "2          Big Data         6\n",
       "3     Data Engineer         4"
      ]
     },
     "execution_count": 2,
     "metadata": {},
     "output_type": "execute_result"
    }
   ],
   "source": [
    "df"
   ]
  },
  {
   "cell_type": "markdown",
   "id": "d42b54f1-e043-4f44-a7ec-1a28b472957b",
   "metadata": {},
   "source": [
    "### Q1. Write a code to print the data present in the second row of the dataframe, df."
   ]
  },
  {
   "cell_type": "code",
   "execution_count": 3,
   "id": "18666d93-346f-4321-9e36-4c0aa276e7ae",
   "metadata": {},
   "outputs": [
    {
     "data": {
      "text/html": [
       "<div>\n",
       "<style scoped>\n",
       "    .dataframe tbody tr th:only-of-type {\n",
       "        vertical-align: middle;\n",
       "    }\n",
       "\n",
       "    .dataframe tbody tr th {\n",
       "        vertical-align: top;\n",
       "    }\n",
       "\n",
       "    .dataframe thead th {\n",
       "        text-align: right;\n",
       "    }\n",
       "</style>\n",
       "<table border=\"1\" class=\"dataframe\">\n",
       "  <thead>\n",
       "    <tr style=\"text-align: right;\">\n",
       "      <th></th>\n",
       "      <th>course_name</th>\n",
       "      <th>duration</th>\n",
       "    </tr>\n",
       "  </thead>\n",
       "  <tbody>\n",
       "    <tr>\n",
       "      <th>1</th>\n",
       "      <td>Machine Learning</td>\n",
       "      <td>3</td>\n",
       "    </tr>\n",
       "  </tbody>\n",
       "</table>\n",
       "</div>"
      ],
      "text/plain": [
       "        course_name  duration\n",
       "1  Machine Learning         3"
      ]
     },
     "execution_count": 3,
     "metadata": {},
     "output_type": "execute_result"
    }
   ],
   "source": [
    "df.iloc[1:2]"
   ]
  },
  {
   "cell_type": "markdown",
   "id": "e7e99430-bd70-4f8c-b32a-522add5e1c49",
   "metadata": {},
   "source": [
    "### Q2. What is the difference between the functions loc and iloc in pandas.DataFrame?"
   ]
  },
  {
   "cell_type": "markdown",
   "id": "8118302f-6bfd-480a-9510-125367f1dc63",
   "metadata": {},
   "source": [
    "> Both loc and iloc are used to extract data in a dataframe but the main difference between loc and iloc is that we can provide string indices or manual indices in a iloc but we have to provide only numeric indexes in loc as in built-in function and loc acts as a built-in function used for indexing and slicing. loc and iloc both are used as for indexing and slicing in pandas.DataFrame but as per the condition that we need numeric indexes or string indexes the need for loc and iloc function differs."
   ]
  },
  {
   "cell_type": "markdown",
   "id": "281361eb-bcbd-41a5-87bf-38652d996582",
   "metadata": {},
   "source": [
    "### Q3. Reindex the given dataframe using a variable, reindex = [3,0,1,2] and store it in the variable, new_df then find the output for both new_df.loc[2] and new_df.iloc[2]."
   ]
  },
  {
   "cell_type": "code",
   "execution_count": 4,
   "id": "fb1712e1-682b-4526-a939-a5f514f271a8",
   "metadata": {},
   "outputs": [],
   "source": [
    "new_df = df.reindex([3,0,1,2])"
   ]
  },
  {
   "cell_type": "code",
   "execution_count": 5,
   "id": "73063967-14f5-4823-844f-330ddb13d763",
   "metadata": {},
   "outputs": [
    {
     "data": {
      "text/plain": [
       "course_name    Big Data\n",
       "duration              6\n",
       "Name: 2, dtype: object"
      ]
     },
     "execution_count": 5,
     "metadata": {},
     "output_type": "execute_result"
    }
   ],
   "source": [
    "new_df.loc[2]"
   ]
  },
  {
   "cell_type": "code",
   "execution_count": 6,
   "id": "3a411636-5668-4b07-b45f-7ad2c87ca22f",
   "metadata": {},
   "outputs": [
    {
     "data": {
      "text/plain": [
       "course_name    Machine Learning\n",
       "duration                      3\n",
       "Name: 1, dtype: object"
      ]
     },
     "execution_count": 6,
     "metadata": {},
     "output_type": "execute_result"
    }
   ],
   "source": [
    "new_df.iloc[2]"
   ]
  },
  {
   "cell_type": "markdown",
   "id": "581c16dd-c6ff-4354-8b18-0cb41e830a3a",
   "metadata": {},
   "source": [
    "> The main difference between the above two outputs is that loc function returns the data present at index number 2 and iloc function returns the data present at index 2 i.e. in compiler it is 1. So,therefore it returns different data although the dataset is same.The index considered is based on original data not on reindex pattern "
   ]
  },
  {
   "cell_type": "markdown",
   "id": "75983a5a-0835-4a25-ae53-d7eddeb79d7a",
   "metadata": {},
   "source": [
    "### Q4. Write a code to find the following statistical measurements for the above dataframe df1:\n",
    "1. mean of each and every column present in the dataframe.\n",
    "2. standard deviation of column, ‘column_2’"
   ]
  },
  {
   "cell_type": "code",
   "execution_count": 7,
   "id": "19272625-5566-4c7d-a6d6-d73bdcedb397",
   "metadata": {},
   "outputs": [],
   "source": [
    "import pandas as pd\n",
    "import numpy as np\n",
    "columns = ['column_1', 'column_2', 'column_3', 'column_4', 'column_5', 'column_6']\n",
    "indices = [1,2,3,4,5,6]\n",
    "#Creating a dataframe:\n",
    "df1 = pd.DataFrame(np.random.rand(6,6), columns = columns, index = indices)"
   ]
  },
  {
   "cell_type": "code",
   "execution_count": 8,
   "id": "608048c7-7f39-4745-9b54-4644fd4e9364",
   "metadata": {},
   "outputs": [
    {
     "data": {
      "text/html": [
       "<div>\n",
       "<style scoped>\n",
       "    .dataframe tbody tr th:only-of-type {\n",
       "        vertical-align: middle;\n",
       "    }\n",
       "\n",
       "    .dataframe tbody tr th {\n",
       "        vertical-align: top;\n",
       "    }\n",
       "\n",
       "    .dataframe thead th {\n",
       "        text-align: right;\n",
       "    }\n",
       "</style>\n",
       "<table border=\"1\" class=\"dataframe\">\n",
       "  <thead>\n",
       "    <tr style=\"text-align: right;\">\n",
       "      <th></th>\n",
       "      <th>column_1</th>\n",
       "      <th>column_2</th>\n",
       "      <th>column_3</th>\n",
       "      <th>column_4</th>\n",
       "      <th>column_5</th>\n",
       "      <th>column_6</th>\n",
       "    </tr>\n",
       "  </thead>\n",
       "  <tbody>\n",
       "    <tr>\n",
       "      <th>1</th>\n",
       "      <td>0.375988</td>\n",
       "      <td>0.606842</td>\n",
       "      <td>0.255269</td>\n",
       "      <td>0.602377</td>\n",
       "      <td>0.279485</td>\n",
       "      <td>0.232331</td>\n",
       "    </tr>\n",
       "    <tr>\n",
       "      <th>2</th>\n",
       "      <td>0.832872</td>\n",
       "      <td>0.093706</td>\n",
       "      <td>0.980891</td>\n",
       "      <td>0.255306</td>\n",
       "      <td>0.142481</td>\n",
       "      <td>0.025303</td>\n",
       "    </tr>\n",
       "    <tr>\n",
       "      <th>3</th>\n",
       "      <td>0.047954</td>\n",
       "      <td>0.317971</td>\n",
       "      <td>0.420279</td>\n",
       "      <td>0.683807</td>\n",
       "      <td>0.711510</td>\n",
       "      <td>0.524241</td>\n",
       "    </tr>\n",
       "    <tr>\n",
       "      <th>4</th>\n",
       "      <td>0.674315</td>\n",
       "      <td>0.169023</td>\n",
       "      <td>0.344928</td>\n",
       "      <td>0.647553</td>\n",
       "      <td>0.320876</td>\n",
       "      <td>0.187964</td>\n",
       "    </tr>\n",
       "    <tr>\n",
       "      <th>5</th>\n",
       "      <td>0.018627</td>\n",
       "      <td>0.102859</td>\n",
       "      <td>0.717679</td>\n",
       "      <td>0.189602</td>\n",
       "      <td>0.091247</td>\n",
       "      <td>0.597860</td>\n",
       "    </tr>\n",
       "    <tr>\n",
       "      <th>6</th>\n",
       "      <td>0.356361</td>\n",
       "      <td>0.642498</td>\n",
       "      <td>0.397163</td>\n",
       "      <td>0.953602</td>\n",
       "      <td>0.017456</td>\n",
       "      <td>0.227544</td>\n",
       "    </tr>\n",
       "  </tbody>\n",
       "</table>\n",
       "</div>"
      ],
      "text/plain": [
       "   column_1  column_2  column_3  column_4  column_5  column_6\n",
       "1  0.375988  0.606842  0.255269  0.602377  0.279485  0.232331\n",
       "2  0.832872  0.093706  0.980891  0.255306  0.142481  0.025303\n",
       "3  0.047954  0.317971  0.420279  0.683807  0.711510  0.524241\n",
       "4  0.674315  0.169023  0.344928  0.647553  0.320876  0.187964\n",
       "5  0.018627  0.102859  0.717679  0.189602  0.091247  0.597860\n",
       "6  0.356361  0.642498  0.397163  0.953602  0.017456  0.227544"
      ]
     },
     "execution_count": 8,
     "metadata": {},
     "output_type": "execute_result"
    }
   ],
   "source": [
    "df1"
   ]
  },
  {
   "cell_type": "code",
   "execution_count": 9,
   "id": "55551cc8-8764-495f-8ab5-c2d1fa2340d0",
   "metadata": {},
   "outputs": [
    {
     "data": {
      "text/plain": [
       "column_1    0.384353\n",
       "column_2    0.322150\n",
       "column_3    0.519368\n",
       "column_4    0.555374\n",
       "column_5    0.260509\n",
       "column_6    0.299207\n",
       "dtype: float64"
      ]
     },
     "execution_count": 9,
     "metadata": {},
     "output_type": "execute_result"
    }
   ],
   "source": [
    "df1.mean()"
   ]
  },
  {
   "cell_type": "code",
   "execution_count": 10,
   "id": "d281757a-fd81-48f4-b4da-2bc7c91f5728",
   "metadata": {},
   "outputs": [
    {
     "data": {
      "text/plain": [
       "column_1    0.326503\n",
       "column_2    0.247957\n",
       "dtype: float64"
      ]
     },
     "execution_count": 10,
     "metadata": {},
     "output_type": "execute_result"
    }
   ],
   "source": [
    "df1.std()[0:2]"
   ]
  },
  {
   "cell_type": "markdown",
   "id": "97a7f87a-8145-4bae-81c7-eaf87d809c22",
   "metadata": {},
   "source": [
    "### Q5. Replace the data present in the second row of column, ‘column_2’ by a string variable then find the mean of column, column_2. If you are getting errors in executing it then explain why.\n",
    "[Hint: To replace the data use df1.loc[] and equate this to string data of your choice.]"
   ]
  },
  {
   "cell_type": "code",
   "execution_count": 11,
   "id": "9e330954-cebb-4e4c-9c01-fa2314c6b1ec",
   "metadata": {},
   "outputs": [],
   "source": [
    "df1.loc[2:2,['column_1','column_2']] = ['0.243566','0.690518']"
   ]
  },
  {
   "cell_type": "code",
   "execution_count": 12,
   "id": "04afa645-a5ed-4faf-8ddc-5776a050e88e",
   "metadata": {},
   "outputs": [
    {
     "name": "stderr",
     "output_type": "stream",
     "text": [
      "/tmp/ipykernel_292/3676035991.py:1: FutureWarning: The default value of numeric_only in DataFrame.mean is deprecated. In a future version, it will default to False. In addition, specifying 'numeric_only=None' is deprecated. Select only valid columns or specify the value of numeric_only to silence this warning.\n",
      "  df1.mean()[0:2]\n"
     ]
    },
    {
     "data": {
      "text/plain": [
       "column_3    0.519368\n",
       "column_4    0.555374\n",
       "dtype: float64"
      ]
     },
     "execution_count": 12,
     "metadata": {},
     "output_type": "execute_result"
    }
   ],
   "source": [
    "df1.mean()[0:2]"
   ]
  },
  {
   "cell_type": "markdown",
   "id": "052f3ae6-94f5-4263-aed8-898fe6ae6255",
   "metadata": {},
   "source": [
    "After converting 2nd row of column 1 and collumn 2 into string the dtype of column1 and column2 changed to object and finding the mean of data which is in string format is not possible so it is throwing a warning that:\n",
    "> /tmp/ipykernel_119/3676035991.py:1: FutureWarning: The default value of numeric_only in DataFrame.mean is deprecated. In a future version, it will default to False. In addition, specifying 'numeric_only=None' is deprecated. Select only valid columns or specify the value of numeric_only to silence this warning. df1.mean()[0:2]\n",
    "\n",
    "> It means that the mean of only numeric values is possible not of string values "
   ]
  },
  {
   "cell_type": "markdown",
   "id": "f78a0452-d0d0-42d3-9c89-9ae65205fbb0",
   "metadata": {},
   "source": [
    "### Q6. What do you understand about the windows function in pandas and list the types of windows functions?\n",
    "\n",
    "> Window tells us the distance between the current row and the row on which we are going to perform the operation.\n",
    "\n",
    "> If window=1, it indicates that the distance between current row and the row on which we are going to perform an operation is 1 i.e. it's next row\n",
    "\n",
    "> If window=2, it assumes the first value as NaN and then performs the operation on it considering every second row\n",
    "\n",
    "1. Types of windows functions :- \n",
    "\n",
    "> There are four types of windows functions : \n",
    "\n",
    "> 1. Rolling Window -> Generic rolling windows support specifying windows as a fixed number of observations or variable number of observations based on an offset\n",
    "\n",
    "> 2. Weighted Window -> Scipy must be installed in order to use these windows,this is the special type of window used in filtering and spectral estimation\n",
    "\n",
    "> 3. Expanding Window -> An expanding window yields the value of an aggregation statistic with all the data available up to that point in time.\n",
    "\n",
    "> 4. Exponentially Weighted Window -> An exponentially weighted window is similar to an expanding window but with each prior point being exponentially weighted down relative to the current point."
   ]
  },
  {
   "cell_type": "markdown",
   "id": "e6045414-58c3-40a7-80a2-c308c5ddea7d",
   "metadata": {},
   "source": [
    "### Q7. Write a code to print only the current month and year at the time of answering this question.\n",
    "[Hint: Use pandas.datetime function]"
   ]
  },
  {
   "cell_type": "code",
   "execution_count": 13,
   "id": "3569ab8d-5fa6-4c1a-9ec8-38a45fcab9c6",
   "metadata": {},
   "outputs": [
    {
     "name": "stdout",
     "output_type": "stream",
     "text": [
      "Current Day : 12\n",
      "Current Month : 7\n",
      "Current Year : 2023\n",
      "Current Hour : 16 (in hours)\n",
      "Current Minutes : 4 minutes\n",
      "Current Seconds : 37 seconds\n"
     ]
    }
   ],
   "source": [
    "import pandas as pd\n",
    "from datetime import datetime\n",
    "current_day = datetime.now().day\n",
    "current_month = datetime.now().month\n",
    "current_year = datetime.now().year\n",
    "\n",
    "current_hour = datetime.now().hour\n",
    "current_minutes = datetime.now().minute\n",
    "current_seconds = datetime.now().second\n",
    "\n",
    "print('Current Day :' ,current_day)\n",
    "print('Current Month :' ,current_month)\n",
    "print('Current Year :' ,current_year)\n",
    "print('Current Hour :' ,current_hour,'(in hours)')\n",
    "print('Current Minutes :' ,current_minutes,'minutes')\n",
    "print('Current Seconds :' ,current_seconds,'seconds')"
   ]
  },
  {
   "cell_type": "markdown",
   "id": "ba940d38-5893-4b5c-a1b6-2ecda97bd056",
   "metadata": {},
   "source": [
    "### Q8. Write a Python program that takes in two dates as input (in the format YYYY-MM-DD) and calculates the difference between them in days, hours, and minutes using Pandas time delta. The program should prompt the user to enter the dates and display the result."
   ]
  },
  {
   "cell_type": "code",
   "execution_count": 19,
   "id": "4a9ca319-2125-45ad-8261-f3a9ab68a5e8",
   "metadata": {},
   "outputs": [
    {
     "name": "stdin",
     "output_type": "stream",
     "text": [
      "Enter a year :  2023\n",
      "Enter a month :  05\n",
      "Enter a day :  21\n",
      "Enter a year :  2023\n",
      "Enter a month :  07\n",
      "Enter a day :  23\n"
     ]
    },
    {
     "name": "stdout",
     "output_type": "stream",
     "text": [
      "DatetimeIndex(['2023-05-21', '2023-05-22', '2023-05-23', '2023-05-24',\n",
      "               '2023-05-25', '2023-05-26', '2023-05-27', '2023-05-28',\n",
      "               '2023-05-29', '2023-05-30', '2023-05-31', '2023-06-01',\n",
      "               '2023-06-02', '2023-06-03', '2023-06-04', '2023-06-05',\n",
      "               '2023-06-06', '2023-06-07', '2023-06-08', '2023-06-09',\n",
      "               '2023-06-10', '2023-06-11', '2023-06-12', '2023-06-13',\n",
      "               '2023-06-14', '2023-06-15', '2023-06-16', '2023-06-17',\n",
      "               '2023-06-18', '2023-06-19', '2023-06-20', '2023-06-21',\n",
      "               '2023-06-22', '2023-06-23', '2023-06-24', '2023-06-25',\n",
      "               '2023-06-26', '2023-06-27', '2023-06-28', '2023-06-29',\n",
      "               '2023-06-30', '2023-07-01', '2023-07-02', '2023-07-03',\n",
      "               '2023-07-04', '2023-07-05', '2023-07-06', '2023-07-07',\n",
      "               '2023-07-08', '2023-07-09', '2023-07-10', '2023-07-11',\n",
      "               '2023-07-12', '2023-07-13', '2023-07-14', '2023-07-15',\n",
      "               '2023-07-16', '2023-07-17', '2023-07-18', '2023-07-19',\n",
      "               '2023-07-20', '2023-07-21', '2023-07-22', '2023-07-23'],\n",
      "              dtype='datetime64[ns]', freq='D')\n"
     ]
    }
   ],
   "source": [
    "import pandas as pd\n",
    "from datetime import date,datetime\n",
    "year = int(input('Enter a year : '))\n",
    "month = int(input('Enter a month : '))\n",
    "day = int(input('Enter a day : '))\n",
    "\n",
    "dt1 = date(year,month,day)\n",
    "\n",
    "year = int(input('Enter a year : '))\n",
    "month = int(input('Enter a month : '))\n",
    "day = int(input('Enter a day : '))\n",
    "\n",
    "dt2 = date(year,month,day)\n",
    "\n",
    "data = pd.date_range(start = str(dt1),end=str(dt2))\n",
    "print(data)"
   ]
  },
  {
   "cell_type": "markdown",
   "id": "a8f2f31c-63f9-4ab0-a9c2-d5f2ecb7390b",
   "metadata": {},
   "source": [
    "### Q9. Write a Python program that reads a CSV file containing categorical data and converts a specified column to a categorical data type. The program should prompt the user to enter the file path, column name, and category order, and then display the sorted data."
   ]
  },
  {
   "cell_type": "markdown",
   "id": "cc2d1ffc-23c0-476f-a486-7d091fa47766",
   "metadata": {},
   "source": [
    "> I am not able to understand this question"
   ]
  },
  {
   "cell_type": "markdown",
   "id": "9892ea13-b1ac-4b59-a215-36c18fe9b807",
   "metadata": {},
   "source": [
    "### Q10. Write a Python program that reads a CSV file containing sales data for different products and visualizes the data using a stacked bar chart to show the sales of each product category over time. The program should prompt the user to enter the file path and display the chart."
   ]
  },
  {
   "cell_type": "code",
   "execution_count": 1,
   "id": "e0ed0877-90d4-457d-abde-be1e79b964e0",
   "metadata": {},
   "outputs": [],
   "source": [
    "def show_chart(file_path):\n",
    "    with open(file_path,'r') as csv_file:\n",
    "        data = pd.Series(csv_file.read())\n",
    "        data.plot()"
   ]
  },
  {
   "cell_type": "code",
   "execution_count": 7,
   "id": "99310352-5813-4fa0-937c-0a4be48d088e",
   "metadata": {},
   "outputs": [],
   "source": [
    "import pandas as pd\n",
    "data = pd.DataFrame([2,3,4,5,6,7,8])\n",
    "data1 = data.to_csv()"
   ]
  },
  {
   "cell_type": "code",
   "execution_count": 8,
   "id": "cb46bb1c-b519-42bb-bbc4-5463321bb16c",
   "metadata": {},
   "outputs": [
    {
     "ename": "FileNotFoundError",
     "evalue": "[Errno 2] No such file or directory: ',0\\n0,2\\n1,3\\n2,4\\n3,5\\n4,6\\n5,7\\n6,8\\n'",
     "output_type": "error",
     "traceback": [
      "\u001b[0;31m---------------------------------------------------------------------------\u001b[0m",
      "\u001b[0;31mFileNotFoundError\u001b[0m                         Traceback (most recent call last)",
      "Cell \u001b[0;32mIn[8], line 1\u001b[0m\n\u001b[0;32m----> 1\u001b[0m \u001b[43mshow_chart\u001b[49m\u001b[43m(\u001b[49m\u001b[43mdata1\u001b[49m\u001b[43m)\u001b[49m\n",
      "Cell \u001b[0;32mIn[1], line 2\u001b[0m, in \u001b[0;36mshow_chart\u001b[0;34m(file_path)\u001b[0m\n\u001b[1;32m      1\u001b[0m \u001b[38;5;28;01mdef\u001b[39;00m \u001b[38;5;21mshow_chart\u001b[39m(file_path):\n\u001b[0;32m----> 2\u001b[0m     \u001b[38;5;28;01mwith\u001b[39;00m \u001b[38;5;28;43mopen\u001b[39;49m\u001b[43m(\u001b[49m\u001b[43mfile_path\u001b[49m\u001b[43m,\u001b[49m\u001b[38;5;124;43m'\u001b[39;49m\u001b[38;5;124;43mr\u001b[39;49m\u001b[38;5;124;43m'\u001b[39;49m\u001b[43m)\u001b[49m \u001b[38;5;28;01mas\u001b[39;00m csv_file:\n\u001b[1;32m      3\u001b[0m         data \u001b[38;5;241m=\u001b[39m pd\u001b[38;5;241m.\u001b[39mSeries(csv_file\u001b[38;5;241m.\u001b[39mread())\n\u001b[1;32m      4\u001b[0m         data\u001b[38;5;241m.\u001b[39mplot()\n",
      "File \u001b[0;32m/opt/conda/lib/python3.10/site-packages/IPython/core/interactiveshell.py:282\u001b[0m, in \u001b[0;36m_modified_open\u001b[0;34m(file, *args, **kwargs)\u001b[0m\n\u001b[1;32m    275\u001b[0m \u001b[38;5;28;01mif\u001b[39;00m file \u001b[38;5;129;01min\u001b[39;00m {\u001b[38;5;241m0\u001b[39m, \u001b[38;5;241m1\u001b[39m, \u001b[38;5;241m2\u001b[39m}:\n\u001b[1;32m    276\u001b[0m     \u001b[38;5;28;01mraise\u001b[39;00m \u001b[38;5;167;01mValueError\u001b[39;00m(\n\u001b[1;32m    277\u001b[0m         \u001b[38;5;124mf\u001b[39m\u001b[38;5;124m\"\u001b[39m\u001b[38;5;124mIPython won\u001b[39m\u001b[38;5;124m'\u001b[39m\u001b[38;5;124mt let you open fd=\u001b[39m\u001b[38;5;132;01m{\u001b[39;00mfile\u001b[38;5;132;01m}\u001b[39;00m\u001b[38;5;124m by default \u001b[39m\u001b[38;5;124m\"\u001b[39m\n\u001b[1;32m    278\u001b[0m         \u001b[38;5;124m\"\u001b[39m\u001b[38;5;124mas it is likely to crash IPython. If you know what you are doing, \u001b[39m\u001b[38;5;124m\"\u001b[39m\n\u001b[1;32m    279\u001b[0m         \u001b[38;5;124m\"\u001b[39m\u001b[38;5;124myou can use builtins\u001b[39m\u001b[38;5;124m'\u001b[39m\u001b[38;5;124m open.\u001b[39m\u001b[38;5;124m\"\u001b[39m\n\u001b[1;32m    280\u001b[0m     )\n\u001b[0;32m--> 282\u001b[0m \u001b[38;5;28;01mreturn\u001b[39;00m \u001b[43mio_open\u001b[49m\u001b[43m(\u001b[49m\u001b[43mfile\u001b[49m\u001b[43m,\u001b[49m\u001b[43m \u001b[49m\u001b[38;5;241;43m*\u001b[39;49m\u001b[43margs\u001b[49m\u001b[43m,\u001b[49m\u001b[43m \u001b[49m\u001b[38;5;241;43m*\u001b[39;49m\u001b[38;5;241;43m*\u001b[39;49m\u001b[43mkwargs\u001b[49m\u001b[43m)\u001b[49m\n",
      "\u001b[0;31mFileNotFoundError\u001b[0m: [Errno 2] No such file or directory: ',0\\n0,2\\n1,3\\n2,4\\n3,5\\n4,6\\n5,7\\n6,8\\n'"
     ]
    }
   ],
   "source": [
    "show_chart(data1)"
   ]
  },
  {
   "cell_type": "markdown",
   "id": "d6a66474-1954-4e0d-a586-fb0f9340fcd6",
   "metadata": {},
   "source": [
    "Q11. You are given a CSV file containing student data that includes the student ID and their test score. Write\n",
    "a Python program that reads the CSV file, calculates the mean, median, and mode of the test scores, and\n",
    "displays the results in a table.\n",
    "The program should do the followingM\n",
    "I Prompt the user to enter the file path of the CSV file containing the student dataR\n",
    "I Read the CSV file into a Pandas DataFrameR\n",
    "I Calculate the mean, median, and mode of the test scores using Pandas toolsR\n",
    "I Display the mean, median, and mode in a table.\n",
    "Assume the CSV file contains the following columnsM\n",
    "I Student ID: The ID of the studentR\n",
    "I Test Score: The score of the student's test.\n",
    "Example usage of the program:\n",
    "Enter the file path of the CSV file containing the student data: student_data.csv\n",
    "+-----------+--------+\n",
    "| Statistic | Value |\n",
    "+-----------+--------+\n",
    "| Mean | 79.6 |\n",
    "| Median | 82 |\n",
    "| Mode | 85, 90 |\n",
    "+-----------+--------+\n",
    "Assume that the CSV file student_data.csv contains the following data:\n",
    "Student ID,Test Score\n",
    "1,85\n",
    "2,90\n",
    "3,80\n",
    "4,75\n",
    "5,85\n",
    "6,82\n",
    "7,78\n",
    "8,85\n",
    "9,90\n",
    "10,85\n",
    "The program should calculate the mean, median, and mode of the test scores and display the results\n",
    "in a table."
   ]
  },
  {
   "cell_type": "code",
   "execution_count": 10,
   "id": "2217dc94-1a7d-4c7f-8938-0423010ecdcc",
   "metadata": {},
   "outputs": [],
   "source": [
    "data = {'Student Id':[1,2,3,4,5,6,7,8,9,10],'Test Score' : [85,90,80,75,85,82,78,85,90,85]}\n",
    "df = pd.DataFrame(data)"
   ]
  },
  {
   "cell_type": "code",
   "execution_count": 11,
   "id": "39ed8745-b771-471b-9843-bc53b1888d61",
   "metadata": {},
   "outputs": [],
   "source": [
    "df.to_csv('data.csv')"
   ]
  },
  {
   "cell_type": "code",
   "execution_count": 18,
   "id": "3dae3b75-7c18-4716-8073-59cbc183231e",
   "metadata": {},
   "outputs": [],
   "source": [
    "def read_csv_file(file_path):\n",
    "    with open(file_path,'r') as csv_file:\n",
    "        data2 = csv_file.read()\n",
    "        data2['Student Id'].mean()"
   ]
  },
  {
   "cell_type": "code",
   "execution_count": 19,
   "id": "0ac460ff-0070-4705-b69e-c71e5d4aa594",
   "metadata": {},
   "outputs": [
    {
     "ename": "TypeError",
     "evalue": "string indices must be integers",
     "output_type": "error",
     "traceback": [
      "\u001b[0;31m---------------------------------------------------------------------------\u001b[0m",
      "\u001b[0;31mTypeError\u001b[0m                                 Traceback (most recent call last)",
      "Cell \u001b[0;32mIn[19], line 1\u001b[0m\n\u001b[0;32m----> 1\u001b[0m \u001b[43mread_csv_file\u001b[49m\u001b[43m(\u001b[49m\u001b[38;5;124;43m'\u001b[39;49m\u001b[38;5;124;43mdata.csv\u001b[39;49m\u001b[38;5;124;43m'\u001b[39;49m\u001b[43m)\u001b[49m\n",
      "Cell \u001b[0;32mIn[18], line 4\u001b[0m, in \u001b[0;36mread_csv_file\u001b[0;34m(file_path)\u001b[0m\n\u001b[1;32m      2\u001b[0m \u001b[38;5;28;01mwith\u001b[39;00m \u001b[38;5;28mopen\u001b[39m(file_path,\u001b[38;5;124m'\u001b[39m\u001b[38;5;124mr\u001b[39m\u001b[38;5;124m'\u001b[39m) \u001b[38;5;28;01mas\u001b[39;00m csv_file:\n\u001b[1;32m      3\u001b[0m     data2 \u001b[38;5;241m=\u001b[39m csv_file\u001b[38;5;241m.\u001b[39mread()\n\u001b[0;32m----> 4\u001b[0m     \u001b[43mdata2\u001b[49m\u001b[43m[\u001b[49m\u001b[38;5;124;43m'\u001b[39;49m\u001b[38;5;124;43mStudent Id\u001b[39;49m\u001b[38;5;124;43m'\u001b[39;49m\u001b[43m]\u001b[49m\u001b[38;5;241m.\u001b[39mmean()\n",
      "\u001b[0;31mTypeError\u001b[0m: string indices must be integers"
     ]
    }
   ],
   "source": [
    "read_csv_file('data.csv')"
   ]
  },
  {
   "cell_type": "code",
   "execution_count": null,
   "id": "779d4f9b-d2a2-4afc-98d7-709846cea134",
   "metadata": {},
   "outputs": [],
   "source": []
  }
 ],
 "metadata": {
  "kernelspec": {
   "display_name": "Python 3 (ipykernel)",
   "language": "python",
   "name": "python3"
  },
  "language_info": {
   "codemirror_mode": {
    "name": "ipython",
    "version": 3
   },
   "file_extension": ".py",
   "mimetype": "text/x-python",
   "name": "python",
   "nbconvert_exporter": "python",
   "pygments_lexer": "ipython3",
   "version": "3.10.8"
  }
 },
 "nbformat": 4,
 "nbformat_minor": 5
}
