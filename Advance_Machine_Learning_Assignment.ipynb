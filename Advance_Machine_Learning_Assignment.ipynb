{
 "cells": [
  {
   "cell_type": "markdown",
   "id": "5b761808",
   "metadata": {},
   "source": [
    "**Q1 - Explain the following with an example**\n",
    "1. Artificial Intelligence \n",
    "2. Machine Learning\n",
    "3. Deep Learning "
   ]
  },
  {
   "cell_type": "markdown",
   "id": "64bed3f0",
   "metadata": {},
   "source": [
    "1. AI is the branch of computer science that deals with the study of science and mathematics.AI is a smart application that can perform its own task without any human intervention.e.g.,self driving car,robots\n",
    "2. Machine learning is a subset of AI which provides stats tools to learn,analyze,visualize and develop predictive models from the data. e.g. In Netflix,Amazon Machine Learning is used for movie and product recommendation resp. \n",
    "3. Deep learning is a subset of ML and is used to mimic human brain.e.g.,Object detection,Image recognition,chatbot,chatgpt"
   ]
  },
  {
   "cell_type": "markdown",
   "id": "49c85b0d",
   "metadata": {},
   "source": [
    "**Q2- What is supervised learning? List some examples of supervised learning?**"
   ]
  },
  {
   "cell_type": "markdown",
   "id": "b6b2337e",
   "metadata": {},
   "source": [
    "Supervised learning is a type of machine learning in which the algorithm is trained on a dataset of labeled data. The labels tell the algorithm what the correct output should be for a given input. For example, a supervised learning algorithm could be trained to classify images of cats and dogs by being shown a set of images that have already been labeled as \"cat\" or \"dog.\""
   ]
  },
  {
   "cell_type": "markdown",
   "id": "4b845268",
   "metadata": {},
   "source": [
    "**Q3- What is unsupervised learning?List some examples of unsupervised learning?**"
   ]
  },
  {
   "cell_type": "markdown",
   "id": "4ea4635e",
   "metadata": {},
   "source": [
    "Unsupervised learning is a type of machine learning in which the algorithm is not given any labeled data. The algorithm must learn to find patterns in the data on its own. For example, an unsupervised learning algorithm could be used to cluster a set of customer data into groups of customers who are similar to each other."
   ]
  },
  {
   "cell_type": "markdown",
   "id": "68caf089",
   "metadata": {},
   "source": [
    "**Q4-What is the difference between AI,ML,DL and DS?**"
   ]
  },
  {
   "cell_type": "markdown",
   "id": "30af7273",
   "metadata": {},
   "source": [
    "1. AI is the branch of computer science that deals with the study of science and mathematics.AI is a smart application that can perform its own task without any human intervention.e.g.,self driving car,robots\n",
    "2. Machine learning is a subset of AI which provides stats tools to learn,analyze,visualize and develop predictive models from the data. e.g. In Netflix,Amazon Machine Learning is used for movie and product recommendation resp. \n",
    "3. Deep learning is a subset of ML and is used to mimic human brain.e.g.,Object detection,Image recognition,chatbot,chatgpt\n",
    "4. Data Science contains the study of all the above i.e. ML,AI and DL "
   ]
  },
  {
   "cell_type": "markdown",
   "id": "616a9ae4",
   "metadata": {},
   "source": [
    "**Q5-What are the main differences between supervised,unsupervised and semi-supervised learning?**"
   ]
  },
  {
   "cell_type": "markdown",
   "id": "24e2565b",
   "metadata": {},
   "source": [
    "1. Supervised learning has always been a specific but unsupervised learning do not have a specific o/p and semi-supervised is a combination of supervised learning and unsupervised learning. \n",
    "2. The labelled data will be present in supervised learning,unlabelled data will be present in unsupervised learning and both labelled and unlabelled data will be present in semi-supervised learning.\n",
    "3. Supervised learning has two types **classification** and **regression** which produces an output as categorical and continuous variable resp.,in Unsupervised learning,we form clusters or similar groups from which we have to predict an o/p,in semi-supervised learning we have to train a model using supervised learning as well we have to form clusters using unsupervised learning."
   ]
  },
  {
   "cell_type": "markdown",
   "id": "48dba2a6",
   "metadata": {},
   "source": [
    "**Q.6. What is the train,test and validation split? Explain the importance of each term?**"
   ]
  },
  {
   "cell_type": "markdown",
   "id": "706ca903",
   "metadata": {},
   "source": [
    "1. Train, test, and validation splits are a way of dividing your data into three sets so that you can evaluate the performance of your machine learning model. The train set is used to train the model, the test set is used to evaluate the model's performance on unseen data, and the validation set is used to tune the model's hyperparameters.\n",
    "\n",
    "2. **The importance of each term is as follows:**\n",
    "\n",
    "    1. Train set: The train set is the most important set, as it is used to train the model. The model learns to predict the correct output for the data in the train set. The size of the train set should be large enough to allow the model to learn the patterns in the data, but not so large that the model becomes overfit to the train set.\n",
    "    2. Test set: The test set is used to evaluate the model's performance on unseen data. The model is not trained on the test set, so it should not be able to predict the correct output for the data in the test set. The size of the test set should be large enough to give a good estimate of the model's performance on unseen data.\n",
    "    3. Validation set: The validation set is used to tune the model's hyperparameters. The hyperparameters are the parameters of the model that are not learned from the data. The validation set is used to find the values of the hyperparameters that give the best performance on the validation set."
   ]
  },
  {
   "cell_type": "markdown",
   "id": "2917f31e",
   "metadata": {},
   "source": [
    "**Q7. How can unsupervised learning be used in anomaly detection?**"
   ]
  },
  {
   "cell_type": "markdown",
   "id": "28c19cfa",
   "metadata": {},
   "source": [
    "1. Unsupervised anomaly detection is a type of anomaly detection that does not require any labeled data. The algorithm learns to find patterns in the data on its own, and then identifies data points that do not fit the patterns.\n",
    "\n",
    "2. **There are many different unsupervised anomaly detection algorithms, but some of the most common include:**\n",
    "\n",
    "    1. Isolation forest: This algorithm builds a forest of decision trees, and then identifies data points that are isolated from the rest of the data.\n",
    "    2. Local outlier factor (LOF): This algorithm measures the local density of each data point, and then identifies data points that have a low local density.\n",
    "    3. One-class support vector machines (OCSVM): This algorithm builds a support vector machine that only classifies normal data points. Data points that are not classified as normal are considered to be anomalies."
   ]
  },
  {
   "cell_type": "markdown",
   "id": "3134aded",
   "metadata": {},
   "source": [
    "**Q.8. List down some commonly used supervised learning algorithms and unsupervised learning algorithms?**"
   ]
  },
  {
   "cell_type": "markdown",
   "id": "1cf06c90",
   "metadata": {},
   "source": [
    "#### Supervised Learning algorithms \n",
    "1. Classification Algorithms\n",
    "    1. Decision trees\n",
    "    2. Support vector machines (SVMs)\n",
    "    3. Naive Bayes\n",
    "    4. K-nearest neighbors\n",
    "2. Regression Algorithms\n",
    "    1. Linear regression\n",
    "    2. Logistic regression\n",
    "#### Unsupervised Learning algorithms\n",
    "1. Clustering Algorithms\n",
    "2. K-means Clustering \n",
    "3. Anomaly detection\n",
    "\n",
    "    "
   ]
  },
  {
   "cell_type": "code",
   "execution_count": null,
   "id": "2d89bdff",
   "metadata": {},
   "outputs": [],
   "source": []
  }
 ],
 "metadata": {
  "kernelspec": {
   "display_name": "Python 3 (ipykernel)",
   "language": "python",
   "name": "python3"
  },
  "language_info": {
   "codemirror_mode": {
    "name": "ipython",
    "version": 3
   },
   "file_extension": ".py",
   "mimetype": "text/x-python",
   "name": "python",
   "nbconvert_exporter": "python",
   "pygments_lexer": "ipython3",
   "version": "3.10.9"
  }
 },
 "nbformat": 4,
 "nbformat_minor": 5
}
