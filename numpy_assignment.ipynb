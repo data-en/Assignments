{
 "cells": [
  {
   "cell_type": "markdown",
   "id": "fab7d048",
   "metadata": {},
   "source": [
    "# Numpy Assignment "
   ]
  },
  {
   "cell_type": "code",
   "execution_count": 11,
   "id": "261dd6ec",
   "metadata": {},
   "outputs": [],
   "source": [
    "import numpy as np\n",
    "lst = ['1','2','3','4','5']\n",
    "array_list = np.array(object = lst)"
   ]
  },
  {
   "cell_type": "code",
   "execution_count": 12,
   "id": "d1306534",
   "metadata": {},
   "outputs": [
    {
     "data": {
      "text/plain": [
       "array(['1', '2', '3', '4', '5'], dtype='<U1')"
      ]
     },
     "execution_count": 12,
     "metadata": {},
     "output_type": "execute_result"
    }
   ],
   "source": [
    "array_list"
   ]
  },
  {
   "cell_type": "markdown",
   "id": "e3e5b233",
   "metadata": {},
   "source": [
    "### Q1. Is there any difference in the data type of variables list_ and array_list? If there is then write a code to print the data types of both the variables."
   ]
  },
  {
   "cell_type": "markdown",
   "id": "c27a89e2",
   "metadata": {},
   "source": [
    "1. Yes, there is a difference between both the list i.e. variables_list and array_list, the difference is it's data types are different \n",
    "2. The variables_list is a data structure and the array_list is a type of array that is created using numpy library \n"
   ]
  },
  {
   "cell_type": "code",
   "execution_count": 13,
   "id": "a5ed6d73",
   "metadata": {},
   "outputs": [
    {
     "name": "stdout",
     "output_type": "stream",
     "text": [
      "<class 'list'>\n",
      "<class 'numpy.ndarray'>\n"
     ]
    }
   ],
   "source": [
    "print(type(lst))\n",
    "print(type(array_list))"
   ]
  },
  {
   "cell_type": "markdown",
   "id": "84b2ef45",
   "metadata": {},
   "source": [
    "#### Q2. Write a code to print the data type of each and every element of both the variables list_ and array_list."
   ]
  },
  {
   "cell_type": "code",
   "execution_count": 14,
   "id": "5f648fde",
   "metadata": {},
   "outputs": [
    {
     "name": "stdout",
     "output_type": "stream",
     "text": [
      "data type of every element of variables list\n",
      "1 = <class 'str'>\n",
      "2 = <class 'str'>\n",
      "3 = <class 'str'>\n",
      "4 = <class 'str'>\n",
      "5 = <class 'str'>\n",
      "-----------------------\n",
      "data type of every element of array_list\n",
      "1 = <class 'numpy.str_'>\n",
      "2 = <class 'numpy.str_'>\n",
      "3 = <class 'numpy.str_'>\n",
      "4 = <class 'numpy.str_'>\n",
      "5 = <class 'numpy.str_'>\n",
      "-----------------------\n"
     ]
    }
   ],
   "source": [
    "print('data type of every element of variables list')\n",
    "\n",
    "for i in lst : \n",
    "    print(i,'=',type(i))\n",
    "print('-----------------------')\n",
    "    \n",
    "print('data type of every element of array_list')\n",
    "\n",
    "for i in array_list:\n",
    "    print(i,'=',type(i))\n",
    "print('-----------------------')"
   ]
  },
  {
   "cell_type": "markdown",
   "id": "a64c8a05",
   "metadata": {},
   "source": [
    "Q3. Considering the following changes in the variable, array_list:\n",
    "array_list = np.array(object = list_, dtype = int)\n",
    "Will there be any difference in the data type of the elements present in both the variables, list_ and\n",
    "arra_list? If so then print the data types of each and every element present in both the variables, list_\n",
    "and arra_list."
   ]
  },
  {
   "cell_type": "code",
   "execution_count": 15,
   "id": "c78a6c3f",
   "metadata": {},
   "outputs": [],
   "source": [
    "# Yes, the data type will change to change as the data type of every element of array_list previously is 'str'"
   ]
  },
  {
   "cell_type": "code",
   "execution_count": 16,
   "id": "944ddf6b",
   "metadata": {},
   "outputs": [
    {
     "name": "stdout",
     "output_type": "stream",
     "text": [
      "1 --> <class 'numpy.str_'>\n",
      "2 --> <class 'numpy.str_'>\n",
      "3 --> <class 'numpy.str_'>\n",
      "4 --> <class 'numpy.str_'>\n",
      "5 --> <class 'numpy.str_'>\n"
     ]
    }
   ],
   "source": [
    "for i in array_list:\n",
    "    print(i,'-->',type(i))"
   ]
  },
  {
   "cell_type": "code",
   "execution_count": 17,
   "id": "804ce430",
   "metadata": {},
   "outputs": [],
   "source": [
    "array_list1 = np.array(['1','2','3','4','5'],dtype = int)"
   ]
  },
  {
   "cell_type": "code",
   "execution_count": 18,
   "id": "43832d6f",
   "metadata": {},
   "outputs": [
    {
     "name": "stdout",
     "output_type": "stream",
     "text": [
      "1 -> <class 'numpy.int32'>\n",
      "2 -> <class 'numpy.int32'>\n",
      "3 -> <class 'numpy.int32'>\n",
      "4 -> <class 'numpy.int32'>\n",
      "5 -> <class 'numpy.int32'>\n"
     ]
    }
   ],
   "source": [
    "for i in array_list1:\n",
    "    print(i,'->',type(i))"
   ]
  },
  {
   "cell_type": "code",
   "execution_count": 19,
   "id": "5247fecf",
   "metadata": {},
   "outputs": [],
   "source": [
    "# The data type of every element has changed after specifying the data type as int "
   ]
  },
  {
   "cell_type": "code",
   "execution_count": 20,
   "id": "824879b8",
   "metadata": {},
   "outputs": [],
   "source": [
    "import numpy as np \n",
    "num_list = [[1,2,3],[4,5,6]]\n",
    "num_array = np.array(num_list)"
   ]
  },
  {
   "cell_type": "markdown",
   "id": "b517973f",
   "metadata": {},
   "source": [
    "Q4. Write a code to find the following characteristics of variable, num_array:\n",
    "1. shape\n",
    "2. size"
   ]
  },
  {
   "cell_type": "code",
   "execution_count": 22,
   "id": "5cdc1a2d",
   "metadata": {},
   "outputs": [
    {
     "data": {
      "text/plain": [
       "(2, 3)"
      ]
     },
     "execution_count": 22,
     "metadata": {},
     "output_type": "execute_result"
    }
   ],
   "source": [
    "num_array.shape # dimension of num_array"
   ]
  },
  {
   "cell_type": "code",
   "execution_count": 23,
   "id": "deb3b784",
   "metadata": {},
   "outputs": [
    {
     "data": {
      "text/plain": [
       "6"
      ]
     },
     "execution_count": 23,
     "metadata": {},
     "output_type": "execute_result"
    }
   ],
   "source": [
    "num_array.size # no. of element present in num_array"
   ]
  },
  {
   "cell_type": "markdown",
   "id": "ee4861ad",
   "metadata": {},
   "source": [
    "Q5. Write a code to create numpy array of 3*3 matrix containing zeros only, using a numpy array\n",
    "creation function.\n",
    "[Hint: The size of the array will be 9 and the shape will be (3,3).]"
   ]
  },
  {
   "cell_type": "code",
   "execution_count": 24,
   "id": "54cb6807",
   "metadata": {},
   "outputs": [
    {
     "data": {
      "text/plain": [
       "array([[0., 0., 0.],\n",
       "       [0., 0., 0.],\n",
       "       [0., 0., 0.]])"
      ]
     },
     "execution_count": 24,
     "metadata": {},
     "output_type": "execute_result"
    }
   ],
   "source": [
    "np.zeros((3,3))"
   ]
  },
  {
   "cell_type": "markdown",
   "id": "45092b95",
   "metadata": {},
   "source": [
    "Q6. Create an identity matrix of shape (5,5) using numpy functions?\n",
    "[Hint: An identity matrix is a matrix containing 1 diagonally and other elements will be 0.]"
   ]
  },
  {
   "cell_type": "code",
   "execution_count": 28,
   "id": "7e34e4ff",
   "metadata": {},
   "outputs": [],
   "source": [
    "arr = np.eye(5)"
   ]
  },
  {
   "cell_type": "code",
   "execution_count": 29,
   "id": "43394485",
   "metadata": {},
   "outputs": [
    {
     "data": {
      "text/plain": [
       "array([[1., 0., 0., 0., 0.],\n",
       "       [0., 1., 0., 0., 0.],\n",
       "       [0., 0., 1., 0., 0.],\n",
       "       [0., 0., 0., 1., 0.],\n",
       "       [0., 0., 0., 0., 1.]])"
      ]
     },
     "execution_count": 29,
     "metadata": {},
     "output_type": "execute_result"
    }
   ],
   "source": [
    "arr"
   ]
  },
  {
   "cell_type": "code",
   "execution_count": null,
   "id": "98931914",
   "metadata": {},
   "outputs": [],
   "source": []
  }
 ],
 "metadata": {
  "kernelspec": {
   "display_name": "Python 3 (ipykernel)",
   "language": "python",
   "name": "python3"
  },
  "language_info": {
   "codemirror_mode": {
    "name": "ipython",
    "version": 3
   },
   "file_extension": ".py",
   "mimetype": "text/x-python",
   "name": "python",
   "nbconvert_exporter": "python",
   "pygments_lexer": "ipython3",
   "version": "3.10.9"
  }
 },
 "nbformat": 4,
 "nbformat_minor": 5
}
