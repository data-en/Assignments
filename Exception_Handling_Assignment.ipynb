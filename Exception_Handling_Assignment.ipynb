{
 "cells": [
  {
   "cell_type": "markdown",
   "id": "7e2546bf-9bb6-4bf3-a7c3-02b37ccc5f2f",
   "metadata": {},
   "source": [
    "#### Q1 What is an Exception in Python? Write the difference between Exceptions and Syntax Errors?"
   ]
  },
  {
   "cell_type": "markdown",
   "id": "60e8a252-4488-4d39-9ef8-c750f5c958f0",
   "metadata": {},
   "source": [
    "1. Exception --> Exception is an even comes in the program which disrupts the normal flow because of some error\n",
    "2. There are multiple types of Exception in Python such as IndentationError,SyntaxError,FileNotFoundError,RuntimeError,etc.\n",
    "3. The main difference between Exception and Syntax error is the Error occurs at compile time as well as Runtime,but the Exception only occurs at Runtime.\n",
    "4. One more difference is that the Exception breaks the normal flow whereas Syntax Error produces when the syntax is not followed properly\n",
    "5. Some type of common exceptions are as follows : \n",
    "    1. IndentationError\n",
    "    2. SyntaxError\n",
    "    3. RuntimeError\n",
    "    4. FileNotFoundError\n",
    "    5. TypeError\n",
    "    6. ValueError\n",
    "    7. NameError\n",
    "    8. KeyError\n",
    "    9. ZeroDivisionError\n",
    "    10. AttributeError"
   ]
  },
  {
   "cell_type": "markdown",
   "id": "1b8f07d8-70cc-4fde-8c0f-bd7ec5870141",
   "metadata": {},
   "source": [
    "#### What happens when an exception is not handled? Explain with example?"
   ]
  },
  {
   "cell_type": "markdown",
   "id": "b34220ba-0360-441a-b58f-d844509bc594",
   "metadata": {},
   "source": [
    "1. When an exception is not handled the interpreter throws an error,which disrupts the normal flow. \n",
    "2. The runtime system will abort the program and the exception message will be printed on console."
   ]
  },
  {
   "cell_type": "code",
   "execution_count": 3,
   "id": "a3f0bd23-2f34-4031-bd7f-b461fcfba20d",
   "metadata": {},
   "outputs": [
    {
     "ename": "FileNotFoundError",
     "evalue": "[Errno 2] No such file or directory: 'test2.txt'",
     "output_type": "error",
     "traceback": [
      "\u001b[0;31m---------------------------------------------------------------------------\u001b[0m",
      "\u001b[0;31mFileNotFoundError\u001b[0m                         Traceback (most recent call last)",
      "Cell \u001b[0;32mIn[3], line 3\u001b[0m\n\u001b[1;32m      1\u001b[0m \u001b[38;5;66;03m# For example:\u001b[39;00m\n\u001b[1;32m      2\u001b[0m \u001b[38;5;66;03m# When the exception is not handled --> \u001b[39;00m\n\u001b[0;32m----> 3\u001b[0m \u001b[38;5;28;01mwith\u001b[39;00m \u001b[38;5;28;43mopen\u001b[39;49m\u001b[43m(\u001b[49m\u001b[38;5;124;43m'\u001b[39;49m\u001b[38;5;124;43mtest2.txt\u001b[39;49m\u001b[38;5;124;43m'\u001b[39;49m\u001b[43m,\u001b[49m\u001b[38;5;124;43m'\u001b[39;49m\u001b[38;5;124;43mr\u001b[39;49m\u001b[38;5;124;43m'\u001b[39;49m\u001b[43m)\u001b[49m \u001b[38;5;28;01mas\u001b[39;00m f:\n\u001b[1;32m      4\u001b[0m     f\u001b[38;5;241m.\u001b[39mread()\n",
      "File \u001b[0;32m/opt/conda/lib/python3.10/site-packages/IPython/core/interactiveshell.py:282\u001b[0m, in \u001b[0;36m_modified_open\u001b[0;34m(file, *args, **kwargs)\u001b[0m\n\u001b[1;32m    275\u001b[0m \u001b[38;5;28;01mif\u001b[39;00m file \u001b[38;5;129;01min\u001b[39;00m {\u001b[38;5;241m0\u001b[39m, \u001b[38;5;241m1\u001b[39m, \u001b[38;5;241m2\u001b[39m}:\n\u001b[1;32m    276\u001b[0m     \u001b[38;5;28;01mraise\u001b[39;00m \u001b[38;5;167;01mValueError\u001b[39;00m(\n\u001b[1;32m    277\u001b[0m         \u001b[38;5;124mf\u001b[39m\u001b[38;5;124m\"\u001b[39m\u001b[38;5;124mIPython won\u001b[39m\u001b[38;5;124m'\u001b[39m\u001b[38;5;124mt let you open fd=\u001b[39m\u001b[38;5;132;01m{\u001b[39;00mfile\u001b[38;5;132;01m}\u001b[39;00m\u001b[38;5;124m by default \u001b[39m\u001b[38;5;124m\"\u001b[39m\n\u001b[1;32m    278\u001b[0m         \u001b[38;5;124m\"\u001b[39m\u001b[38;5;124mas it is likely to crash IPython. If you know what you are doing, \u001b[39m\u001b[38;5;124m\"\u001b[39m\n\u001b[1;32m    279\u001b[0m         \u001b[38;5;124m\"\u001b[39m\u001b[38;5;124myou can use builtins\u001b[39m\u001b[38;5;124m'\u001b[39m\u001b[38;5;124m open.\u001b[39m\u001b[38;5;124m\"\u001b[39m\n\u001b[1;32m    280\u001b[0m     )\n\u001b[0;32m--> 282\u001b[0m \u001b[38;5;28;01mreturn\u001b[39;00m \u001b[43mio_open\u001b[49m\u001b[43m(\u001b[49m\u001b[43mfile\u001b[49m\u001b[43m,\u001b[49m\u001b[43m \u001b[49m\u001b[38;5;241;43m*\u001b[39;49m\u001b[43margs\u001b[49m\u001b[43m,\u001b[49m\u001b[43m \u001b[49m\u001b[38;5;241;43m*\u001b[39;49m\u001b[38;5;241;43m*\u001b[39;49m\u001b[43mkwargs\u001b[49m\u001b[43m)\u001b[49m\n",
      "\u001b[0;31mFileNotFoundError\u001b[0m: [Errno 2] No such file or directory: 'test2.txt'"
     ]
    }
   ],
   "source": [
    "# For example:\n",
    "# When the exception is not handled --> \n",
    "with open('test2.txt','r') as f:\n",
    "    f.read()"
   ]
  },
  {
   "cell_type": "code",
   "execution_count": 4,
   "id": "3037db02-1d97-44f4-b0d8-86fc0a0b6b49",
   "metadata": {},
   "outputs": [
    {
     "name": "stdout",
     "output_type": "stream",
     "text": [
      "[Errno 2] No such file or directory: 'test2.txt'\n"
     ]
    }
   ],
   "source": [
    "# When the exception is handled -->\n",
    "try : \n",
    "    with open('test2.txt','r') as f:\n",
    "        print(file.read())\n",
    "except FileNotFoundError as e:\n",
    "    print(e)"
   ]
  },
  {
   "cell_type": "markdown",
   "id": "92caf7e9-e34a-4fc4-9bb6-3dbecd5a3cd6",
   "metadata": {},
   "source": [
    "#### Which Python statements are used to catch and handle exceptions? Explain with example?"
   ]
  },
  {
   "cell_type": "markdown",
   "id": "f27ca48d-d130-4ff5-b828-607f6ab318a7",
   "metadata": {},
   "source": [
    "1. The try and except blocks are used to catcha and handle exceptions. \n",
    "2. The try block processes in the normal way but if the error occurs the except block executes and prints a message as an output.\n",
    "3. With these we can use finally and else block but they are optional and the finally block always executes, it is not dependent on any other block but the else block executes only when the try block executes successfully. \n",
    "4. Whenever we are opening a file to write, we have to close it, so for the performing the operation of closing a file we can add 'file.close()' in finally block which will close the file if the code has an error and also if there is no error.\n",
    "5. The proper order of all the blocks is try,except,else and then finally"
   ]
  },
  {
   "cell_type": "code",
   "execution_count": 5,
   "id": "5b95c46e-4484-4bf6-b12e-d2fd856c8639",
   "metadata": {},
   "outputs": [
    {
     "name": "stdout",
     "output_type": "stream",
     "text": [
      "division by zero\n"
     ]
    }
   ],
   "source": [
    "# For example(1): \n",
    "# If there occurs an error -->\n",
    "try : \n",
    "    a = 12\n",
    "    a/0\n",
    "except ZeroDivisionError as e:\n",
    "    print(e)"
   ]
  },
  {
   "cell_type": "code",
   "execution_count": 7,
   "id": "3b4858bf-dec2-400a-95a1-167eb49390ac",
   "metadata": {},
   "outputs": [
    {
     "name": "stdout",
     "output_type": "stream",
     "text": [
      "The Mysterious Affair at Styles\n",
      "The Secret Adversary\n",
      "The Murder on the Links\n",
      "The Man in the Brown Suit\n",
      "The Secret of Chimneys\n",
      "The Murder of Roger Ackroyd\n",
      "The Big Four\n",
      "The Mystery of the Blue Train\n",
      "The Seven Dials Mystery\n",
      "The Murder at the Vicarage\n",
      "Giant's Bread\n",
      "The Floating Admiral\n",
      "The Sittaford Mystery\n",
      "Peril at End House\n",
      "Lord Edgware Dies\n",
      "Murder on the Orient Express\n",
      "Unfinished Portrait\n",
      "Why Didn't They Ask Evans?\n",
      "Three Act Tragedy\n",
      "Death in the Clouds\n",
      "\n",
      "The code could throw FileNotFoundError if the file does not exist\n"
     ]
    }
   ],
   "source": [
    "# For example(2):\n",
    "# If there is no error -->\n",
    "try : \n",
    "    with open('data1.txt','r') as file1 :\n",
    "        print(file1.read())\n",
    "except FileNotFoundError as e : \n",
    "    print(e)\n",
    "else : \n",
    "    file1.close()\n",
    "finally : \n",
    "    print('The code could throw FileNotFoundError if the file does not exist')"
   ]
  },
  {
   "cell_type": "markdown",
   "id": "84d954a7-0c6b-40f2-98ef-fa07bba9d3e8",
   "metadata": {},
   "source": [
    "#### Explain with an example.\n",
    "1. try and else \n",
    "2. finally\n",
    "3. raise"
   ]
  },
  {
   "cell_type": "code",
   "execution_count": 3,
   "id": "6191b5f3-5149-4ae2-897b-7874eb5c46ea",
   "metadata": {},
   "outputs": [
    {
     "name": "stdout",
     "output_type": "stream",
     "text": [
      "name 'a' is not defined\n"
     ]
    }
   ],
   "source": [
    "# 1. try and else \n",
    "try : \n",
    "    a==2\n",
    "except NameError as e:\n",
    "    print(e)\n",
    "    \n",
    "# Here,in the above example we have written a code in try block which will execute in a normal way, but if the error occurs it may print\n",
    "# the message in console,so, we use exception for normal execution of program and to print the error "
   ]
  },
  {
   "cell_type": "code",
   "execution_count": 4,
   "id": "84712b76-46fe-47bf-84a0-0620daae9b6f",
   "metadata": {},
   "outputs": [
    {
     "name": "stdout",
     "output_type": "stream",
     "text": [
      "name 'a' is not defined\n",
      "Always executes\n"
     ]
    }
   ],
   "source": [
    "# finally\n",
    "try : \n",
    "    a==2\n",
    "except NameError as e:\n",
    "    print(e)\n",
    "finally : \n",
    "    print(\"Always executes\")\n",
    "    \n",
    "# In the above example, the finally block is used which will always executes but the finally block is optional,the finally block always comes \n",
    "# try and except block but if the 'else' block is present the finally block comes at last"
   ]
  },
  {
   "cell_type": "code",
   "execution_count": 8,
   "id": "7ba7b70a-96d2-4675-b9d4-d0a07b056f0a",
   "metadata": {},
   "outputs": [
    {
     "name": "stdin",
     "output_type": "stream",
     "text": [
      "Enter your age 20\n"
     ]
    },
    {
     "name": "stdout",
     "output_type": "stream",
     "text": [
      "Allowed for Voting\n",
      "Go further\n"
     ]
    }
   ],
   "source": [
    "# 3.raise\n",
    "# Program name --> Validate age for voting\n",
    "class validate_age(Exception):\n",
    "    def __init__(self,msg):\n",
    "        self.msg = msg\n",
    "def validateAge(age):\n",
    "    if age>=18:\n",
    "        raise validate_age('Allowed for Voting')\n",
    "    elif age<=18 and age>=0:\n",
    "        raise validate_age(\"Not Allowed for Voting\")\n",
    "    elif age<0:\n",
    "        raise validate_age('Age should not be negative')\n",
    "    else :\n",
    "        print(\"Invalid Input\")\n",
    "\n",
    "try:\n",
    "    age = int(input(\"Enter your age\"))\n",
    "    validateAge(age)\n",
    "except validate_age as e:\n",
    "    print(e)\n",
    "else : \n",
    "    print(\"There is no error\")\n",
    "finally :\n",
    "    print(\"Go further\")\n",
    "    \n",
    "# 'raise' is used in custom exception handling "
   ]
  },
  {
   "cell_type": "markdown",
   "id": "dcb1aa7b-cbcb-41c3-93bf-9a88b93ce75d",
   "metadata": {},
   "source": [
    "#### What are custom exceptions in Python?Why do we need custom exceptions? Explain with example."
   ]
  },
  {
   "cell_type": "markdown",
   "id": "01025a1c-36c3-4ec3-99e1-a2058ee13808",
   "metadata": {},
   "source": [
    "1. Custom exceptions is the concept that can be used if we the error occured is something that is not previously defined or we do want to handle the error.\n",
    "\n",
    "2. Custom exceptions can be handled by defining a class to print a message,by creating a user-defined function which checks all the conditions and by writing a main program with try and except block\n",
    "\n",
    "3. Need of custom exceptions :\n",
    "4. If we have created one program and there is an error that is occuring but not previously defined,i.e. we want that code to be run by my own restrictions, so then, we can use custom exceptions to create our own and raise the error."
   ]
  },
  {
   "cell_type": "code",
   "execution_count": 12,
   "id": "7c2fa24f-cbdd-4626-b20e-ab1a419f03d8",
   "metadata": {},
   "outputs": [
    {
     "name": "stdin",
     "output_type": "stream",
     "text": [
      "Enter a number :  22\n"
     ]
    },
    {
     "name": "stdout",
     "output_type": "stream",
     "text": [
      "Even Number\n",
      "Go further\n"
     ]
    }
   ],
   "source": [
    "# for example -->\n",
    "# 3.raise\n",
    "# Program name --> Validate age for voting\n",
    "class validate_num(Exception):\n",
    "    def __init__(self,msg):\n",
    "        self.msg = msg\n",
    "def validateNum(num):\n",
    "    if num%2==0:\n",
    "        raise validate_num('Even Number')\n",
    "    elif num%2!=0:\n",
    "        raise validate_num(\"Odd Number\")\n",
    "    elif num==0:\n",
    "        raise validate_num('Zero')\n",
    "    else :\n",
    "        print(\"Invalid Input\")\n",
    "\n",
    "try:\n",
    "    num = int(input(\"Enter a number : \"))\n",
    "    validateNum(num)\n",
    "except validate_num as e:\n",
    "    print(e)\n",
    "else : \n",
    "    print(\"There is no error\")\n",
    "finally :\n",
    "    print(\"Go further\")"
   ]
  },
  {
   "cell_type": "markdown",
   "id": "236b680e-7323-448e-8f20-3a613e9617cd",
   "metadata": {},
   "source": [
    "#### Create a custom exception class. Use this class to handle an exception."
   ]
  },
  {
   "cell_type": "code",
   "execution_count": 15,
   "id": "1cd3ce24-3f4d-47cf-a458-4ca625ca5d6e",
   "metadata": {},
   "outputs": [
    {
     "name": "stdout",
     "output_type": "stream",
     "text": [
      "This executes if there is an Exception occured\n"
     ]
    }
   ],
   "source": [
    "class MyException(Exception):\n",
    "    def __init__(self,msg):\n",
    "        self.msg = msg\n",
    "def my_exception():\n",
    "    if a==2:\n",
    "        raise MyException(\"This executes if there is an Exception occured\")\n",
    "try:\n",
    "    a=2\n",
    "    my_exception()\n",
    "except MyException as e:\n",
    "    print(e)"
   ]
  }
 ],
 "metadata": {
  "kernelspec": {
   "display_name": "Python 3 (ipykernel)",
   "language": "python",
   "name": "python3"
  },
  "language_info": {
   "codemirror_mode": {
    "name": "ipython",
    "version": 3
   },
   "file_extension": ".py",
   "mimetype": "text/x-python",
   "name": "python",
   "nbconvert_exporter": "python",
   "pygments_lexer": "ipython3",
   "version": "3.10.8"
  }
 },
 "nbformat": 4,
 "nbformat_minor": 5
}
