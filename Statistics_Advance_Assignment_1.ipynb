{
 "cells": [
  {
   "cell_type": "markdown",
   "id": "0b7c2725",
   "metadata": {},
   "source": [
    "# Statistics Advance Assignment 1"
   ]
  },
  {
   "cell_type": "markdown",
   "id": "f8b05fe4",
   "metadata": {},
   "source": [
    "**Q1. What is the Probability density function?**"
   ]
  },
  {
   "cell_type": "markdown",
   "id": "e40b60b6",
   "metadata": {},
   "source": [
    "1. A probability density function (PDF) is a function that describes the probability of a continuous random variable taking on a particular value. \n",
    "2. It is often used in statistics to represent the distribution of a variable,such as the height of people in a population.\n",
    "3. The PDF of a continuous random variable is typically represented by a graph.\n",
    "4. The area under the entire graph represents the total probability of the variable taking on any value. \n",
    "5. For example, the PDF of the normal distribution is a bell-shaped curve,with the highest probability at the mean and the probability decreasing as the value of the variable moves further away from the mean. \n",
    "6. PDF is used in applications like Estimating the probability of an event,Testing statistical hypotheses,Modelling the behaviour of a system."
   ]
  },
  {
   "cell_type": "markdown",
   "id": "16f8b9d1",
   "metadata": {},
   "source": [
    "**Q2. What are the types of Probability distribution?**"
   ]
  },
  {
   "cell_type": "markdown",
   "id": "928c62e8",
   "metadata": {},
   "source": [
    "1. There are two **Main types** of Probability distribution : \n",
    "    1. Discrete Probability distribution\n",
    "    2. Continuous Probability distribution\n",
    "2. **Discrete Probability Distribution** - It can only take on a finite no. of values.e.g.,The no. of heads in 3 coin flips is an example of discrete random variable,because it can only take values 0,1,2.\n",
    "3. **Continuous Probability Distribution** - It can take on any values within a given range.For example,the height of a randomly selected person is a continuous random variable,because it can take on any value within a certain range.For example,the height of a person is a continuous random variable,because it take on any value between the minimum and maximum possible heights.Another example of continuous probability distribution is the weight of a person. \n",
    "\n",
    "> **Most Common types of Probability distribution :** \n",
    "\n",
    "1. **Binomial distribution** - It is a discrete probability distribution that describes the no. of successes in a sequence of independent Bernoulli trials. \n",
    "2. **Poisson distribution** - It is a discrete probability distribution that describes the no. of events that occur in a fixed interval of time or space if the events occur independently and at a constant rate. \n",
    "3. **Normal distribution** - It is a continuous probability distribution that is bell-shaped and symmetrical.It is often used to model data that is normally distributed,such as heights,weights and test scores.\n",
    "4. **Uniform distribution** - It is a continuous probability distribution that assigns equal probability to all values within a certain range. \n",
    "5. **Chi-squared distribution** - It is a continuous probability distribution that is used in hypothesis testing. \n",
    "\n",
    "These are some of the types of probability distribution as Discrete and Continuous Probability distribution are main types and Common types are Binomial Distribution,Poisson distribution,Normal distribution,Uniform distribution,Chi-squared distribution."
   ]
  },
  {
   "cell_type": "markdown",
   "id": "6657ac62",
   "metadata": {},
   "source": [
    "**Q3. Write a Python function to calculate the probability density function of a normal distribution with\n",
    "given mean and standard deviation at a given point.**"
   ]
  },
  {
   "cell_type": "code",
   "execution_count": 1,
   "id": "974a82e9",
   "metadata": {},
   "outputs": [],
   "source": [
    "# Not able to write a code and understand the concept"
   ]
  },
  {
   "cell_type": "markdown",
   "id": "8eff230b",
   "metadata": {},
   "source": [
    "**Q4. What are the properties of Binomial distribution? Give two examples of events where binomial\n",
    "distribution can be applied.**"
   ]
  },
  {
   "cell_type": "markdown",
   "id": "56e12f56",
   "metadata": {},
   "source": [
    "1. Binomial distribution is a discrete probability distribution that describes the no. of successes. For example,the no. of Married people in a distribution. \n",
    "2. Binomial distribution gives only two possible results either success or failure. \n",
    "3. **Properties of Binomial distribution are** : \n",
    "    1. There are two possible outcomes : 'Success' or 'Failure'\n",
    "    2. There is a fixed no. of trials : The no. of trials denoted by 'n' is fixed and cannot change\n",
    "    3. The trials are independent : The outcome of one trial does not affect the outcome of any other trial \n",
    "    4. The probability of success remains same for each trial : The probability of 'success' denoted by p remains same for each trial. \n",
    "    5. The mean of the binomial distribution is np. \n",
    "    6. The variance of the binomial distribution is np(1-p).\n",
    "    7. The binomial distribution is symmetrical if p=1/2.\n",
    "    8. The binomial distribution approaches the Poisson distribution as 'n' becomes large and 'p' becomes small. \n",
    "4. **The Binomial distribution can be used wide variety of applications :**\n",
    "    1. Determining the probability of getting a certain no. of successes in a series of trials\n",
    "    2. Estimating the probability of a particular event occuring \n",
    "    3. Testing hypotheses about the probability of success in a series of trials"
   ]
  },
  {
   "cell_type": "markdown",
   "id": "8127ae72",
   "metadata": {},
   "source": [
    "**Q5. Generate a random sample of size 1000 from a binomial distribution with probability of success 0.4\n",
    "and plot a histogram of the results using matplotlib.**"
   ]
  },
  {
   "cell_type": "code",
   "execution_count": 2,
   "id": "d416bf6e",
   "metadata": {},
   "outputs": [
    {
     "data": {
      "image/png": "[encoded data removed]",
      "text/plain": [
       "<Figure size 640x480 with 1 Axes>"
      ]
     },
     "metadata": {},
     "output_type": "display_data"
    }
   ],
   "source": [
    "import numpy as np\n",
    "import matplotlib.pyplot as plt\n",
    "sample = np.random.binomial(10,0.4,1000)\n",
    "plt.hist(sample,bins=20,density=True)\n",
    "plt.xlabel('Number of successes')\n",
    "plt.ylabel('Probability')\n",
    "plt.show()"
   ]
  },
  {
   "cell_type": "code",
   "execution_count": 3,
   "id": "056a2989",
   "metadata": {},
   "outputs": [
    {
     "data": {
      "text/plain": [
       "array([5, 1, 2, 6, 4, 5, 2, 3, 5, 3, 5, 7, 2, 2, 1, 4, 7, 2, 4, 4, 4, 4,\n",
       "       2, 4, 3, 4, 5, 0, 6, 4, 3, 2, 5, 5, 6, 4, 6, 5, 2, 3, 4, 3, 5, 7,\n",
       "       3, 6, 7, 1, 5, 4, 3, 6, 7, 4, 6, 6, 3, 6, 4, 1, 4, 4, 6, 8, 6, 4,\n",
       "       5, 5, 5, 1, 4, 4, 2, 1, 2, 5, 4, 5, 3, 5, 4, 3, 4, 5, 5, 6, 4, 5,\n",
       "       3, 5, 4, 3, 3, 3, 3, 5, 3, 3, 6, 4, 1, 4, 4, 3, 4, 4, 3, 6, 5, 5,\n",
       "       5, 6, 5, 1, 8, 7, 2, 5, 4, 3, 5, 2, 2, 5, 5, 3, 4, 6, 3, 5, 5, 3,\n",
       "       0, 3, 2, 2, 3, 4, 4, 5, 5, 5, 4, 5, 3, 0, 2, 5, 5, 7, 4, 5, 3, 3,\n",
       "       4, 3, 8, 3, 2, 9, 4, 4, 6, 3, 3, 6, 2, 5, 7, 5, 6, 4, 4, 7, 5, 5,\n",
       "       4, 6, 5, 2, 5, 3, 5, 6, 4, 3, 3, 3, 5, 3, 5, 8, 4, 4, 4, 8, 5, 2,\n",
       "       4, 4, 4, 4, 3, 2, 3, 4, 2, 4, 3, 2, 1, 1, 6, 7, 2, 3, 3, 5, 5, 3,\n",
       "       4, 2, 3, 2, 4, 3, 3, 1, 6, 3, 3, 3, 2, 2, 4, 4, 5, 4, 6, 4, 5, 6,\n",
       "       3, 3, 6, 3, 2, 3, 0, 5, 4, 4, 5, 3, 7, 5, 5, 3, 5, 3, 0, 3, 7, 3,\n",
       "       7, 6, 3, 1, 3, 1, 2, 2, 3, 5, 3, 4, 4, 4, 4, 3, 3, 4, 4, 3, 3, 1,\n",
       "       2, 4, 5, 6, 1, 5, 2, 4, 2, 4, 4, 3, 3, 3, 5, 1, 2, 2, 3, 2, 4, 3,\n",
       "       7, 5, 5, 6, 3, 4, 1, 3, 4, 5, 6, 3, 2, 3, 2, 3, 1, 4, 6, 4, 2, 1,\n",
       "       4, 3, 4, 6, 3, 2, 4, 4, 2, 2, 2, 3, 6, 5, 3, 5, 3, 8, 3, 4, 4, 0,\n",
       "       4, 6, 5, 4, 4, 5, 6, 3, 3, 5, 4, 3, 4, 4, 2, 2, 6, 5, 6, 2, 3, 7,\n",
       "       5, 5, 3, 3, 6, 4, 1, 5, 5, 3, 3, 4, 6, 4, 5, 2, 5, 3, 4, 5, 4, 4,\n",
       "       3, 3, 9, 6, 5, 5, 4, 5, 2, 4, 4, 4, 1, 5, 4, 5, 5, 4, 4, 3, 2, 2,\n",
       "       4, 4, 1, 2, 3, 4, 4, 3, 4, 2, 3, 4, 4, 7, 1, 6, 6, 3, 3, 5, 1, 4,\n",
       "       4, 4, 3, 2, 3, 3, 6, 3, 5, 6, 5, 4, 4, 4, 5, 7, 2, 5, 4, 5, 3, 3,\n",
       "       4, 6, 3, 7, 4, 3, 3, 3, 1, 6, 3, 5, 3, 5, 7, 4, 6, 4, 6, 5, 4, 1,\n",
       "       4, 3, 4, 6, 6, 4, 3, 3, 2, 4, 7, 5, 4, 2, 4, 4, 2, 4, 4, 3, 5, 3,\n",
       "       5, 4, 2, 4, 5, 2, 6, 5, 3, 6, 4, 4, 5, 3, 3, 3, 4, 4, 2, 6, 5, 3,\n",
       "       4, 6, 4, 4, 4, 3, 3, 3, 6, 3, 2, 4, 5, 4, 4, 5, 5, 2, 5, 5, 4, 3,\n",
       "       3, 5, 5, 4, 2, 3, 3, 5, 4, 5, 5, 2, 4, 1, 2, 4, 4, 2, 3, 4, 0, 4,\n",
       "       3, 2, 6, 3, 5, 6, 4, 3, 4, 4, 4, 3, 4, 2, 5, 3, 6, 5, 3, 5, 4, 4,\n",
       "       3, 6, 5, 3, 4, 2, 5, 4, 5, 4, 4, 4, 4, 4, 5, 3, 4, 5, 1, 5, 2, 6,\n",
       "       5, 4, 4, 4, 3, 5, 2, 5, 3, 5, 4, 2, 6, 5, 3, 5, 5, 7, 5, 3, 4, 4,\n",
       "       4, 2, 4, 2, 3, 3, 3, 6, 7, 5, 3, 3, 3, 4, 4, 2, 4, 3, 4, 3, 2, 2,\n",
       "       3, 5, 5, 3, 4, 6, 3, 5, 4, 1, 3, 2, 5, 2, 5, 4, 3, 5, 4, 4, 3, 5,\n",
       "       6, 4, 3, 3, 2, 4, 4, 4, 5, 6, 2, 6, 3, 4, 3, 0, 3, 4, 5, 4, 6, 3,\n",
       "       3, 5, 2, 3, 4, 5, 5, 6, 4, 5, 2, 5, 6, 6, 6, 3, 2, 4, 2, 3, 5, 5,\n",
       "       6, 5, 5, 3, 5, 4, 4, 2, 3, 4, 3, 4, 5, 2, 5, 2, 6, 2, 3, 2, 8, 3,\n",
       "       6, 3, 4, 4, 3, 3, 5, 4, 4, 5, 3, 4, 6, 4, 6, 3, 6, 5, 4, 6, 6, 3,\n",
       "       6, 3, 1, 1, 4, 3, 4, 4, 3, 4, 4, 4, 5, 5, 8, 4, 4, 5, 2, 4, 2, 4,\n",
       "       4, 3, 5, 6, 1, 3, 2, 7, 3, 3, 6, 5, 3, 4, 5, 5, 6, 3, 2, 5, 3, 4,\n",
       "       3, 5, 7, 5, 4, 3, 4, 4, 3, 4, 3, 2, 5, 1, 3, 5, 4, 2, 2, 7, 3, 4,\n",
       "       4, 4, 2, 3, 2, 4, 4, 5, 3, 1, 2, 2, 4, 4, 5, 5, 6, 3, 2, 3, 6, 5,\n",
       "       2, 4, 6, 4, 4, 3, 3, 5, 3, 4, 6, 4, 2, 5, 3, 3, 3, 3, 5, 6, 4, 5,\n",
       "       4, 2, 3, 2, 6, 2, 4, 5, 4, 3, 6, 2, 5, 5, 7, 4, 5, 5, 4, 5, 5, 6,\n",
       "       1, 5, 6, 4, 3, 6, 5, 4, 3, 6, 4, 3, 3, 5, 7, 4, 2, 2, 5, 3, 4, 5,\n",
       "       6, 3, 3, 3, 2, 6, 4, 2, 7, 5, 5, 4, 3, 2, 4, 5, 4, 4, 4, 4, 5, 2,\n",
       "       5, 4, 5, 2, 4, 3, 1, 5, 3, 2, 4, 4, 6, 2, 4, 4, 6, 3, 2, 6, 2, 3,\n",
       "       8, 2, 4, 7, 6, 4, 4, 1, 5, 3, 3, 6, 6, 6, 7, 5, 5, 4, 4, 0, 5, 1,\n",
       "       4, 4, 4, 5, 7, 3, 2, 3, 3, 7])"
      ]
     },
     "execution_count": 3,
     "metadata": {},
     "output_type": "execute_result"
    }
   ],
   "source": [
    "sample"
   ]
  },
  {
   "cell_type": "markdown",
   "id": "c618adb5",
   "metadata": {},
   "source": [
    "**Q6. Write a Python function to calculate the cumulative distribution function of a Poisson distribution\n",
    "with given mean at a given point.**"
   ]
  },
  {
   "cell_type": "code",
   "execution_count": 1,
   "id": "25da85a0",
   "metadata": {},
   "outputs": [
    {
     "data": {
      "text/plain": [
       "(array([0.00210526, 0.00631579, 0.03157895, 0.05263158, 0.06736842,\n",
       "        0.10315789, 0.09263158, 0.11368421, 0.12421053, 0.12210526,\n",
       "        0.09684211, 0.08210526, 0.06947368, 0.03578947, 0.03157895,\n",
       "        0.00631579, 0.00210526, 0.00631579, 0.        , 0.00631579]),\n",
       " array([ 2.  ,  2.95,  3.9 ,  4.85,  5.8 ,  6.75,  7.7 ,  8.65,  9.6 ,\n",
       "        10.55, 11.5 , 12.45, 13.4 , 14.35, 15.3 , 16.25, 17.2 , 18.15,\n",
       "        19.1 , 20.05, 21.  ]),\n",
       " <BarContainer object of 20 artists>)"
      ]
     },
     "execution_count": 1,
     "metadata": {},
     "output_type": "execute_result"
    },
    {
     "data": {
      "image/png": "[encoded data removed]",
      "text/plain": [
       "<Figure size 640x480 with 1 Axes>"
      ]
     },
     "metadata": {},
     "output_type": "display_data"
    }
   ],
   "source": [
    "import numpy as np\n",
    "import matplotlib.pyplot as plt\n",
    "sample = np.random.poisson(10,500)\n",
    "sample_mean = np.mean(sample)\n",
    "plt.hist(sample,bins=20,density=True)"
   ]
  },
  {
   "cell_type": "markdown",
   "id": "8004e27a",
   "metadata": {},
   "source": [
    "**Q7. How Binomial distribution different from Poisson distribution?**"
   ]
  },
  {
   "cell_type": "markdown",
   "id": "f67297bb",
   "metadata": {},
   "source": [
    "1. **Binomial distribution** - \n",
    "    1. It is a discrete probability distribution that describes the no. of successes in a sequence of independent Bernoulli trials.\n",
    "    2. Binomial distribution has two parameters;n,the no. of trials and p is the probability of success on a single trial. \n",
    "    3. Binomial distribution is a discrete distribution,meaning that it can only take on a finite no. of possible values. \n",
    "2. **Poisson distribution** - \n",
    "    1. It is a continuous probability distribution that describes the no. of events that occur in a fixed interval of time or space if the events occur independently and at a constant rate. \n",
    "    2. It has one parameter 'lambda';the expected no. of successes in a given time interval. \n",
    "    3. Poisson distribution is a continuous distribution which can take on any possible value. \n",
    "    \n",
    "> The binomial distribution can be used when the no. of trials is small and the probability of success is not too small and also when you need to know the exact probability of each possible no. of successes. \n",
    "\n",
    "> The poisson distribution can be used when the no. of trials is large and the probability of success is very small and also when you only need to know the approximate probability of each possible no. of successes. \n"
   ]
  },
  {
   "cell_type": "markdown",
   "id": "b8fddc4f",
   "metadata": {},
   "source": [
    "**Q8. Generate a random sample of size 1000 from a Poisson distribution with mean 5 and calculate the \n",
    "sample mean and variance.**"
   ]
  },
  {
   "cell_type": "code",
   "execution_count": 3,
   "id": "9858f9c5",
   "metadata": {},
   "outputs": [
    {
     "name": "stdout",
     "output_type": "stream",
     "text": [
      "Mean : 5.076\n",
      "Variance : 4.866223999999999\n"
     ]
    }
   ],
   "source": [
    "import numpy as np\n",
    "# mean = 5\n",
    "sample = np.random.poisson(5,1000)\n",
    "# Finding sample mean \n",
    "mean = np.mean(sample)\n",
    "\n",
    "# Finding sample variance\n",
    "variance = np.var(sample)\n",
    "print('Mean : {}'.format(mean))\n",
    "print('Variance : {}'.format(variance))"
   ]
  },
  {
   "cell_type": "markdown",
   "id": "3e604269",
   "metadata": {},
   "source": [
    "**Q9. How mean and variance are related in Binomial distribution and Poisson distribution?**"
   ]
  },
  {
   "cell_type": "markdown",
   "id": "67fc5d08",
   "metadata": {},
   "source": [
    "1. The mean and variance of **binomial distribution** are both equal to np,where n is the no. of trials and p is the probability of success on each trial. This is because the Binomial distribution is symmetric distribution means the mean and median of binomial distribution are same. \n",
    "2. The mean and variance of **poisson distribution** are also equal,but the value is equal to 'λ',the expected number of successes in a given time interval.This is because the Poisson distribution is memoryless distribution, meaning that the probability of success in a given time interval does not depend on whether or not there were any successes in previous time intervals. \n",
    "\n",
    "> The Mean and Variance of both the Binomial distribution and Poisson distribution are equal to expected value of the distribution.This is because both distributions are discrete distributions,meaning that they can only take on a finite no. of possible values. "
   ]
  },
  {
   "cell_type": "markdown",
   "id": "f140a497",
   "metadata": {},
   "source": [
    "**Q10. In normal distribution with respect to mean position, where does the least frequent data appear?**"
   ]
  },
  {
   "cell_type": "markdown",
   "id": "806acd28",
   "metadata": {},
   "source": [
    "1. In a normal distribution,least frequent data appears in the tails of the distribution,which are the areas farthest from the mean.This is because the normal distribution is symmetrical,with the most frequent data appearing at the mean,and the least frequent data appearing in the tails.\n",
    "2. The tails of the distribution are also where the outliers are most likely to appear.Ouliers are the data points that are significantly different from the rest of the dataset.They can be caused by errors. "
   ]
  },
  {
   "cell_type": "code",
   "execution_count": null,
   "id": "f501144f",
   "metadata": {},
   "outputs": [],
   "source": []
  }
 ],
 "metadata": {
  "kernelspec": {
   "display_name": "Python 3 (ipykernel)",
   "language": "python",
   "name": "python3"
  },
  "language_info": {
   "codemirror_mode": {
    "name": "ipython",
    "version": 3
   },
   "file_extension": ".py",
   "mimetype": "text/x-python",
   "name": "python",
   "nbconvert_exporter": "python",
   "pygments_lexer": "ipython3",
   "version": "3.10.9"
  }
 },
 "nbformat": 4,
 "nbformat_minor": 5
}
