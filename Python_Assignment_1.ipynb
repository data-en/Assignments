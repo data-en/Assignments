{
 "cells": [
  {
   "cell_type": "markdown",
   "id": "d3318e3e",
   "metadata": {},
   "source": [
    "#### Q1. Create a python program to sort the given list of tuples based on integer value using a lambda function. [('Sachin Tendulkar', 34357), ('Ricky Ponting', 27483), ('Jack Kallis', 25534), ('Virat Kohli', 24936)]"
   ]
  },
  {
   "cell_type": "code",
   "execution_count": 23,
   "id": "e87be32d",
   "metadata": {},
   "outputs": [],
   "source": [
    "lst = [('Sachin Tendulkar', 34357), ('Ricky Ponting', 27483), ('Jack Kallis', 25534), ('Virat Kohli', 24936)]\n",
    "sorting = list(map(lambda x: x[1] if type(x) == tuple else x,lst))"
   ]
  },
  {
   "cell_type": "code",
   "execution_count": 24,
   "id": "572ecc38",
   "metadata": {},
   "outputs": [
    {
     "name": "stdout",
     "output_type": "stream",
     "text": [
      "[34357, 27483, 25534, 24936]\n"
     ]
    }
   ],
   "source": [
    "print(sorting)"
   ]
  },
  {
   "cell_type": "code",
   "execution_count": 25,
   "id": "5b99eab8",
   "metadata": {},
   "outputs": [
    {
     "name": "stdout",
     "output_type": "stream",
     "text": [
      "[('Virat Kohli', 24936), ('Jack Kallis', 25534), ('Ricky Ponting', 27483), ('Sachin Tendulkar', 34357)]\n"
     ]
    }
   ],
   "source": [
    "def sort_by_integer_value():\n",
    "    return sorted(lst,key=lambda x:x[1],reverse = False)\n",
    "lst = [('Sachin Tendulkar', 34357), ('Ricky Ponting', 27483), ('Jack Kallis', 25534), ('Virat Kohli', 24936)]\n",
    "sorted_list = sort_by_integer_value()\n",
    "print(sorted_list)"
   ]
  },
  {
   "cell_type": "markdown",
   "id": "32e8afda",
   "metadata": {},
   "source": [
    "#### Q2. Write a Python Program to find the squares of all the numbers in the given list of integers using lambda and map functions [1, 2, 3, 4, 5, 6, 7, 8, 9, 10]"
   ]
  },
  {
   "cell_type": "code",
   "execution_count": 28,
   "id": "03b67a25",
   "metadata": {},
   "outputs": [
    {
     "name": "stdout",
     "output_type": "stream",
     "text": [
      "[1, 4, 9, 16, 25, 36, 49, 64, 81, 100]\n"
     ]
    }
   ],
   "source": [
    "lst_of_integers = [1,2,3,4,5,6,7,8,9,10]\n",
    "squared_numbers = map(lambda x:x**2,lst_of_integers)\n",
    "print(list(squared_numbers))"
   ]
  },
  {
   "cell_type": "markdown",
   "id": "d61858e6",
   "metadata": {},
   "source": [
    "#### Q3. Write a python program to convert the given list of integers into a tuple of strings. Use map and lambda functions Given String: [1, 2, 3, 4, 5, 6, 7, 8, 9, 10] Expected output: ('1', '2', '3', '4', '5', '6', '7', '8', '9', '10')"
   ]
  },
  {
   "cell_type": "code",
   "execution_count": 30,
   "id": "a8668a1e",
   "metadata": {},
   "outputs": [
    {
     "name": "stdout",
     "output_type": "stream",
     "text": [
      "('1', '2', '3', '4', '5', '6', '7', '8', '9', '10')\n"
     ]
    }
   ],
   "source": [
    "lst_of_integers = [1,2,3,4,5,6,7,8,9,10]\n",
    "tuple_of_strings = tuple(map(lambda x : str(x),lst_of_integers))\n",
    "print(tuple_of_strings)"
   ]
  },
  {
   "cell_type": "markdown",
   "id": "dd4da2f1",
   "metadata": {},
   "source": [
    "#### Q4. Write a python program using reduce function to compute the product of a list containing numbers from 1 to 25."
   ]
  },
  {
   "cell_type": "code",
   "execution_count": 33,
   "id": "676c4dfb",
   "metadata": {},
   "outputs": [
    {
     "name": "stdout",
     "output_type": "stream",
     "text": [
      "15511210043330985984000000\n"
     ]
    }
   ],
   "source": [
    "from functools import reduce\n",
    "lst = list(range(1,26))\n",
    "product_of_lst_numbers = reduce(lambda x,y : x*y,lst)\n",
    "print(product_of_lst_numbers)"
   ]
  },
  {
   "cell_type": "markdown",
   "id": "3079976c",
   "metadata": {},
   "source": [
    "#### Q5. Write a python program to filter the numbers in a given list that are divisible by 2 and 3 using the filter function [2, 3, 6, 9, 27, 60, 90, 120, 55, 46]"
   ]
  },
  {
   "cell_type": "code",
   "execution_count": 35,
   "id": "d5817875",
   "metadata": {},
   "outputs": [
    {
     "name": "stdout",
     "output_type": "stream",
     "text": [
      "[6, 60, 90, 120]\n"
     ]
    }
   ],
   "source": [
    "lst = [2, 3, 6, 9, 27, 60, 90, 120, 55, 46]\n",
    "divisible = filter(lambda x : x%2==0 and x%3==0,lst)\n",
    "print(list(divisible))"
   ]
  },
  {
   "cell_type": "markdown",
   "id": "72bea5b8",
   "metadata": {},
   "source": [
    "#### Q6. Write a python program to find palindromes in the given list of strings using lambda and filter function. ['python', 'php', 'aba', 'radar', 'level']"
   ]
  },
  {
   "cell_type": "code",
   "execution_count": 40,
   "id": "540cde7b",
   "metadata": {},
   "outputs": [
    {
     "name": "stdout",
     "output_type": "stream",
     "text": [
      "['php', 'aba', 'radar', 'level']\n"
     ]
    }
   ],
   "source": [
    "lst_of_strings = ['python', 'php', 'aba', 'radar', 'level']\n",
    "palindrome_list = filter(lambda x : x if x == x[::-1] else None,lst_of_strings)\n",
    "print(list(palindrome_list))"
   ]
  }
 ],
 "metadata": {
  "kernelspec": {
   "display_name": "Python 3 (ipykernel)",
   "language": "python",
   "name": "python3"
  },
  "language_info": {
   "codemirror_mode": {
    "name": "ipython",
    "version": 3
   },
   "file_extension": ".py",
   "mimetype": "text/x-python",
   "name": "python",
   "nbconvert_exporter": "python",
   "pygments_lexer": "ipython3",
   "version": "3.10.9"
  }
 },
 "nbformat": 4,
 "nbformat_minor": 5
}
