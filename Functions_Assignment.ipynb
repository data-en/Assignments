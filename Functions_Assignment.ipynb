{
 "cells": [
  {
   "cell_type": "markdown",
   "id": "38e33b46",
   "metadata": {},
   "source": [
    "#### Q1. Which keyword is used to create a function? Create a function to return a list of odd numbers in the range of 1 to 25."
   ]
  },
  {
   "cell_type": "markdown",
   "id": "9620642c",
   "metadata": {},
   "source": [
    "1. To create a normal function, def keyword is used\n",
    "2. To create a anonymous function, lambda keyword is used"
   ]
  },
  {
   "cell_type": "code",
   "execution_count": 1,
   "id": "b70de9eb",
   "metadata": {},
   "outputs": [],
   "source": [
    "# Create a function to return a list of odd numbers in the range of 1 to 25.\n",
    "def odd():\n",
    "    lst_odd = []\n",
    "    for i in range(1,25):\n",
    "        if i%2!=0:\n",
    "            lst_odd.append(i)\n",
    "    return lst_odd"
   ]
  },
  {
   "cell_type": "code",
   "execution_count": 2,
   "id": "31eb2d93",
   "metadata": {},
   "outputs": [
    {
     "data": {
      "text/plain": [
       "[1, 3, 5, 7, 9, 11, 13, 15, 17, 19, 21, 23]"
      ]
     },
     "execution_count": 2,
     "metadata": {},
     "output_type": "execute_result"
    }
   ],
   "source": [
    "odd()"
   ]
  },
  {
   "cell_type": "markdown",
   "id": "d84f26f4",
   "metadata": {},
   "source": [
    "#### Q2. Why *args and **kwargs is used in some functions? Create a function each for *args and **kwargs to demonstrate their use."
   ]
  },
  {
   "cell_type": "markdown",
   "id": "5d11df18",
   "metadata": {},
   "source": [
    "1. *args and **kwargs is used in some functions to get any no. of user inputs \n",
    "2. *args is used for single values \n",
    "3. **kwargs is used for {dictionary} i.e. {key:value} pair\n",
    "4. It is not necessary to give the name as args and kwargs, it could be anything\n",
    "5. *args returns the output in the form of tuples"
   ]
  },
  {
   "cell_type": "code",
   "execution_count": 6,
   "id": "091702bb",
   "metadata": {},
   "outputs": [],
   "source": [
    "# Create a function each for *args and **kwargs to demonstrate their use.\n",
    "def test1(*args):\n",
    "    return args"
   ]
  },
  {
   "cell_type": "code",
   "execution_count": 7,
   "id": "c523516c",
   "metadata": {},
   "outputs": [
    {
     "data": {
      "text/plain": [
       "(1, 2, 3, 4, 3.14, 'pwskills', [1, 23, 4, 5, 6, 78, 8, 9, 10], (1, 2, 3, 4))"
      ]
     },
     "execution_count": 7,
     "metadata": {},
     "output_type": "execute_result"
    }
   ],
   "source": [
    "test1(1,2,3,4,3.14,'pwskills',[1,23,4,5,6,78,8,9,10],(1,2,3,4))"
   ]
  },
  {
   "cell_type": "code",
   "execution_count": 26,
   "id": "2458bcb7",
   "metadata": {},
   "outputs": [],
   "source": [
    "def test2(**kwargs):\n",
    "    print(kwargs)\n",
    "    for keys in kwargs.keys():\n",
    "        if type(kwargs[keys]) == int :\n",
    "            print(keys,kwargs[keys])"
   ]
  },
  {
   "cell_type": "code",
   "execution_count": 27,
   "id": "fdefbbbe",
   "metadata": {},
   "outputs": [
    {
     "name": "stdout",
     "output_type": "stream",
     "text": [
      "{'a': 'pwskills', 'b': 'june', 'c': 2023, 'd': 9, 'e': [1, 2, 34, 4]}\n",
      "c 2023\n",
      "d 9\n"
     ]
    }
   ],
   "source": [
    "test2(a='pwskills',b='june',c=2023,d=9,e=[1,2,34,4])"
   ]
  },
  {
   "cell_type": "markdown",
   "id": "3bfd3c9f",
   "metadata": {},
   "source": [
    "#### Q.3 What is an iterator in python? Name the method used to initialise the iterator object and the method used for iteration. Use these methods to print the first five elements of the given list [2, 4, 6, 8, 10, 12, 14, 16,18, 20]."
   ]
  },
  {
   "cell_type": "markdown",
   "id": "406b5eb3",
   "metadata": {},
   "source": [
    "> Iterator is an object that allows you to iterate over collections like lists,tuples,sets,dictionaries and these are called iterables."
   ]
  },
  {
   "cell_type": "code",
   "execution_count": 41,
   "id": "ce44468f",
   "metadata": {},
   "outputs": [
    {
     "name": "stdout",
     "output_type": "stream",
     "text": [
      "[2, 4, 6, 8, 10]\n"
     ]
    }
   ],
   "source": [
    "# For loop can be used for iteration\n",
    "lst = [2,4,6,8,10,12,14,16,18,20]\n",
    "lst1 = []\n",
    "for num in lst:\n",
    "    lst1.append(num)\n",
    "print(lst1[:5])"
   ]
  },
  {
   "cell_type": "code",
   "execution_count": 43,
   "id": "78e4626a",
   "metadata": {},
   "outputs": [
    {
     "data": {
      "text/plain": [
       "[2, 4, 6, 8, 10]"
      ]
     },
     "execution_count": 43,
     "metadata": {},
     "output_type": "execute_result"
    }
   ],
   "source": [
    "[i for i in lst[:5] ]"
   ]
  },
  {
   "cell_type": "markdown",
   "id": "577724b9",
   "metadata": {},
   "source": [
    "#### Q4. What is a generator function in python? Why yield keyword is used? Give an example of a generator function."
   ]
  },
  {
   "cell_type": "markdown",
   "id": "90ea2999",
   "metadata": {},
   "source": [
    "1. Generator function in python is used for generating an output and return it to user immediately without storing it \n",
    "2. It allows you to behaves like an iterator, and it is also similar to range() function\n",
    "3. For creating a generator function, the yield keyword is used that generates the output immediately and return it to user without storing it\n",
    "4. If we want to use generator function, we have to use it in for loop"
   ]
  },
  {
   "cell_type": "code",
   "execution_count": 46,
   "id": "f9f83a49",
   "metadata": {},
   "outputs": [],
   "source": [
    "# An example of generator function\n",
    "def string(lst):\n",
    "    for i in lst :\n",
    "        if type(i) == str:\n",
    "            yield i"
   ]
  },
  {
   "cell_type": "code",
   "execution_count": 47,
   "id": "b9ece206",
   "metadata": {},
   "outputs": [],
   "source": [
    "lst = [1,2,3,'pwskills','data science',True]"
   ]
  },
  {
   "cell_type": "code",
   "execution_count": 48,
   "id": "a0c55bf2",
   "metadata": {},
   "outputs": [
    {
     "name": "stdout",
     "output_type": "stream",
     "text": [
      "pwskills\n",
      "data science\n"
     ]
    }
   ],
   "source": [
    "for i in string(lst):\n",
    "    print(i)"
   ]
  },
  {
   "cell_type": "markdown",
   "id": "7dec95b5",
   "metadata": {},
   "source": [
    "#### Q5. Create a generator function for prime numbers less than 1000. Use the next() method to print the first 20 prime numbers."
   ]
  },
  {
   "cell_type": "code",
   "execution_count": 68,
   "id": "9c08ce34",
   "metadata": {},
   "outputs": [],
   "source": [
    "def generate_primes():\n",
    "    primes = []\n",
    "    for i in range(2,1000):\n",
    "        if all(i%j!=0 for j in primes):\n",
    "            primes.append(i)\n",
    "            yield i"
   ]
  },
  {
   "cell_type": "code",
   "execution_count": 65,
   "id": "cd363c7c",
   "metadata": {},
   "outputs": [
    {
     "name": "stdout",
     "output_type": "stream",
     "text": [
      "2\n",
      "3\n",
      "5\n",
      "7\n",
      "11\n",
      "13\n",
      "17\n",
      "19\n",
      "23\n",
      "29\n",
      "31\n",
      "37\n",
      "41\n",
      "43\n",
      "47\n",
      "53\n",
      "59\n",
      "61\n",
      "67\n",
      "71\n",
      "73\n",
      "79\n",
      "83\n",
      "89\n",
      "97\n",
      "101\n",
      "103\n",
      "107\n",
      "109\n",
      "113\n",
      "127\n",
      "131\n",
      "137\n",
      "139\n",
      "149\n",
      "151\n",
      "157\n",
      "163\n",
      "167\n",
      "173\n",
      "179\n",
      "181\n",
      "191\n",
      "193\n",
      "197\n",
      "199\n",
      "211\n",
      "223\n",
      "227\n",
      "229\n",
      "233\n",
      "239\n",
      "241\n",
      "251\n",
      "257\n",
      "263\n",
      "269\n",
      "271\n",
      "277\n",
      "281\n",
      "283\n",
      "293\n",
      "307\n",
      "311\n",
      "313\n",
      "317\n",
      "331\n",
      "337\n",
      "347\n",
      "349\n",
      "353\n",
      "359\n",
      "367\n",
      "373\n",
      "379\n",
      "383\n",
      "389\n",
      "397\n",
      "401\n",
      "409\n",
      "419\n",
      "421\n",
      "431\n",
      "433\n",
      "439\n",
      "443\n",
      "449\n",
      "457\n",
      "461\n",
      "463\n",
      "467\n",
      "479\n",
      "487\n",
      "491\n",
      "499\n",
      "503\n",
      "509\n",
      "521\n",
      "523\n",
      "541\n",
      "547\n",
      "557\n",
      "563\n",
      "569\n",
      "571\n",
      "577\n",
      "587\n",
      "593\n",
      "599\n",
      "601\n",
      "607\n",
      "613\n",
      "617\n",
      "619\n",
      "631\n",
      "641\n",
      "643\n",
      "647\n",
      "653\n",
      "659\n",
      "661\n",
      "673\n",
      "677\n",
      "683\n",
      "691\n",
      "701\n",
      "709\n",
      "719\n",
      "727\n",
      "733\n",
      "739\n",
      "743\n",
      "751\n",
      "757\n",
      "761\n",
      "769\n",
      "773\n",
      "787\n",
      "797\n",
      "809\n",
      "811\n",
      "821\n",
      "823\n",
      "827\n",
      "829\n",
      "839\n",
      "853\n",
      "857\n",
      "859\n",
      "863\n",
      "877\n",
      "881\n",
      "883\n",
      "887\n",
      "907\n",
      "911\n",
      "919\n",
      "929\n",
      "937\n",
      "941\n",
      "947\n",
      "953\n",
      "967\n",
      "971\n",
      "977\n",
      "983\n",
      "991\n",
      "997\n"
     ]
    }
   ],
   "source": [
    "for prime in generate_primes():\n",
    "    print(prime)"
   ]
  },
  {
   "cell_type": "code",
   "execution_count": 72,
   "id": "5bc9caa6",
   "metadata": {},
   "outputs": [
    {
     "name": "stdout",
     "output_type": "stream",
     "text": [
      "2\n",
      "2\n",
      "2\n",
      "2\n",
      "2\n",
      "2\n",
      "2\n",
      "2\n",
      "2\n",
      "2\n",
      "2\n",
      "2\n",
      "2\n",
      "2\n",
      "2\n",
      "2\n",
      "2\n",
      "2\n",
      "2\n",
      "2\n"
     ]
    }
   ],
   "source": [
    "for i in range(20):\n",
    "    print(next(generate_primes()))"
   ]
  },
  {
   "cell_type": "code",
   "execution_count": 73,
   "id": "8153a09d",
   "metadata": {},
   "outputs": [
    {
     "name": "stdout",
     "output_type": "stream",
     "text": [
      "2\n",
      "3\n",
      "5\n",
      "7\n",
      "11\n",
      "13\n",
      "17\n",
      "19\n",
      "23\n",
      "29\n",
      "31\n",
      "37\n",
      "41\n",
      "43\n",
      "47\n",
      "53\n",
      "59\n",
      "61\n",
      "67\n",
      "71\n"
     ]
    }
   ],
   "source": [
    "prime_generator = generate_primes()\n",
    "for _ in range(20):\n",
    "    print(next(prime_generator))"
   ]
  },
  {
   "cell_type": "code",
   "execution_count": null,
   "id": "d08867bc",
   "metadata": {},
   "outputs": [],
   "source": []
  }
 ],
 "metadata": {
  "kernelspec": {
   "display_name": "Python 3 (ipykernel)",
   "language": "python",
   "name": "python3"
  },
  "language_info": {
   "codemirror_mode": {
    "name": "ipython",
    "version": 3
   },
   "file_extension": ".py",
   "mimetype": "text/x-python",
   "name": "python",
   "nbconvert_exporter": "python",
   "pygments_lexer": "ipython3",
   "version": "3.10.9"
  }
 },
 "nbformat": 4,
 "nbformat_minor": 5
}
