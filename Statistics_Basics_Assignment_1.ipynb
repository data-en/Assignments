{
 "cells": [
  {
   "cell_type": "markdown",
   "id": "ba2b4f92",
   "metadata": {},
   "source": [
    "**Q1. What is Statistics?**"
   ]
  },
  {
   "cell_type": "markdown",
   "id": "0a834238",
   "metadata": {},
   "source": [
    "Definition --> \n",
    "\n",
    "> Statistics is a science of collecting,organizing and analyzing the data. \n",
    "\n",
    "> Statistics is used to organize,summarize the data and make inferences about the population. \n",
    "\n",
    "> There are two types of Statistics --> \n",
    "    \n",
    "    1. Descriptive Statistics --> It is a type of data which is used to organize and summarize the data. \n",
    "    2. Inferential Statistics --> It is a type in which conclusions are being drawn from the data we have collected, it is mainly used to draw the conclusions. \n",
    "    \n",
    "> Statistics is used in a wide variety of fields, including business, economics, medicine, and social sciences.\n",
    "\n",
    "> Most common statistical methods include --> Mean(Avg.),Median(Middle value),Mode(Most occured value or highest value),Variance(shows the spread of data),Standard deviation(shows that how many data is there in 1 std. or the spread of data about median  ) "
   ]
  },
  {
   "cell_type": "markdown",
   "id": "5c612907",
   "metadata": {},
   "source": [
    "**Q2. Define the different types of statistics and give an example of when each type might be used.**"
   ]
  },
  {
   "cell_type": "markdown",
   "id": "681bb1df",
   "metadata": {},
   "source": [
    "1. Statistics is a science of collecting,organizing and summarizing the data. \n",
    "2. There are two types of Statistics ->\n",
    "    1. Descriptive Statistics\n",
    "    2. Inferential Statistics\n",
    "        1. Descriptive Statistics --> It consists of organizing and summarizing data which contains the methods of Measures of Central Tendency and Measures of Dispersion. \n",
    "            1. Measures of Central Tendency --> It contains various methods like finding mean,median,mode.\n",
    "            2. Measures of Dispersion --> It contains various methods like variance,standard deviation. \n",
    "            3. Different types of Graphs --> Histogram,Bar Graph, Pie chart\n",
    "        2. Inferential Statistics --> It consists of using data you've measured to form conclusions. It contains the methods like t-test,Hypothesis testing,z-test,P-value,etc. \n",
    "        \n",
    "When it is used --> \n",
    "1. Descriptive Statistics is used to organize and summarize data to get results. \n",
    "2. Inferential Statistics is used to draw conclusions from data measured.         "
   ]
  },
  {
   "cell_type": "markdown",
   "id": "3c4e10b7",
   "metadata": {},
   "source": [
    "**Q3. What are the different types of data and how do they differ from each other? Provide an example of\n",
    "each type of data.**"
   ]
  },
  {
   "cell_type": "markdown",
   "id": "4093761e",
   "metadata": {},
   "source": [
    "1. There are two types of data -> \n",
    "    1. Quantitative data \n",
    "    2. Qualitative data\n",
    "        1. Quantitative data --> This is the numerical type of data which is again divided into two types, discrete and continuous data.Quantitative data can be measured.\n",
    "            1. Discrete data --> This type of data contains only whole number. For example,no.of children in a family,no.of faculties in a specific college\n",
    "            2. Continuous data --> This type of data can contain any type of value. For example, inches of rainfall,weight of 50 students in a class.\n",
    "        2. Qualitative data --> This is also called as categorical data. It is divided into two types : Nominal and Ordinal data\n",
    "            1. Nominal data --> This type of data is divided into fix categories and divided into fix groups. For example : Gender(Male and Female),Colour of Eyes(Brown,Grey,Black,Green).\n",
    "            2. Ordinal data --> This type of data can be ranked in groups but the difference between them cannot be measured     "
   ]
  },
  {
   "cell_type": "markdown",
   "id": "2d598d81",
   "metadata": {},
   "source": [
    "**Q4. Categorise the following datasets with respect to quantitative and qualitative data types:\n",
    "(i) Grading in exam: A+, A, B+, B, C+, C, D, E\n",
    "(ii) Colour of mangoes: yellow, green, orange, red\n",
    "(iii) Height data of a class: [178.9, 179, 179.5, 176, 177.2, 178.3, 175.8,...]\n",
    "(iv) Number of mangoes exported by a farm: [500, 600, 478, 672, ...]**"
   ]
  },
  {
   "cell_type": "markdown",
   "id": "805a6467",
   "metadata": {},
   "source": [
    "1. Grading in exam: A+, A, B+, B, C+, C, D, E --> Qualitative data(Ordinal data)\n",
    "2. Colour of mangoes: yellow, green, orange, red --> Qualitative data(Nominal data)\n",
    "3. Height data of a class: [178.9, 179, 179.5, 176, 177.2, 178.3, 175.8,...] --> Quantitative data(Continuous data)\n",
    "4. Number of mangoes exported by a farm: [500, 600, 478, 672, ...] --> Quantitative data(Discrete data)"
   ]
  },
  {
   "cell_type": "markdown",
   "id": "d7301282",
   "metadata": {},
   "source": [
    "**Q5. Explain the concept of levels of measurement and give an example of a variable for each level.**"
   ]
  },
  {
   "cell_type": "markdown",
   "id": "94dc3561",
   "metadata": {},
   "source": [
    "1. There are four scale of measurement of data : \n",
    "    1. Nominal Scale data --> This type of data is involves Qualitative/Categorical data.Here,order does not matter.\n",
    "    For example : Survey of 10 people to choose colour : \n",
    "            1. Red -> 5\n",
    "            2. Blue -> 3\n",
    "            3. Yellow -> 2\n",
    "    2. Ordinal Scale data --> In this type of data,Ranking and Order matters but the difference cannot be measured.\n",
    "    For example : Qualification dataset\n",
    "        1. P.H.D. - 1st\n",
    "        2. B.E. - 3rd \n",
    "        3. Masters - 2nd \n",
    "        4. B.Com - 4th \n",
    "        5. B.Sc - 5th\n",
    "    3. Interval Scale data --> In this type of data,Ranking and Order matters as well as the difference can also be measured(excluding Ratio) but the starting point cannot be taken into consideration. \n",
    "    For example : Temperature data\n",
    "        1. 30 Fahrenheit\n",
    "        2. 45 Fahrenheit\n",
    "        3. 60 Fahrenheit\n",
    "        4. 90 Fahrenheit\n",
    "    4. Ratio Scale data --> In this type of data,Ranking and Order matters as well as the difference can also be measured and starting point is always zero and Ratio will also be taken into consideration.\n",
    "    For example : Grades \n",
    "        1. 100,90,60,45,30,15,0"
   ]
  },
  {
   "cell_type": "markdown",
   "id": "4a902309",
   "metadata": {},
   "source": [
    "**Q6. Why is it important to understand the level of measurement when analyzing data? Provide an\n",
    "example to illustrate your answer.**"
   ]
  },
  {
   "cell_type": "markdown",
   "id": "db6b4714",
   "metadata": {},
   "source": [
    "1. There are four types of level of Measurement :\n",
    "    1. Nominal Scale data\n",
    "    2. Ordinal Scale data\n",
    "    3. Interval Scale data\n",
    "    4. Ratio Scale data\n",
    "2. It is important to understand the level of measurement when analyzing data because according to level of measurement it is easy to categorize data and perform operations on them according to its type. \n",
    "3. If we have given a data for example : About Marital status and asked to perform operations on this data,then how could we recognize which operations should be performed on this data,but it is very easy to interpret with the help of level of measurements and we get to know that this is Qualitative(Nominal) type of data,because it is divided into fixed categories as 'Married' and 'Not Married'. \n",
    "4. We know that, Nominal data cannot be ranked and ordered but can be categorised so that, it is easy to perform operations on data depending upon its type and it also saves our time. "
   ]
  },
  {
   "cell_type": "markdown",
   "id": "81ec782d",
   "metadata": {},
   "source": [
    "**Q7. How nominal data type is different from ordinal data type.**"
   ]
  },
  {
   "cell_type": "markdown",
   "id": "6e7d0e6e",
   "metadata": {},
   "source": [
    "1. Nominal and Ordinal data are the two types of Qualitative data.\n",
    "2. Qualitative data is the data which can not be measured but can be categorised. \n",
    "3. Nominal data can be categorised into fix no. of categories but can't be ranked or ordered.For example : Marital Status can be categorised into two categories as 'Married' and 'Not Married',etc. Gender can be categorise into categories as 'Male' and 'Female'. \n",
    "4. Ordinal data can be categorised and ranked as well as ordered but the difference between the ranks cannot be measured. For example, Qualification can be ranked based on it's level in education system,Toppers can be listed according to the percentage they got or CGPA they got in Exams. "
   ]
  },
  {
   "cell_type": "markdown",
   "id": "664e1519",
   "metadata": {},
   "source": [
    "**Q8. Which type of plot can be used to display data in terms of range?**"
   ]
  },
  {
   "cell_type": "markdown",
   "id": "5f7a7252",
   "metadata": {},
   "source": [
    "1. Histogram is the plot that can be used to display data in terms of range. It shows the distribution of data in the set of intervals. \n",
    "2. The bin size is basically a categorical data. \n",
    "3. The height of the bars is no. of data points. "
   ]
  },
  {
   "cell_type": "markdown",
   "id": "46bf5c2e",
   "metadata": {},
   "source": [
    "**Q9. Describe the difference between descriptive and inferential statistics. Give an example of each\n",
    "type of statistics and explain how they are used.**"
   ]
  },
  {
   "cell_type": "markdown",
   "id": "e3afc20a",
   "metadata": {},
   "source": [
    "1. There are two types of statistics :\n",
    "    1. Descriptive statistics\n",
    "    2. Inferential statistics\n",
    "2. The main difference between Descriptive stats and Inferential stats is descriptive stats is used to organize and summarize data and inferential stats is used to make inferences about population or find conclusions based on sample data. \n",
    "3. Descriptive statistics contains the methods of measuring Measures of Central Tendency and Measures of Dispersion and Inferential stats contains the methods of measuring like z-test,t-test,Hypothesis testing, Annova test. \n",
    "4. Descriptive statistics analyzes and interprets the characteristics of a dataset and Inferential statistics uses sample data to make generalizations or predictions about a larger population. \n",
    "5. Descriptive statistics focuses on entire dataset and Inferential statistics focuses on sample set of data to draw conclusions about entire population. \n",
    "6. Descriptive statistics is not estimated using sample statistics but Inferential statistics estimated using sample statistics(e.g.,sample mean as an estimate of population mean.)\n",
    "7. Examples of Descriptive statistics are Mean,Mode,Median,Standard deviation,Range,Frequency tables and of Inferential statistics are Hypothesis testing,confidence intervals,regression analysis,ANOVA(analysis of variance) test,chi-square tests,t-tests. "
   ]
  },
  {
   "cell_type": "markdown",
   "id": "f557853d",
   "metadata": {},
   "source": [
    "**Q10. What are some common measures of central tendency and variability used in statistics? Explain\n",
    "how each measure can be used to describe a dataset.**"
   ]
  },
  {
   "cell_type": "markdown",
   "id": "e1cdc3cc",
   "metadata": {},
   "source": [
    "1. Measures of Central tendency : \n",
    "    1. Mean\n",
    "    2. Median \n",
    "    3. Mode\n",
    "2. Measures of Variability : \n",
    "    1. Range\n",
    "    2. Variance \n",
    "    3. Standard deviation \n",
    "3. How each measure can be used to describe a dataset : \n",
    "    1. MEASURES OF CENTRAL TENDENCY\n",
    "        1. Mean -> The mean is used to find the average of all the values in a dataset. \n",
    "        2. Median -> The median is used to find the middle value in a dataset. \n",
    "        3. Mode -> The mode is used to find the most frequent value in the dataset. \n",
    "    2. MEASURES OF VARIABILITY\n",
    "        1. Range -> Range is used to find the difference between the highest and lowest values in a dataset.It is a simple measure of how spread out the data is. \n",
    "        2. Variance -> The variance is used to find the measure of how far the values in a dataset are spread out from the mean. Basically,it is used to find out the spread of data. \n",
    "        3. Standard deviation -> The standard deviation also tells about how the data is spreaded along with median,it is more interpretable measure of variability than the variance, because it is in the same units as the data. \n",
    "    \n",
    "   "
   ]
  },
  {
   "cell_type": "code",
   "execution_count": null,
   "id": "94cad4a2",
   "metadata": {},
   "outputs": [],
   "source": []
  }
 ],
 "metadata": {
  "kernelspec": {
   "display_name": "Python 3 (ipykernel)",
   "language": "python",
   "name": "python3"
  },
  "language_info": {
   "codemirror_mode": {
    "name": "ipython",
    "version": 3
   },
   "file_extension": ".py",
   "mimetype": "text/x-python",
   "name": "python",
   "nbconvert_exporter": "python",
   "pygments_lexer": "ipython3",
   "version": "3.10.9"
  }
 },
 "nbformat": 4,
 "nbformat_minor": 5
}
